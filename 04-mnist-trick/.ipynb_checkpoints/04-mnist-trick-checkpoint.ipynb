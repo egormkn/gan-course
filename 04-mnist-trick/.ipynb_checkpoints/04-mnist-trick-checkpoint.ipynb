{
 "cells": [
  {
   "cell_type": "markdown",
   "metadata": {
    "id": "z7M9MjU1nzEC"
   },
   "source": [
    "## GAN model"
   ]
  },
  {
   "cell_type": "markdown",
   "metadata": {
    "id": "Glhi9UoTJR0T"
   },
   "source": [
    "In 2014, Ian Goodfellow and his colleagues at the University of Montreal published a stunning paper introducing the world to GANs, or generative adversarial networks. The models play two distinct (literally, adversarial) roles. Given some real data set R, G is the generator, trying to create fake data that looks just like the genuine data, while D is the discriminator, getting data from either the real set or G and labeling the difference. Goodfellow’s metaphor (and a fine one it is) was that G was like a team of forgers trying to match real paintings with their output, while D was the team of detectives trying to tell the difference. (Except that in this case, the forgers G never get to see the original data — only the judgments of D. They’re like blind forgers.)\n",
    "\n",
    "![GAN](https://raw.githubusercontent.com/manhlab/practike-gan-2021/main/gan-mnist.png)\n",
    "\n",
    "Here's what we're going to do:\n",
    "\n",
    "- Define the parameters\n",
    "- Load the data (with transforms and normalization)\n",
    "- Denormalize for visual inspection of samples\n",
    "- Define the Discriminator network, the Generator network\n",
    "- Study the activation function: Leaky ReLU\n",
    "- Explain the output activation function: Tanh, Sigmoid\n",
    "- Look at some sample outputs\n",
    "- Define losses, optimizers and helper functions for training\n",
    " - For discriminator\n",
    " -  For generator\n",
    "- Train the model\n",
    "- Save intermediate generated images to file\n",
    "- Look at some outputs\n",
    "- Save the models\n",
    "\n",
    "![MNIST](https://i.imgur.com/CAYnuo1.jpeg)"
   ]
  },
  {
   "cell_type": "markdown",
   "metadata": {
    "id": "eLj6X3bVn3eT"
   },
   "source": [
    "### Define parameters & Load Dataset "
   ]
  },
  {
   "cell_type": "code",
   "execution_count": null,
   "metadata": {
    "colab": {
     "base_uri": "https://localhost:8080/",
     "height": 1000,
     "referenced_widgets": [
      "3314b3d4b9af4aa38cb58181f5b2dd71",
      "1f46e0e357a14cfab3b43862c9cd2233",
      "5d5f5d702ad14f25971045bf233611db",
      "19a25230ae0c4ed080ca5e1f36ca36dc",
      "63bdff4ef70f49d3a41a492af2909801",
      "1b35d0160f6b48d480aeb75866a3941e",
      "0985157d15bf479f880e4979fa4f712d",
      "4105f26461c84615938582854925e93d",
      "eac2427b6dc84c7ca7d6fef4faa5b69c",
      "bde9a48c6add4dd393c5e07182f5957e",
      "dd5683aa30094049aaf6a9f28bf5c856",
      "751ce17b86c4426ba867cfc8685f1ad0",
      "2cd3368cc09549b3bc17f78be2470e20",
      "2b13cc32761646aaaedba8bf3718c86c",
      "a4fb6ee278494e228b2ae6655f8d5e55",
      "013f534f0c474777b0d359a2b4b005ab",
      "46e98ebb23604311ae471c477eba3d2f",
      "8aaee0f479524cbcb42eb34e7d8f6552",
      "cda6df941e4848ab9ed762adba732f25",
      "c23f6db2ce86452aac45d171502ba4be",
      "b86a2ea4fb524a728213e4b2253d0d94",
      "87c2d63c6e9947ffa7da81884dc145d1",
      "3a93de16640f4795a3187db9a172a33c",
      "94de93619b2245179cfd9b6d425591f9",
      "b6b03e8e312d40169d425ab38c88b333",
      "cfc171cd72fb4fbf892ce7514559cc19",
      "def33ef5b3c44505b62812ede7b827bd",
      "5c450f64677f402fb1bb39749a4f3c88",
      "228d7562a7374f068824cba5181a7347",
      "93da323ab58c452d935bb0b1bf4d248f",
      "55e7fc43754b4ac595cc142e21d58794",
      "09e9e96101fc41cf8699a8da6c2fe60f"
     ]
    },
    "id": "nLFY9bjosRUf",
    "outputId": "ed8774c5-ad15-4ca0-9a22-2f2d42418b20"
   },
   "outputs": [
    {
     "name": "stdout",
     "output_type": "stream",
     "text": [
      "Tue Jul 20 10:15:34 2021       \n",
      "+-----------------------------------------------------------------------------+\n",
      "| NVIDIA-SMI 470.42.01    Driver Version: 460.32.03    CUDA Version: 11.2     |\n",
      "|-------------------------------+----------------------+----------------------+\n",
      "| GPU  Name        Persistence-M| Bus-Id        Disp.A | Volatile Uncorr. ECC |\n",
      "| Fan  Temp  Perf  Pwr:Usage/Cap|         Memory-Usage | GPU-Util  Compute M. |\n",
      "|                               |                      |               MIG M. |\n",
      "|===============================+======================+======================|\n",
      "|   0  Tesla P100-PCIE...  Off  | 00000000:00:04.0 Off |                    0 |\n",
      "| N/A   38C    P0    26W / 250W |      2MiB / 16280MiB |      0%      Default |\n",
      "|                               |                      |                  N/A |\n",
      "+-------------------------------+----------------------+----------------------+\n",
      "                                                                               \n",
      "+-----------------------------------------------------------------------------+\n",
      "| Processes:                                                                  |\n",
      "|  GPU   GI   CI        PID   Type   Process name                  GPU Memory |\n",
      "|        ID   ID                                                   Usage      |\n",
      "|=============================================================================|\n",
      "|  No running processes found                                                 |\n",
      "+-----------------------------------------------------------------------------+\n",
      "Downloading http://yann.lecun.com/exdb/mnist/train-images-idx3-ubyte.gz\n",
      "Failed to download (trying next):\n",
      "HTTP Error 503: Service Unavailable\n",
      "\n",
      "Downloading https://ossci-datasets.s3.amazonaws.com/mnist/train-images-idx3-ubyte.gz\n",
      "Downloading https://ossci-datasets.s3.amazonaws.com/mnist/train-images-idx3-ubyte.gz to data/MNIST/raw/train-images-idx3-ubyte.gz\n"
     ]
    },
    {
     "data": {
      "application/vnd.jupyter.widget-view+json": {
       "model_id": "3314b3d4b9af4aa38cb58181f5b2dd71",
       "version_major": 2,
       "version_minor": 0
      },
      "text/plain": [
       "HBox(children=(FloatProgress(value=0.0, max=9912422.0), HTML(value='')))"
      ]
     },
     "metadata": {
      "tags": []
     },
     "output_type": "display_data"
    },
    {
     "name": "stdout",
     "output_type": "stream",
     "text": [
      "\n",
      "Extracting data/MNIST/raw/train-images-idx3-ubyte.gz to data/MNIST/raw\n",
      "\n",
      "Downloading http://yann.lecun.com/exdb/mnist/train-labels-idx1-ubyte.gz\n",
      "Failed to download (trying next):\n",
      "HTTP Error 503: Service Unavailable\n",
      "\n",
      "Downloading https://ossci-datasets.s3.amazonaws.com/mnist/train-labels-idx1-ubyte.gz\n",
      "Downloading https://ossci-datasets.s3.amazonaws.com/mnist/train-labels-idx1-ubyte.gz to data/MNIST/raw/train-labels-idx1-ubyte.gz\n"
     ]
    },
    {
     "data": {
      "application/vnd.jupyter.widget-view+json": {
       "model_id": "eac2427b6dc84c7ca7d6fef4faa5b69c",
       "version_major": 2,
       "version_minor": 0
      },
      "text/plain": [
       "HBox(children=(FloatProgress(value=0.0, max=28881.0), HTML(value='')))"
      ]
     },
     "metadata": {
      "tags": []
     },
     "output_type": "display_data"
    },
    {
     "name": "stdout",
     "output_type": "stream",
     "text": [
      "\n",
      "Extracting data/MNIST/raw/train-labels-idx1-ubyte.gz to data/MNIST/raw\n",
      "\n",
      "Downloading http://yann.lecun.com/exdb/mnist/t10k-images-idx3-ubyte.gz\n",
      "Failed to download (trying next):\n",
      "HTTP Error 503: Service Unavailable\n",
      "\n",
      "Downloading https://ossci-datasets.s3.amazonaws.com/mnist/t10k-images-idx3-ubyte.gz\n",
      "Downloading https://ossci-datasets.s3.amazonaws.com/mnist/t10k-images-idx3-ubyte.gz to data/MNIST/raw/t10k-images-idx3-ubyte.gz\n"
     ]
    },
    {
     "data": {
      "application/vnd.jupyter.widget-view+json": {
       "model_id": "46e98ebb23604311ae471c477eba3d2f",
       "version_major": 2,
       "version_minor": 0
      },
      "text/plain": [
       "HBox(children=(FloatProgress(value=0.0, max=1648877.0), HTML(value='')))"
      ]
     },
     "metadata": {
      "tags": []
     },
     "output_type": "display_data"
    },
    {
     "name": "stdout",
     "output_type": "stream",
     "text": [
      "\n",
      "Extracting data/MNIST/raw/t10k-images-idx3-ubyte.gz to data/MNIST/raw\n",
      "\n",
      "Downloading http://yann.lecun.com/exdb/mnist/t10k-labels-idx1-ubyte.gz\n",
      "Failed to download (trying next):\n",
      "HTTP Error 503: Service Unavailable\n",
      "\n",
      "Downloading https://ossci-datasets.s3.amazonaws.com/mnist/t10k-labels-idx1-ubyte.gz\n",
      "Downloading https://ossci-datasets.s3.amazonaws.com/mnist/t10k-labels-idx1-ubyte.gz to data/MNIST/raw/t10k-labels-idx1-ubyte.gz\n"
     ]
    },
    {
     "data": {
      "application/vnd.jupyter.widget-view+json": {
       "model_id": "b6b03e8e312d40169d425ab38c88b333",
       "version_major": 2,
       "version_minor": 0
      },
      "text/plain": [
       "HBox(children=(FloatProgress(value=0.0, max=4542.0), HTML(value='')))"
      ]
     },
     "metadata": {
      "tags": []
     },
     "output_type": "display_data"
    },
    {
     "name": "stdout",
     "output_type": "stream",
     "text": [
      "\n",
      "Extracting data/MNIST/raw/t10k-labels-idx1-ubyte.gz to data/MNIST/raw\n",
      "\n"
     ]
    },
    {
     "name": "stderr",
     "output_type": "stream",
     "text": [
      "/usr/local/lib/python3.7/dist-packages/torchvision/datasets/mnist.py:498: UserWarning: The given NumPy array is not writeable, and PyTorch does not support non-writeable tensors. This means you can write to the underlying (supposedly non-writeable) NumPy array using the tensor. You may want to copy the array to protect its data or make it writeable before converting it to a tensor. This type of warning will be suppressed for the rest of this program. (Triggered internally at  /pytorch/torch/csrc/utils/tensor_numpy.cpp:180.)\n",
      "  return torch.from_numpy(parsed.astype(m[2], copy=False)).view(*s)\n"
     ]
    }
   ],
   "source": [
    "import torch \n",
    "import torch.nn as nn\n",
    "import numpy as np\n",
    "import cv2\n",
    "import matplotlib.pyplot as plt\n",
    "import torchvision\n",
    "from torchvision.transforms import ToTensor, Normalize, Compose\n",
    "from torchvision.datasets import MNIST\n",
    "from IPython.display import Image\n",
    "from torchvision.utils import save_image\n",
    "import os\n",
    "%matplotlib inline \n",
    "plt.style.use(\"ggplot\")\n",
    "hidden_size = 256 \n",
    "batch_size = 100 \n",
    "LR = 0.0002\n",
    "num_epochs = 300\n",
    "sample_dir = \"./images\"\n",
    "latent_size = 64 # input random input vector latent\n",
    "image_size = 784 # 28*28 flatten\n",
    "device = 'cuda' if torch.cuda.is_available() else 'cpu'\n",
    "if device == 'cuda':\n",
    "  !nvidia-smi\n",
    "if not os.path.exists(sample_dir):\n",
    "    os.makedirs(sample_dir)\n",
    "mnist = MNIST(root='data', \n",
    "              train=True, \n",
    "              download=True,\n",
    "              transform=Compose([ToTensor(), Normalize(mean=(0.5,), std=(0.5,))]))"
   ]
  },
  {
   "cell_type": "code",
   "execution_count": null,
   "metadata": {
    "colab": {
     "base_uri": "https://localhost:8080/",
     "height": 399
    },
    "id": "eqWQgynEskfc",
    "outputId": "dabde7cf-1793-4e0a-f756-38db645ebe91"
   },
   "outputs": [
    {
     "name": "stdout",
     "output_type": "stream",
     "text": [
      "Label:  5\n"
     ]
    },
    {
     "data": {
      "text/plain": [
       "(array([55.,  4.,  3.,  0.,  3.,  2.,  1.,  0.,  1.,  3.,  1.,  3.,  2.,\n",
       "         1., 21.]),\n",
       " array([-1.        , -0.86771244, -0.7354248 , -0.60313725, -0.47084966,\n",
       "        -0.3385621 , -0.20627451, -0.07398693,  0.05830066,  0.19058824,\n",
       "         0.32287583,  0.4551634 ,  0.587451  ,  0.71973854,  0.85202616,\n",
       "         0.9843137 ], dtype=float32),\n",
       " <a list of 15 Patch objects>)"
      ]
     },
     "execution_count": 2,
     "metadata": {
      "tags": []
     },
     "output_type": "execute_result"
    },
    {
     "data": {
      "image/png": "[encoded data removed]",
      "text/plain": [
       "<Figure size 432x288 with 1 Axes>"
      ]
     },
     "metadata": {
      "needs_background": "light",
      "tags": []
     },
     "output_type": "display_data"
    }
   ],
   "source": [
    "img, label = mnist[0]\n",
    "print('Label: ', label)\n",
    "plt.hist(img[:,5:15,5:15].flatten(), bins=15)"
   ]
  },
  {
   "cell_type": "code",
   "execution_count": null,
   "metadata": {
    "id": "AJ99uFMbs0Tv"
   },
   "outputs": [],
   "source": [
    "# denormalization image from range (-1)-1 to range 0-1 to display it\n",
    "def denorm(x):\n",
    "    "
   ]
  },
  {
   "cell_type": "code",
   "execution_count": null,
   "metadata": {
    "colab": {
     "base_uri": "https://localhost:8080/",
     "height": 282
    },
    "id": "u6Jk2l71s60n",
    "outputId": "e8376416-13be-4196-d9d5-51b3967a1b87"
   },
   "outputs": [
    {
     "name": "stdout",
     "output_type": "stream",
     "text": [
      "Label: 5\n"
     ]
    },
    {
     "data": {
      "image/png": "[encoded data removed]",
      "text/plain": [
       "<Figure size 432x288 with 1 Axes>"
      ]
     },
     "metadata": {
      "needs_background": "light",
      "tags": []
     },
     "output_type": "display_data"
    }
   ],
   "source": [
    "# show  image sample with matplotlib\n",
    "\n"
   ]
  },
  {
   "cell_type": "code",
   "execution_count": null,
   "metadata": {
    "id": "OtFjF7Qgs7UN"
   },
   "outputs": [],
   "source": [
    "# define the dataloader\n",
    "\n"
   ]
  },
  {
   "cell_type": "markdown",
   "metadata": {
    "id": "rPHV6bpRLBCN"
   },
   "source": [
    "GAN состоит из двух глубоких сетей, генератора и дискриминатора. генератор создает изображения, прежде чем научиться его обучать. Поскольку дискриминатор представляет собой модель бинарной классификации, мы можем использовать функцию потери бинарной кросс-энтропии для количественной оценки того, насколько хорошо он может различать реальные и сгенерированные изображения.\n",
    "\n",
    "![](https://raw.githubusercontent.com/manhlab/practike-gan-2021/main/generator.png)\n",
    "\n",
    "![](https://raw.githubusercontent.com/manhlab/practike-gan-2021/main/discriminator.png)"
   ]
  },
  {
   "cell_type": "markdown",
   "metadata": {
    "id": "MDht8czPq2ix"
   },
   "source": [
    "# Спектральная нормализация"
   ]
  },
  {
   "cell_type": "code",
   "execution_count": null,
   "metadata": {
    "id": "kMTRRCOzpKGr"
   },
   "outputs": [],
   "source": [
    "import torch\n",
    "from torch.optim.optimizer import Optimizer, required\n",
    "\n",
    "from torch.autograd import Variable\n",
    "import torch.nn.functional as F\n",
    "from torch import nn\n",
    "from torch import Tensor\n",
    "from torch.nn import Parameter\n",
    "\n",
    "def l2normalize(v, eps=1e-12):\n",
    "    return v / (v.norm() + eps)\n",
    "\n",
    "\n",
    "class SpectralNorm(nn.Module):\n",
    "    def __init__(self, module, name='weight', power_iterations=1):\n",
    "        super(SpectralNorm, self).__init__()\n",
    "        self.module = module\n",
    "        self.name = name\n",
    "        self.power_iterations = power_iterations\n",
    "        if not self._made_params():\n",
    "            self._make_params()\n",
    "\n",
    "    def _update_u_v(self):\n",
    "        u = getattr(self.module, self.name + \"_u\")\n",
    "        v = getattr(self.module, self.name + \"_v\")\n",
    "        w = getattr(self.module, self.name + \"_bar\")\n",
    "\n",
    "        height = w.data.shape[0]\n",
    "        for _ in range(self.power_iterations):\n",
    "            v.data = l2normalize(torch.mv(torch.t(w.view(height,-1).data), u.data))\n",
    "            u.data = l2normalize(torch.mv(w.view(height,-1).data, v.data))\n",
    "\n",
    "        # sigma = torch.dot(u.data, torch.mv(w.view(height,-1).data, v.data))\n",
    "        sigma = u.dot(w.view(height, -1).mv(v))\n",
    "        setattr(self.module, self.name, w / sigma.expand_as(w))\n",
    "\n",
    "    def _made_params(self):\n",
    "        try:\n",
    "            u = getattr(self.module, self.name + \"_u\")\n",
    "            v = getattr(self.module, self.name + \"_v\")\n",
    "            w = getattr(self.module, self.name + \"_bar\")\n",
    "            return True\n",
    "        except AttributeError:\n",
    "            return False\n",
    "\n",
    "\n",
    "    def _make_params(self):\n",
    "        w = getattr(self.module, self.name)\n",
    "\n",
    "        height = w.data.shape[0]\n",
    "        width = w.view(height, -1).data.shape[1]\n",
    "\n",
    "        u = Parameter(w.data.new(height).normal_(0, 1), requires_grad=False)\n",
    "        v = Parameter(w.data.new(width).normal_(0, 1), requires_grad=False)\n",
    "        u.data = l2normalize(u.data)\n",
    "        v.data = l2normalize(v.data)\n",
    "        w_bar = Parameter(w.data)\n",
    "\n",
    "        del self.module._parameters[self.name]\n",
    "\n",
    "        self.module.register_parameter(self.name + \"_u\", u)\n",
    "        self.module.register_parameter(self.name + \"_v\", v)\n",
    "        self.module.register_parameter(self.name + \"_bar\", w_bar)\n",
    "\n",
    "\n",
    "    def forward(self, *args):\n",
    "        self._update_u_v()\n",
    "        return self.module.forward(*args)"
   ]
  },
  {
   "cell_type": "markdown",
   "metadata": {
    "id": "gp7S-XvG_Sub"
   },
   "source": [
    "## Tricks \n",
    "- use deepper CNN\n",
    "- use LeakyRELU instead of ReLU\n",
    "- use BatchNorm, Dropout\n",
    "- SpectralNorm"
   ]
  },
  {
   "cell_type": "code",
   "execution_count": null,
   "metadata": {
    "id": "5mqLi2BcuqHh"
   },
   "outputs": [],
   "source": [
    "class Generator(nn.Module):\n",
    "  def __init__(self, latent_size,image_size, hidden_size):\n",
    "    super(Generator, self).__init__()\n",
    "    ## set a linear layer with input size is latent_size and output size is hidden_size\n",
    "    #set a Dropout\n",
    "    #set a BatchNorm1d\n",
    "    #set a linear layer with input size is hidden_size and output size is hidden_size\n",
    "    #set a Dropout\n",
    "    #set a linear layer with input size is hidden_size and output size is image_size\n",
    "    \n",
    "  def forward(self, x):\n",
    "    # forward x -> linear1 -> LeakyReLU -> Dropout-> BatchNorm1d-> linear2 -> LeakyReLU -> Dropout-> linear3 -> tanh\n",
    "    return x\n",
    "\n",
    "class Discriminator(nn.Module):\n",
    "  def __init__(self, image_size, hidden_size):\n",
    "    super(Discriminator, self).__init__()\n",
    "    ## set a SpectralNorm linear layer with input size is latent_size and output size is hidden_size\n",
    "    #set a Dropout\n",
    "    #set a SpectralNorm BatchNorm1d\n",
    "    #set a SpectralNorm linear layer with input size is hidden_size and output size is hidden_size\n",
    "    #set a SpectralNorm linear layer with input size is hidden_size and output size is 1\n",
    "  def forward(self, x):\n",
    "    # forward x -> linear1 ->  LeakyReLU ->Dropout->BatchNorm1d->  linear2 -> LeakyReLU ->Dropout-> linear3 -> sigmoid\n",
    "    return x"
   ]
  },
  {
   "cell_type": "code",
   "execution_count": null,
   "metadata": {
    "id": "3UmIcluuuspN"
   },
   "outputs": [],
   "source": [
    "# create new Generator model\n",
    "\n",
    "# create new Discriminator model"
   ]
  },
  {
   "cell_type": "code",
   "execution_count": null,
   "metadata": {
    "id": "tde-ysXauzTM"
   },
   "outputs": [],
   "source": [
    "# show the output of model \n",
    "y = G(torch.randn(2, latent_size))"
   ]
  },
  {
   "cell_type": "code",
   "execution_count": null,
   "metadata": {
    "colab": {
     "base_uri": "https://localhost:8080/",
     "height": 265
    },
    "id": "aArqXbk1u2Mn",
    "outputId": "05805eee-5788-485a-86c8-3b4f537a0601"
   },
   "outputs": [
    {
     "data": {
      "image/png": "[encoded data removed]",
      "text/plain": [
       "<Figure size 432x288 with 1 Axes>"
      ]
     },
     "metadata": {
      "needs_background": "light",
      "tags": []
     },
     "output_type": "display_data"
    }
   ],
   "source": [
    "plt.imshow(gen_imgs[0], cmap='gray');"
   ]
  },
  {
   "cell_type": "code",
   "execution_count": null,
   "metadata": {
    "id": "NIbCDXeWU4me"
   },
   "outputs": [],
   "source": [
    "# implement feauture matching from this paper: https://paperswithcode.com/method/feature-matching \n",
    "# define the criterion \n",
    "## Define the optimizer for generator and discrimator, Adam with weight_decay, amsgrad=True"
   ]
  },
  {
   "cell_type": "markdown",
   "metadata": {
    "id": "iSuQWvwfGIz1"
   },
   "source": [
    "Discriminator Training"
   ]
  },
  {
   "cell_type": "code",
   "execution_count": null,
   "metadata": {
    "id": "TTvhcvS7bBKJ"
   },
   "outputs": [],
   "source": [
    "# Label Smoothing, i.e. if you have two target labels: Real=1 and Fake=0, then for each incoming sample,\n",
    "#  if it is real, then replace the label with a random number between 0.7 and 1.2, and \n",
    "#  if it is a fake sample, replace it with 0.0 and 0.3 (for example).\n",
    "#make the labels the noisy for the discriminator: occasionally flip the labels when training the discriminator"
   ]
  },
  {
   "cell_type": "code",
   "execution_count": null,
   "metadata": {
    "id": "QpDUg561u76k"
   },
   "outputs": [],
   "source": [
    "\n",
    "def reset_grad():\n",
    "    ## reset gradient for optimizer of generator and discrimator\n",
    "  \n",
    "\n",
    "LABEL_SMOOTH = 0.95\n",
    "def train_discriminator(images):\n",
    "  \n",
    "    # Create the labels which are later used as input for the BCE loss\n",
    "    real_labels = torch.ones(batch_size, 1).to(device)*LABEL_SMOOTH\n",
    "    fake_labels = torch.ones(batch_size, 1).to(device)*(1- LABEL_SMOOTH)\n",
    "        \n",
    "    \n",
    "    outputs = D(images)\n",
    "    # Loss for real images\n",
    "    real_score = outputs\n",
    "    # Loss for fake images\n",
    "    \n",
    "    z = torch.randn(batch_size, latent_size).to(device)\n",
    "    fake_images = G(z)\n",
    "    outputs = D(fake_images)\n",
    "    d_loss_fake = criterion(outputs, fake_labels)\n",
    "    fake_score = outputs\n",
    "\n",
    "    # Sum losses\n",
    "\n",
    "    # Reset gradients\n",
    "\n",
    "    # Compute gradients\n",
    "\n",
    "    # Adjust the parameters using backprop\n",
    "    \n",
    "    return d_loss, real_score, fake_score"
   ]
  },
  {
   "cell_type": "markdown",
   "metadata": {
    "id": "Xozik5p6GPY-"
   },
   "source": [
    "Generator Training"
   ]
  },
  {
   "cell_type": "code",
   "execution_count": null,
   "metadata": {
    "id": "w1bXvHoAcwE8"
   },
   "outputs": [],
   "source": [
    "#Add guass noise\n",
    "#noise = 0.005*np.random.uniform()*np.amax(sound)"
   ]
  },
  {
   "cell_type": "code",
   "execution_count": null,
   "metadata": {
    "id": "W2ObcPjTvBgw"
   },
   "outputs": [],
   "source": [
    "def train_generator():\n",
    "    # Generate fake images and calculate loss\n",
    "    # z = torch.randn(batch_size, latent_size).to(device)\n",
    "    z = np.random.normal(0, 1, (batch_size, latent_size))\n",
    "    noise = 0.005*np.random.uniform()*np.amax(z)\n",
    "    z = z.astype('float64') + noise*np.random.normal(size=z.shape)\n",
    "    z = torch.Tensor(z).to(device)\n",
    "    fake_images = G(z)\n",
    "    labels = torch.ones(batch_size, 1).to(device)\n",
    "    # calculate the generator loss\n",
    "\n",
    "    \n",
    "    # Reset gradients\n",
    "    \n",
    "    # Backprop and optimize\n",
    "    return g_loss, fake_images"
   ]
  },
  {
   "cell_type": "markdown",
   "metadata": {
    "id": "B6PjuMssQkkL"
   },
   "source": [
    "## Start the training proccess"
   ]
  },
  {
   "cell_type": "code",
   "execution_count": null,
   "metadata": {
    "id": "YJPoUoJzG8RC"
   },
   "outputs": [],
   "source": [
    "def save_fake_images(index):\n",
    "    # sample_vectors = torch.randn(batch_size, latent_size).to(device)\n",
    "    z = np.random.normal(0, 1, (batch_size, latent_size))\n",
    "    noise = 0.005*np.random.uniform()*np.amax(z)\n",
    "    z = z.astype('float64') + noise*np.random.normal(size=z.shape)\n",
    "    z = torch.Tensor(z).to(device)\n",
    "    fake_images = G(z)\n",
    "    fake_images = fake_images.reshape(fake_images.size(0), 1, 28, 28)\n",
    "    fake_fname = 'fake_images-{0:0=4d}.png'.format(index)\n",
    "    print('Saving', fake_fname)\n",
    "    save_image(denorm(fake_images), os.path.join(sample_dir, fake_fname), nrow=10)"
   ]
  },
  {
   "cell_type": "code",
   "execution_count": null,
   "metadata": {
    "colab": {
     "base_uri": "https://localhost:8080/"
    },
    "id": "9jMuzvUtvD26",
    "outputId": "1bd0bef1-4207-4d2e-983a-42196bc62a32"
   },
   "outputs": [
    {
     "name": "stdout",
     "output_type": "stream",
     "text": [
      "Epoch [0/300], Step [200/600], d_loss: 1.3665, g_loss: 0.7125, D(x): 0.50, D(G(z)): 0.49\n",
      "Epoch [0/300], Step [400/600], d_loss: 1.3589, g_loss: 0.7163, D(x): 0.51, D(G(z)): 0.49\n",
      "Epoch [0/300], Step [600/600], d_loss: 1.3501, g_loss: 0.7128, D(x): 0.51, D(G(z)): 0.49\n",
      "Saving fake_images-0001.png\n",
      "Epoch [1/300], Step [200/600], d_loss: 1.3303, g_loss: 0.7253, D(x): 0.52, D(G(z)): 0.48\n",
      "Epoch [1/300], Step [400/600], d_loss: 1.3220, g_loss: 0.7273, D(x): 0.52, D(G(z)): 0.48\n",
      "Epoch [1/300], Step [600/600], d_loss: 1.3270, g_loss: 0.7293, D(x): 0.52, D(G(z)): 0.48\n",
      "Saving fake_images-0002.png\n",
      "Epoch [2/300], Step [200/600], d_loss: 1.3105, g_loss: 0.7354, D(x): 0.52, D(G(z)): 0.48\n",
      "Epoch [2/300], Step [400/600], d_loss: 1.3156, g_loss: 0.7361, D(x): 0.52, D(G(z)): 0.48\n",
      "Epoch [2/300], Step [600/600], d_loss: 1.3051, g_loss: 0.7407, D(x): 0.52, D(G(z)): 0.48\n",
      "Saving fake_images-0003.png\n",
      "Epoch [3/300], Step [200/600], d_loss: 1.3154, g_loss: 0.7417, D(x): 0.52, D(G(z)): 0.48\n",
      "Epoch [3/300], Step [400/600], d_loss: 1.3150, g_loss: 0.7398, D(x): 0.52, D(G(z)): 0.48\n",
      "Epoch [3/300], Step [600/600], d_loss: 1.3267, g_loss: 0.7272, D(x): 0.52, D(G(z)): 0.48\n",
      "Saving fake_images-0004.png\n",
      "Epoch [4/300], Step [200/600], d_loss: 1.3380, g_loss: 0.7193, D(x): 0.51, D(G(z)): 0.49\n",
      "Epoch [4/300], Step [400/600], d_loss: 1.3472, g_loss: 0.7190, D(x): 0.51, D(G(z)): 0.49\n",
      "Epoch [4/300], Step [600/600], d_loss: 1.3644, g_loss: 0.7015, D(x): 0.51, D(G(z)): 0.49\n",
      "Saving fake_images-0005.png\n",
      "Epoch [5/300], Step [200/600], d_loss: 1.3605, g_loss: 0.7097, D(x): 0.51, D(G(z)): 0.49\n",
      "Epoch [5/300], Step [400/600], d_loss: 1.3692, g_loss: 0.7102, D(x): 0.50, D(G(z)): 0.49\n",
      "Epoch [5/300], Step [600/600], d_loss: 1.3697, g_loss: 0.7071, D(x): 0.50, D(G(z)): 0.49\n",
      "Saving fake_images-0006.png\n",
      "Epoch [6/300], Step [200/600], d_loss: 1.3660, g_loss: 0.7054, D(x): 0.51, D(G(z)): 0.50\n",
      "Epoch [6/300], Step [400/600], d_loss: 1.3783, g_loss: 0.6999, D(x): 0.50, D(G(z)): 0.50\n",
      "Epoch [6/300], Step [600/600], d_loss: 1.3706, g_loss: 0.6994, D(x): 0.51, D(G(z)): 0.50\n",
      "Saving fake_images-0007.png\n",
      "Epoch [7/300], Step [200/600], d_loss: 1.3739, g_loss: 0.7067, D(x): 0.50, D(G(z)): 0.50\n",
      "Epoch [7/300], Step [400/600], d_loss: 1.3712, g_loss: 0.7013, D(x): 0.50, D(G(z)): 0.50\n",
      "Epoch [7/300], Step [600/600], d_loss: 1.3722, g_loss: 0.7036, D(x): 0.50, D(G(z)): 0.50\n",
      "Saving fake_images-0008.png\n",
      "Epoch [8/300], Step [200/600], d_loss: 1.3694, g_loss: 0.7032, D(x): 0.50, D(G(z)): 0.49\n",
      "Epoch [8/300], Step [400/600], d_loss: 1.3688, g_loss: 0.7021, D(x): 0.50, D(G(z)): 0.49\n",
      "Epoch [8/300], Step [600/600], d_loss: 1.3678, g_loss: 0.7036, D(x): 0.51, D(G(z)): 0.50\n",
      "Saving fake_images-0009.png\n",
      "Epoch [9/300], Step [200/600], d_loss: 1.3710, g_loss: 0.7043, D(x): 0.50, D(G(z)): 0.50\n",
      "Epoch [9/300], Step [400/600], d_loss: 1.3683, g_loss: 0.7091, D(x): 0.50, D(G(z)): 0.49\n",
      "Epoch [9/300], Step [600/600], d_loss: 1.3627, g_loss: 0.7026, D(x): 0.51, D(G(z)): 0.49\n",
      "Saving fake_images-0010.png\n",
      "Epoch [10/300], Step [200/600], d_loss: 1.3698, g_loss: 0.7052, D(x): 0.50, D(G(z)): 0.49\n",
      "Epoch [10/300], Step [400/600], d_loss: 1.3790, g_loss: 0.7002, D(x): 0.50, D(G(z)): 0.50\n",
      "Epoch [10/300], Step [600/600], d_loss: 1.3729, g_loss: 0.6983, D(x): 0.50, D(G(z)): 0.50\n",
      "Saving fake_images-0011.png\n",
      "Epoch [11/300], Step [200/600], d_loss: 1.3703, g_loss: 0.7043, D(x): 0.50, D(G(z)): 0.49\n",
      "Epoch [11/300], Step [400/600], d_loss: 1.3742, g_loss: 0.7029, D(x): 0.50, D(G(z)): 0.50\n",
      "Epoch [11/300], Step [600/600], d_loss: 1.3763, g_loss: 0.6981, D(x): 0.50, D(G(z)): 0.50\n",
      "Saving fake_images-0012.png\n",
      "Epoch [12/300], Step [200/600], d_loss: 1.3713, g_loss: 0.6999, D(x): 0.50, D(G(z)): 0.49\n",
      "Epoch [12/300], Step [400/600], d_loss: 1.3764, g_loss: 0.7005, D(x): 0.50, D(G(z)): 0.50\n",
      "Epoch [12/300], Step [600/600], d_loss: 1.3684, g_loss: 0.7051, D(x): 0.51, D(G(z)): 0.49\n",
      "Saving fake_images-0013.png\n",
      "Epoch [13/300], Step [200/600], d_loss: 1.3721, g_loss: 0.7005, D(x): 0.50, D(G(z)): 0.49\n",
      "Epoch [13/300], Step [400/600], d_loss: 1.3691, g_loss: 0.7046, D(x): 0.50, D(G(z)): 0.49\n",
      "Epoch [13/300], Step [600/600], d_loss: 1.3684, g_loss: 0.7058, D(x): 0.51, D(G(z)): 0.50\n",
      "Saving fake_images-0014.png\n",
      "Epoch [14/300], Step [200/600], d_loss: 1.3719, g_loss: 0.7042, D(x): 0.50, D(G(z)): 0.50\n",
      "Epoch [14/300], Step [400/600], d_loss: 1.3692, g_loss: 0.7049, D(x): 0.50, D(G(z)): 0.49\n",
      "Epoch [14/300], Step [600/600], d_loss: 1.3709, g_loss: 0.7039, D(x): 0.50, D(G(z)): 0.50\n",
      "Saving fake_images-0015.png\n",
      "Epoch [15/300], Step [200/600], d_loss: 1.3709, g_loss: 0.7058, D(x): 0.50, D(G(z)): 0.49\n",
      "Epoch [15/300], Step [400/600], d_loss: 1.3682, g_loss: 0.7064, D(x): 0.50, D(G(z)): 0.49\n",
      "Epoch [15/300], Step [600/600], d_loss: 1.3662, g_loss: 0.7085, D(x): 0.51, D(G(z)): 0.49\n",
      "Saving fake_images-0016.png\n",
      "Epoch [16/300], Step [200/600], d_loss: 1.3702, g_loss: 0.7046, D(x): 0.50, D(G(z)): 0.50\n",
      "Epoch [16/300], Step [400/600], d_loss: 1.3663, g_loss: 0.7047, D(x): 0.51, D(G(z)): 0.49\n",
      "Epoch [16/300], Step [600/600], d_loss: 1.3686, g_loss: 0.7054, D(x): 0.50, D(G(z)): 0.49\n",
      "Saving fake_images-0017.png\n",
      "Epoch [17/300], Step [200/600], d_loss: 1.3664, g_loss: 0.7076, D(x): 0.51, D(G(z)): 0.49\n",
      "Epoch [17/300], Step [400/600], d_loss: 1.3640, g_loss: 0.7073, D(x): 0.51, D(G(z)): 0.49\n",
      "Epoch [17/300], Step [600/600], d_loss: 1.3691, g_loss: 0.7025, D(x): 0.50, D(G(z)): 0.50\n",
      "Saving fake_images-0018.png\n",
      "Epoch [18/300], Step [200/600], d_loss: 1.3647, g_loss: 0.7046, D(x): 0.51, D(G(z)): 0.49\n",
      "Epoch [18/300], Step [400/600], d_loss: 1.3648, g_loss: 0.7050, D(x): 0.51, D(G(z)): 0.50\n",
      "Epoch [18/300], Step [600/600], d_loss: 1.3679, g_loss: 0.7079, D(x): 0.51, D(G(z)): 0.49\n",
      "Saving fake_images-0019.png\n",
      "Epoch [19/300], Step [200/600], d_loss: 1.3687, g_loss: 0.7049, D(x): 0.51, D(G(z)): 0.50\n",
      "Epoch [19/300], Step [400/600], d_loss: 1.3658, g_loss: 0.7037, D(x): 0.51, D(G(z)): 0.49\n",
      "Epoch [19/300], Step [600/600], d_loss: 1.3669, g_loss: 0.7019, D(x): 0.51, D(G(z)): 0.50\n",
      "Saving fake_images-0020.png\n",
      "Epoch [20/300], Step [200/600], d_loss: 1.3649, g_loss: 0.7017, D(x): 0.51, D(G(z)): 0.50\n",
      "Epoch [20/300], Step [400/600], d_loss: 1.3639, g_loss: 0.7070, D(x): 0.51, D(G(z)): 0.49\n",
      "Epoch [20/300], Step [600/600], d_loss: 1.3672, g_loss: 0.7069, D(x): 0.50, D(G(z)): 0.49\n",
      "Saving fake_images-0021.png\n",
      "Epoch [21/300], Step [200/600], d_loss: 1.3705, g_loss: 0.7032, D(x): 0.51, D(G(z)): 0.50\n",
      "Epoch [21/300], Step [400/600], d_loss: 1.3730, g_loss: 0.7022, D(x): 0.50, D(G(z)): 0.50\n",
      "Epoch [21/300], Step [600/600], d_loss: 1.3683, g_loss: 0.7038, D(x): 0.51, D(G(z)): 0.50\n",
      "Saving fake_images-0022.png\n",
      "Epoch [22/300], Step [200/600], d_loss: 1.3668, g_loss: 0.7005, D(x): 0.51, D(G(z)): 0.49\n",
      "Epoch [22/300], Step [400/600], d_loss: 1.3698, g_loss: 0.7022, D(x): 0.50, D(G(z)): 0.50\n",
      "Epoch [22/300], Step [600/600], d_loss: 1.3708, g_loss: 0.7042, D(x): 0.50, D(G(z)): 0.49\n",
      "Saving fake_images-0023.png\n",
      "Epoch [23/300], Step [200/600], d_loss: 1.3751, g_loss: 0.6992, D(x): 0.50, D(G(z)): 0.50\n",
      "Epoch [23/300], Step [400/600], d_loss: 1.3705, g_loss: 0.7022, D(x): 0.50, D(G(z)): 0.50\n",
      "Epoch [23/300], Step [600/600], d_loss: 1.3688, g_loss: 0.7029, D(x): 0.51, D(G(z)): 0.50\n",
      "Saving fake_images-0024.png\n",
      "Epoch [24/300], Step [200/600], d_loss: 1.3677, g_loss: 0.7070, D(x): 0.50, D(G(z)): 0.49\n",
      "Epoch [24/300], Step [400/600], d_loss: 1.3683, g_loss: 0.7043, D(x): 0.51, D(G(z)): 0.50\n",
      "Epoch [24/300], Step [600/600], d_loss: 1.3705, g_loss: 0.6999, D(x): 0.50, D(G(z)): 0.50\n",
      "Saving fake_images-0025.png\n",
      "Epoch [25/300], Step [200/600], d_loss: 1.3692, g_loss: 0.7064, D(x): 0.50, D(G(z)): 0.49\n",
      "Epoch [25/300], Step [400/600], d_loss: 1.3729, g_loss: 0.7033, D(x): 0.50, D(G(z)): 0.50\n",
      "Epoch [25/300], Step [600/600], d_loss: 1.3641, g_loss: 0.7036, D(x): 0.51, D(G(z)): 0.49\n",
      "Saving fake_images-0026.png\n",
      "Epoch [26/300], Step [200/600], d_loss: 1.3706, g_loss: 0.7023, D(x): 0.51, D(G(z)): 0.50\n",
      "Epoch [26/300], Step [400/600], d_loss: 1.3785, g_loss: 0.6952, D(x): 0.50, D(G(z)): 0.50\n",
      "Epoch [26/300], Step [600/600], d_loss: 1.3756, g_loss: 0.7032, D(x): 0.50, D(G(z)): 0.50\n",
      "Saving fake_images-0027.png\n",
      "Epoch [27/300], Step [200/600], d_loss: 1.3699, g_loss: 0.7051, D(x): 0.50, D(G(z)): 0.49\n",
      "Epoch [27/300], Step [400/600], d_loss: 1.3733, g_loss: 0.6984, D(x): 0.50, D(G(z)): 0.50\n",
      "Epoch [27/300], Step [600/600], d_loss: 1.3709, g_loss: 0.6980, D(x): 0.51, D(G(z)): 0.50\n",
      "Saving fake_images-0028.png\n",
      "Epoch [28/300], Step [200/600], d_loss: 1.3736, g_loss: 0.7017, D(x): 0.50, D(G(z)): 0.50\n",
      "Epoch [28/300], Step [400/600], d_loss: 1.3727, g_loss: 0.7018, D(x): 0.50, D(G(z)): 0.50\n",
      "Epoch [28/300], Step [600/600], d_loss: 1.3723, g_loss: 0.7023, D(x): 0.50, D(G(z)): 0.50\n",
      "Saving fake_images-0029.png\n",
      "Epoch [29/300], Step [200/600], d_loss: 1.3680, g_loss: 0.7005, D(x): 0.51, D(G(z)): 0.50\n",
      "Epoch [29/300], Step [400/600], d_loss: 1.3738, g_loss: 0.6981, D(x): 0.50, D(G(z)): 0.50\n",
      "Epoch [29/300], Step [600/600], d_loss: 1.3741, g_loss: 0.7007, D(x): 0.50, D(G(z)): 0.50\n",
      "Saving fake_images-0030.png\n",
      "Epoch [30/300], Step [200/600], d_loss: 1.3751, g_loss: 0.6998, D(x): 0.50, D(G(z)): 0.50\n",
      "Epoch [30/300], Step [400/600], d_loss: 1.3726, g_loss: 0.7045, D(x): 0.50, D(G(z)): 0.49\n",
      "Epoch [30/300], Step [600/600], d_loss: 1.3726, g_loss: 0.7033, D(x): 0.50, D(G(z)): 0.50\n",
      "Saving fake_images-0031.png\n",
      "Epoch [31/300], Step [200/600], d_loss: 1.3782, g_loss: 0.7032, D(x): 0.50, D(G(z)): 0.50\n",
      "Epoch [31/300], Step [400/600], d_loss: 1.3687, g_loss: 0.6998, D(x): 0.50, D(G(z)): 0.49\n",
      "Epoch [31/300], Step [600/600], d_loss: 1.3745, g_loss: 0.7007, D(x): 0.50, D(G(z)): 0.50\n",
      "Saving fake_images-0032.png\n",
      "Epoch [32/300], Step [200/600], d_loss: 1.3718, g_loss: 0.7087, D(x): 0.50, D(G(z)): 0.49\n",
      "Epoch [32/300], Step [400/600], d_loss: 1.3717, g_loss: 0.7021, D(x): 0.50, D(G(z)): 0.50\n",
      "Epoch [32/300], Step [600/600], d_loss: 1.3752, g_loss: 0.7017, D(x): 0.50, D(G(z)): 0.50\n",
      "Saving fake_images-0033.png\n",
      "Epoch [33/300], Step [200/600], d_loss: 1.3703, g_loss: 0.7010, D(x): 0.50, D(G(z)): 0.50\n",
      "Epoch [33/300], Step [400/600], d_loss: 1.3757, g_loss: 0.6982, D(x): 0.50, D(G(z)): 0.50\n",
      "Epoch [33/300], Step [600/600], d_loss: 1.3722, g_loss: 0.7012, D(x): 0.50, D(G(z)): 0.49\n",
      "Saving fake_images-0034.png\n",
      "Epoch [34/300], Step [200/600], d_loss: 1.3727, g_loss: 0.7009, D(x): 0.50, D(G(z)): 0.49\n",
      "Epoch [34/300], Step [400/600], d_loss: 1.3764, g_loss: 0.7038, D(x): 0.50, D(G(z)): 0.50\n",
      "Epoch [34/300], Step [600/600], d_loss: 1.3732, g_loss: 0.6985, D(x): 0.51, D(G(z)): 0.50\n",
      "Saving fake_images-0035.png\n",
      "Epoch [35/300], Step [200/600], d_loss: 1.3728, g_loss: 0.6989, D(x): 0.50, D(G(z)): 0.50\n",
      "Epoch [35/300], Step [400/600], d_loss: 1.3722, g_loss: 0.6982, D(x): 0.50, D(G(z)): 0.50\n",
      "Epoch [35/300], Step [600/600], d_loss: 1.3761, g_loss: 0.7007, D(x): 0.50, D(G(z)): 0.50\n",
      "Saving fake_images-0036.png\n",
      "Epoch [36/300], Step [200/600], d_loss: 1.3783, g_loss: 0.6976, D(x): 0.50, D(G(z)): 0.50\n",
      "Epoch [36/300], Step [400/600], d_loss: 1.3729, g_loss: 0.7008, D(x): 0.50, D(G(z)): 0.50\n",
      "Epoch [36/300], Step [600/600], d_loss: 1.3759, g_loss: 0.6965, D(x): 0.50, D(G(z)): 0.50\n",
      "Saving fake_images-0037.png\n",
      "Epoch [37/300], Step [200/600], d_loss: 1.3757, g_loss: 0.6960, D(x): 0.51, D(G(z)): 0.50\n",
      "Epoch [37/300], Step [400/600], d_loss: 1.3769, g_loss: 0.6992, D(x): 0.50, D(G(z)): 0.50\n",
      "Epoch [37/300], Step [600/600], d_loss: 1.3707, g_loss: 0.7014, D(x): 0.50, D(G(z)): 0.49\n",
      "Saving fake_images-0038.png\n",
      "Epoch [38/300], Step [200/600], d_loss: 1.3741, g_loss: 0.6997, D(x): 0.50, D(G(z)): 0.50\n",
      "Epoch [38/300], Step [400/600], d_loss: 1.3718, g_loss: 0.7019, D(x): 0.50, D(G(z)): 0.50\n",
      "Epoch [38/300], Step [600/600], d_loss: 1.3751, g_loss: 0.7018, D(x): 0.50, D(G(z)): 0.50\n",
      "Saving fake_images-0039.png\n",
      "Epoch [39/300], Step [200/600], d_loss: 1.3749, g_loss: 0.6973, D(x): 0.50, D(G(z)): 0.50\n",
      "Epoch [39/300], Step [400/600], d_loss: 1.3762, g_loss: 0.7019, D(x): 0.50, D(G(z)): 0.50\n",
      "Epoch [39/300], Step [600/600], d_loss: 1.3787, g_loss: 0.7008, D(x): 0.50, D(G(z)): 0.50\n",
      "Saving fake_images-0040.png\n",
      "Epoch [40/300], Step [200/600], d_loss: 1.3770, g_loss: 0.6994, D(x): 0.50, D(G(z)): 0.50\n",
      "Epoch [40/300], Step [400/600], d_loss: 1.3784, g_loss: 0.6975, D(x): 0.50, D(G(z)): 0.50\n",
      "Epoch [40/300], Step [600/600], d_loss: 1.3733, g_loss: 0.6986, D(x): 0.50, D(G(z)): 0.50\n",
      "Saving fake_images-0041.png\n",
      "Epoch [41/300], Step [200/600], d_loss: 1.3764, g_loss: 0.7000, D(x): 0.50, D(G(z)): 0.50\n",
      "Epoch [41/300], Step [400/600], d_loss: 1.3764, g_loss: 0.7014, D(x): 0.50, D(G(z)): 0.50\n",
      "Epoch [41/300], Step [600/600], d_loss: 1.3806, g_loss: 0.6973, D(x): 0.50, D(G(z)): 0.50\n",
      "Saving fake_images-0042.png\n",
      "Epoch [42/300], Step [200/600], d_loss: 1.3783, g_loss: 0.6961, D(x): 0.50, D(G(z)): 0.50\n",
      "Epoch [42/300], Step [400/600], d_loss: 1.3745, g_loss: 0.6989, D(x): 0.50, D(G(z)): 0.50\n",
      "Epoch [42/300], Step [600/600], d_loss: 1.3715, g_loss: 0.6998, D(x): 0.50, D(G(z)): 0.50\n",
      "Saving fake_images-0043.png\n",
      "Epoch [43/300], Step [200/600], d_loss: 1.3756, g_loss: 0.6982, D(x): 0.50, D(G(z)): 0.50\n",
      "Epoch [43/300], Step [400/600], d_loss: 1.3776, g_loss: 0.7019, D(x): 0.50, D(G(z)): 0.50\n",
      "Epoch [43/300], Step [600/600], d_loss: 1.3786, g_loss: 0.7004, D(x): 0.50, D(G(z)): 0.50\n",
      "Saving fake_images-0044.png\n",
      "Epoch [44/300], Step [200/600], d_loss: 1.3777, g_loss: 0.6967, D(x): 0.50, D(G(z)): 0.50\n",
      "Epoch [44/300], Step [400/600], d_loss: 1.3739, g_loss: 0.6969, D(x): 0.50, D(G(z)): 0.50\n",
      "Epoch [44/300], Step [600/600], d_loss: 1.3764, g_loss: 0.6993, D(x): 0.50, D(G(z)): 0.50\n",
      "Saving fake_images-0045.png\n",
      "Epoch [45/300], Step [200/600], d_loss: 1.3758, g_loss: 0.7005, D(x): 0.50, D(G(z)): 0.50\n",
      "Epoch [45/300], Step [400/600], d_loss: 1.3794, g_loss: 0.6980, D(x): 0.50, D(G(z)): 0.50\n",
      "Epoch [45/300], Step [600/600], d_loss: 1.3778, g_loss: 0.6996, D(x): 0.50, D(G(z)): 0.50\n",
      "Saving fake_images-0046.png\n",
      "Epoch [46/300], Step [200/600], d_loss: 1.3724, g_loss: 0.6965, D(x): 0.50, D(G(z)): 0.50\n",
      "Epoch [46/300], Step [400/600], d_loss: 1.3780, g_loss: 0.7009, D(x): 0.50, D(G(z)): 0.50\n",
      "Epoch [46/300], Step [600/600], d_loss: 1.3790, g_loss: 0.6988, D(x): 0.50, D(G(z)): 0.50\n",
      "Saving fake_images-0047.png\n",
      "Epoch [47/300], Step [200/600], d_loss: 1.3766, g_loss: 0.6985, D(x): 0.50, D(G(z)): 0.50\n",
      "Epoch [47/300], Step [400/600], d_loss: 1.3766, g_loss: 0.6989, D(x): 0.50, D(G(z)): 0.50\n",
      "Epoch [47/300], Step [600/600], d_loss: 1.3735, g_loss: 0.6976, D(x): 0.50, D(G(z)): 0.50\n",
      "Saving fake_images-0048.png\n",
      "Epoch [48/300], Step [200/600], d_loss: 1.3776, g_loss: 0.7004, D(x): 0.50, D(G(z)): 0.50\n",
      "Epoch [48/300], Step [400/600], d_loss: 1.3781, g_loss: 0.6964, D(x): 0.50, D(G(z)): 0.50\n",
      "Epoch [48/300], Step [600/600], d_loss: 1.3772, g_loss: 0.6977, D(x): 0.50, D(G(z)): 0.50\n",
      "Saving fake_images-0049.png\n",
      "Epoch [49/300], Step [200/600], d_loss: 1.3787, g_loss: 0.7004, D(x): 0.50, D(G(z)): 0.50\n",
      "Epoch [49/300], Step [400/600], d_loss: 1.3787, g_loss: 0.6986, D(x): 0.50, D(G(z)): 0.50\n",
      "Epoch [49/300], Step [600/600], d_loss: 1.3773, g_loss: 0.6995, D(x): 0.50, D(G(z)): 0.50\n",
      "Saving fake_images-0050.png\n",
      "Epoch [50/300], Step [200/600], d_loss: 1.3776, g_loss: 0.6971, D(x): 0.50, D(G(z)): 0.50\n",
      "Epoch [50/300], Step [400/600], d_loss: 1.3765, g_loss: 0.6990, D(x): 0.50, D(G(z)): 0.50\n",
      "Epoch [50/300], Step [600/600], d_loss: 1.3771, g_loss: 0.6985, D(x): 0.50, D(G(z)): 0.50\n",
      "Saving fake_images-0051.png\n",
      "Epoch [51/300], Step [200/600], d_loss: 1.3780, g_loss: 0.6986, D(x): 0.50, D(G(z)): 0.50\n",
      "Epoch [51/300], Step [400/600], d_loss: 1.3737, g_loss: 0.6974, D(x): 0.50, D(G(z)): 0.50\n",
      "Epoch [51/300], Step [600/600], d_loss: 1.3760, g_loss: 0.6960, D(x): 0.50, D(G(z)): 0.50\n",
      "Saving fake_images-0052.png\n",
      "Epoch [52/300], Step [200/600], d_loss: 1.3775, g_loss: 0.7008, D(x): 0.50, D(G(z)): 0.50\n",
      "Epoch [52/300], Step [400/600], d_loss: 1.3771, g_loss: 0.7012, D(x): 0.50, D(G(z)): 0.50\n",
      "Epoch [52/300], Step [600/600], d_loss: 1.3771, g_loss: 0.6986, D(x): 0.50, D(G(z)): 0.50\n",
      "Saving fake_images-0053.png\n",
      "Epoch [53/300], Step [200/600], d_loss: 1.3750, g_loss: 0.6971, D(x): 0.50, D(G(z)): 0.50\n",
      "Epoch [53/300], Step [400/600], d_loss: 1.3783, g_loss: 0.6976, D(x): 0.50, D(G(z)): 0.50\n",
      "Epoch [53/300], Step [600/600], d_loss: 1.3781, g_loss: 0.6975, D(x): 0.50, D(G(z)): 0.50\n",
      "Saving fake_images-0054.png\n",
      "Epoch [54/300], Step [200/600], d_loss: 1.3776, g_loss: 0.7016, D(x): 0.50, D(G(z)): 0.50\n",
      "Epoch [54/300], Step [400/600], d_loss: 1.3810, g_loss: 0.6955, D(x): 0.50, D(G(z)): 0.50\n",
      "Epoch [54/300], Step [600/600], d_loss: 1.3760, g_loss: 0.6958, D(x): 0.50, D(G(z)): 0.50\n",
      "Saving fake_images-0055.png\n",
      "Epoch [55/300], Step [200/600], d_loss: 1.3804, g_loss: 0.6945, D(x): 0.50, D(G(z)): 0.50\n",
      "Epoch [55/300], Step [400/600], d_loss: 1.3763, g_loss: 0.6981, D(x): 0.50, D(G(z)): 0.50\n",
      "Epoch [55/300], Step [600/600], d_loss: 1.3813, g_loss: 0.6977, D(x): 0.50, D(G(z)): 0.50\n",
      "Saving fake_images-0056.png\n",
      "Epoch [56/300], Step [200/600], d_loss: 1.3787, g_loss: 0.6989, D(x): 0.50, D(G(z)): 0.50\n",
      "Epoch [56/300], Step [400/600], d_loss: 1.3783, g_loss: 0.6992, D(x): 0.50, D(G(z)): 0.50\n",
      "Epoch [56/300], Step [600/600], d_loss: 1.3793, g_loss: 0.6941, D(x): 0.50, D(G(z)): 0.50\n",
      "Saving fake_images-0057.png\n",
      "Epoch [57/300], Step [200/600], d_loss: 1.3743, g_loss: 0.6984, D(x): 0.50, D(G(z)): 0.50\n",
      "Epoch [57/300], Step [400/600], d_loss: 1.3773, g_loss: 0.6996, D(x): 0.50, D(G(z)): 0.50\n",
      "Epoch [57/300], Step [600/600], d_loss: 1.3825, g_loss: 0.6985, D(x): 0.50, D(G(z)): 0.50\n",
      "Saving fake_images-0058.png\n",
      "Epoch [58/300], Step [200/600], d_loss: 1.3822, g_loss: 0.6945, D(x): 0.50, D(G(z)): 0.50\n",
      "Epoch [58/300], Step [400/600], d_loss: 1.3807, g_loss: 0.6994, D(x): 0.50, D(G(z)): 0.50\n",
      "Epoch [58/300], Step [600/600], d_loss: 1.3755, g_loss: 0.6977, D(x): 0.50, D(G(z)): 0.50\n",
      "Saving fake_images-0059.png\n",
      "Epoch [59/300], Step [200/600], d_loss: 1.3827, g_loss: 0.6986, D(x): 0.50, D(G(z)): 0.50\n",
      "Epoch [59/300], Step [400/600], d_loss: 1.3799, g_loss: 0.6969, D(x): 0.50, D(G(z)): 0.50\n",
      "Epoch [59/300], Step [600/600], d_loss: 1.3749, g_loss: 0.6976, D(x): 0.50, D(G(z)): 0.50\n",
      "Saving fake_images-0060.png\n",
      "Epoch [60/300], Step [200/600], d_loss: 1.3790, g_loss: 0.6976, D(x): 0.50, D(G(z)): 0.50\n",
      "Epoch [60/300], Step [400/600], d_loss: 1.3797, g_loss: 0.6955, D(x): 0.50, D(G(z)): 0.50\n",
      "Epoch [60/300], Step [600/600], d_loss: 1.3806, g_loss: 0.6980, D(x): 0.50, D(G(z)): 0.50\n",
      "Saving fake_images-0061.png\n",
      "Epoch [61/300], Step [200/600], d_loss: 1.3764, g_loss: 0.6991, D(x): 0.50, D(G(z)): 0.50\n",
      "Epoch [61/300], Step [400/600], d_loss: 1.3844, g_loss: 0.6966, D(x): 0.50, D(G(z)): 0.50\n",
      "Epoch [61/300], Step [600/600], d_loss: 1.3764, g_loss: 0.6966, D(x): 0.50, D(G(z)): 0.50\n",
      "Saving fake_images-0062.png\n",
      "Epoch [62/300], Step [200/600], d_loss: 1.3795, g_loss: 0.6995, D(x): 0.50, D(G(z)): 0.50\n",
      "Epoch [62/300], Step [400/600], d_loss: 1.3779, g_loss: 0.7015, D(x): 0.50, D(G(z)): 0.50\n",
      "Epoch [62/300], Step [600/600], d_loss: 1.3804, g_loss: 0.6996, D(x): 0.50, D(G(z)): 0.50\n",
      "Saving fake_images-0063.png\n",
      "Epoch [63/300], Step [200/600], d_loss: 1.3774, g_loss: 0.6966, D(x): 0.50, D(G(z)): 0.50\n",
      "Epoch [63/300], Step [400/600], d_loss: 1.3747, g_loss: 0.6993, D(x): 0.50, D(G(z)): 0.50\n",
      "Epoch [63/300], Step [600/600], d_loss: 1.3747, g_loss: 0.6977, D(x): 0.50, D(G(z)): 0.50\n",
      "Saving fake_images-0064.png\n",
      "Epoch [64/300], Step [200/600], d_loss: 1.3770, g_loss: 0.6985, D(x): 0.50, D(G(z)): 0.50\n",
      "Epoch [64/300], Step [400/600], d_loss: 1.3812, g_loss: 0.6945, D(x): 0.50, D(G(z)): 0.50\n",
      "Epoch [64/300], Step [600/600], d_loss: 1.3816, g_loss: 0.6959, D(x): 0.50, D(G(z)): 0.50\n",
      "Saving fake_images-0065.png\n",
      "Epoch [65/300], Step [200/600], d_loss: 1.3777, g_loss: 0.6928, D(x): 0.50, D(G(z)): 0.50\n",
      "Epoch [65/300], Step [400/600], d_loss: 1.3808, g_loss: 0.6960, D(x): 0.50, D(G(z)): 0.50\n",
      "Epoch [65/300], Step [600/600], d_loss: 1.3792, g_loss: 0.6980, D(x): 0.50, D(G(z)): 0.50\n",
      "Saving fake_images-0066.png\n",
      "Epoch [66/300], Step [200/600], d_loss: 1.3808, g_loss: 0.6969, D(x): 0.50, D(G(z)): 0.50\n",
      "Epoch [66/300], Step [400/600], d_loss: 1.3784, g_loss: 0.6988, D(x): 0.50, D(G(z)): 0.50\n"
     ]
    }
   ],
   "source": [
    "%%time\n",
    "total_step = len(data_loader)\n",
    "d_losses, g_losses, real_scores, fake_scores = [], [], [], []\n",
    "G.to(device)\n",
    "D.to(device)\n",
    "for epoch in range(num_epochs):\n",
    "    for i, (images, _) in enumerate(data_loader):\n",
    "        # Load a batch & transform to vectors\n",
    "        images = images.reshape(batch_size, -1).to(device)\n",
    "        \n",
    "        # Train the discriminator  \n",
    "\n",
    "        # Train the generator\n",
    "        \n",
    "        # Inspect the losses\n",
    "        if (i+1) % 200 == 0:\n",
    "            d_losses.append(d_loss.item())\n",
    "            g_losses.append(g_loss.item())\n",
    "            real_scores.append(real_score.mean().item())\n",
    "            fake_scores.append(fake_score.mean().item())\n",
    "            print('Epoch [{}/{}], Step [{}/{}], d_loss: {:.4f}, g_loss: {:.4f}, D(x): {:.2f}, D(G(z)): {:.2f}' \n",
    "                  .format(epoch, num_epochs, i+1, total_step, d_loss.item(), g_loss.item(), \n",
    "                          real_score.mean().item(), fake_score.mean().item()))\n",
    "    # Sample and save images\n",
    "    save_fake_images(epoch+1)"
   ]
  },
  {
   "cell_type": "code",
   "execution_count": null,
   "metadata": {
    "id": "EMhcZnLyGpTC"
   },
   "outputs": [],
   "source": [
    "Image(os.path.join(sample_dir, 'fake_images-125.png'))"
   ]
  },
  {
   "cell_type": "code",
   "execution_count": null,
   "metadata": {
    "colab": {
     "base_uri": "https://localhost:8080/",
     "height": 299
    },
    "id": "M9ppaAuFH3zm",
    "outputId": "34f0c46c-4378-4cb2-ab34-a933ab4bd3cd"
   },
   "outputs": [
    {
     "data": {
      "image/png": "[encoded data removed]",
      "text/plain": [
       "<Figure size 432x288 with 1 Axes>"
      ]
     },
     "metadata": {
      "needs_background": "light",
      "tags": []
     },
     "output_type": "display_data"
    }
   ],
   "source": [
    "plt.plot(d_losses, '-')\n",
    "plt.plot(g_losses, '-')\n",
    "plt.xlabel('epoch')\n",
    "plt.ylabel('loss')\n",
    "plt.legend(['Discriminator', 'Generator'])\n",
    "plt.title('Losses');"
   ]
  },
  {
   "cell_type": "code",
   "execution_count": null,
   "metadata": {
    "colab": {
     "base_uri": "https://localhost:8080/",
     "height": 299
    },
    "id": "k6ssGF3oJLm9",
    "outputId": "9cfc1734-5067-41f0-d36d-0bed30c54e43"
   },
   "outputs": [
    {
     "data": {
      "image/png": "[encoded data removed]",
      "text/plain": [
       "<Figure size 432x288 with 1 Axes>"
      ]
     },
     "metadata": {
      "needs_background": "light",
      "tags": []
     },
     "output_type": "display_data"
    }
   ],
   "source": [
    "plt.plot(real_scores, '-')\n",
    "plt.plot(fake_scores, '-')\n",
    "plt.xlabel('epoch')\n",
    "plt.ylabel('score')\n",
    "plt.legend(['Real Score', 'Fake score'])\n",
    "plt.title('Scores');"
   ]
  },
  {
   "cell_type": "code",
   "execution_count": null,
   "metadata": {
    "id": "illElGnSX1ij"
   },
   "outputs": [],
   "source": []
  }
 ],
 "metadata": {
  "accelerator": "GPU",
  "colab": {
   "collapsed_sections": [],
   "name": "05_mnist_gan_tricks.ipynb",
   "provenance": []
  },
  "kernelspec": {
   "display_name": "Python 3 (ipykernel)",
   "language": "python",
   "name": "python3"
  },
  "language_info": {
   "codemirror_mode": {
    "name": "ipython",
    "version": 3
   },
   "file_extension": ".py",
   "mimetype": "text/x-python",
   "name": "python",
   "nbconvert_exporter": "python",
   "pygments_lexer": "ipython3",
   "version": "3.9.7"
  },
  "widgets": {
   "application/vnd.jupyter.widget-state+json": {
    "013f534f0c474777b0d359a2b4b005ab": {
     "model_module": "@jupyter-widgets/base",
     "model_name": "LayoutModel",
     "state": {
      "_model_module": "@jupyter-widgets/base",
      "_model_module_version": "1.2.0",
      "_model_name": "LayoutModel",
      "_view_count": null,
      "_view_module": "@jupyter-widgets/base",
      "_view_module_version": "1.2.0",
      "_view_name": "LayoutView",
      "align_content": null,
      "align_items": null,
      "align_self": null,
      "border": null,
      "bottom": null,
      "display": null,
      "flex": null,
      "flex_flow": null,
      "grid_area": null,
      "grid_auto_columns": null,
      "grid_auto_flow": null,
      "grid_auto_rows": null,
      "grid_column": null,
      "grid_gap": null,
      "grid_row": null,
      "grid_template_areas": null,
      "grid_template_columns": null,
      "grid_template_rows": null,
      "height": null,
      "justify_content": null,
      "justify_items": null,
      "left": null,
      "margin": null,
      "max_height": null,
      "max_width": null,
      "min_height": null,
      "min_width": null,
      "object_fit": null,
      "object_position": null,
      "order": null,
      "overflow": null,
      "overflow_x": null,
      "overflow_y": null,
      "padding": null,
      "right": null,
      "top": null,
      "visibility": null,
      "width": null
     }
    },
    "0985157d15bf479f880e4979fa4f712d": {
     "model_module": "@jupyter-widgets/controls",
     "model_name": "DescriptionStyleModel",
     "state": {
      "_model_module": "@jupyter-widgets/controls",
      "_model_module_version": "1.5.0",
      "_model_name": "DescriptionStyleModel",
      "_view_count": null,
      "_view_module": "@jupyter-widgets/base",
      "_view_module_version": "1.2.0",
      "_view_name": "StyleView",
      "description_width": ""
     }
    },
    "09e9e96101fc41cf8699a8da6c2fe60f": {
     "model_module": "@jupyter-widgets/base",
     "model_name": "LayoutModel",
     "state": {
      "_model_module": "@jupyter-widgets/base",
      "_model_module_version": "1.2.0",
      "_model_name": "LayoutModel",
      "_view_count": null,
      "_view_module": "@jupyter-widgets/base",
      "_view_module_version": "1.2.0",
      "_view_name": "LayoutView",
      "align_content": null,
      "align_items": null,
      "align_self": null,
      "border": null,
      "bottom": null,
      "display": null,
      "flex": null,
      "flex_flow": null,
      "grid_area": null,
      "grid_auto_columns": null,
      "grid_auto_flow": null,
      "grid_auto_rows": null,
      "grid_column": null,
      "grid_gap": null,
      "grid_row": null,
      "grid_template_areas": null,
      "grid_template_columns": null,
      "grid_template_rows": null,
      "height": null,
      "justify_content": null,
      "justify_items": null,
      "left": null,
      "margin": null,
      "max_height": null,
      "max_width": null,
      "min_height": null,
      "min_width": null,
      "object_fit": null,
      "object_position": null,
      "order": null,
      "overflow": null,
      "overflow_x": null,
      "overflow_y": null,
      "padding": null,
      "right": null,
      "top": null,
      "visibility": null,
      "width": null
     }
    },
    "19a25230ae0c4ed080ca5e1f36ca36dc": {
     "model_module": "@jupyter-widgets/controls",
     "model_name": "HTMLModel",
     "state": {
      "_dom_classes": [],
      "_model_module": "@jupyter-widgets/controls",
      "_model_module_version": "1.5.0",
      "_model_name": "HTMLModel",
      "_view_count": null,
      "_view_module": "@jupyter-widgets/controls",
      "_view_module_version": "1.5.0",
      "_view_name": "HTMLView",
      "description": "",
      "description_tooltip": null,
      "layout": "IPY_MODEL_4105f26461c84615938582854925e93d",
      "placeholder": "​",
      "style": "IPY_MODEL_0985157d15bf479f880e4979fa4f712d",
      "value": " 9913344/? [00:04&lt;00:00, 2437442.93it/s]"
     }
    },
    "1b35d0160f6b48d480aeb75866a3941e": {
     "model_module": "@jupyter-widgets/base",
     "model_name": "LayoutModel",
     "state": {
      "_model_module": "@jupyter-widgets/base",
      "_model_module_version": "1.2.0",
      "_model_name": "LayoutModel",
      "_view_count": null,
      "_view_module": "@jupyter-widgets/base",
      "_view_module_version": "1.2.0",
      "_view_name": "LayoutView",
      "align_content": null,
      "align_items": null,
      "align_self": null,
      "border": null,
      "bottom": null,
      "display": null,
      "flex": null,
      "flex_flow": null,
      "grid_area": null,
      "grid_auto_columns": null,
      "grid_auto_flow": null,
      "grid_auto_rows": null,
      "grid_column": null,
      "grid_gap": null,
      "grid_row": null,
      "grid_template_areas": null,
      "grid_template_columns": null,
      "grid_template_rows": null,
      "height": null,
      "justify_content": null,
      "justify_items": null,
      "left": null,
      "margin": null,
      "max_height": null,
      "max_width": null,
      "min_height": null,
      "min_width": null,
      "object_fit": null,
      "object_position": null,
      "order": null,
      "overflow": null,
      "overflow_x": null,
      "overflow_y": null,
      "padding": null,
      "right": null,
      "top": null,
      "visibility": null,
      "width": null
     }
    },
    "1f46e0e357a14cfab3b43862c9cd2233": {
     "model_module": "@jupyter-widgets/base",
     "model_name": "LayoutModel",
     "state": {
      "_model_module": "@jupyter-widgets/base",
      "_model_module_version": "1.2.0",
      "_model_name": "LayoutModel",
      "_view_count": null,
      "_view_module": "@jupyter-widgets/base",
      "_view_module_version": "1.2.0",
      "_view_name": "LayoutView",
      "align_content": null,
      "align_items": null,
      "align_self": null,
      "border": null,
      "bottom": null,
      "display": null,
      "flex": null,
      "flex_flow": null,
      "grid_area": null,
      "grid_auto_columns": null,
      "grid_auto_flow": null,
      "grid_auto_rows": null,
      "grid_column": null,
      "grid_gap": null,
      "grid_row": null,
      "grid_template_areas": null,
      "grid_template_columns": null,
      "grid_template_rows": null,
      "height": null,
      "justify_content": null,
      "justify_items": null,
      "left": null,
      "margin": null,
      "max_height": null,
      "max_width": null,
      "min_height": null,
      "min_width": null,
      "object_fit": null,
      "object_position": null,
      "order": null,
      "overflow": null,
      "overflow_x": null,
      "overflow_y": null,
      "padding": null,
      "right": null,
      "top": null,
      "visibility": null,
      "width": null
     }
    },
    "228d7562a7374f068824cba5181a7347": {
     "model_module": "@jupyter-widgets/controls",
     "model_name": "ProgressStyleModel",
     "state": {
      "_model_module": "@jupyter-widgets/controls",
      "_model_module_version": "1.5.0",
      "_model_name": "ProgressStyleModel",
      "_view_count": null,
      "_view_module": "@jupyter-widgets/base",
      "_view_module_version": "1.2.0",
      "_view_name": "StyleView",
      "bar_color": null,
      "description_width": "initial"
     }
    },
    "2b13cc32761646aaaedba8bf3718c86c": {
     "model_module": "@jupyter-widgets/base",
     "model_name": "LayoutModel",
     "state": {
      "_model_module": "@jupyter-widgets/base",
      "_model_module_version": "1.2.0",
      "_model_name": "LayoutModel",
      "_view_count": null,
      "_view_module": "@jupyter-widgets/base",
      "_view_module_version": "1.2.0",
      "_view_name": "LayoutView",
      "align_content": null,
      "align_items": null,
      "align_self": null,
      "border": null,
      "bottom": null,
      "display": null,
      "flex": null,
      "flex_flow": null,
      "grid_area": null,
      "grid_auto_columns": null,
      "grid_auto_flow": null,
      "grid_auto_rows": null,
      "grid_column": null,
      "grid_gap": null,
      "grid_row": null,
      "grid_template_areas": null,
      "grid_template_columns": null,
      "grid_template_rows": null,
      "height": null,
      "justify_content": null,
      "justify_items": null,
      "left": null,
      "margin": null,
      "max_height": null,
      "max_width": null,
      "min_height": null,
      "min_width": null,
      "object_fit": null,
      "object_position": null,
      "order": null,
      "overflow": null,
      "overflow_x": null,
      "overflow_y": null,
      "padding": null,
      "right": null,
      "top": null,
      "visibility": null,
      "width": null
     }
    },
    "2cd3368cc09549b3bc17f78be2470e20": {
     "model_module": "@jupyter-widgets/controls",
     "model_name": "ProgressStyleModel",
     "state": {
      "_model_module": "@jupyter-widgets/controls",
      "_model_module_version": "1.5.0",
      "_model_name": "ProgressStyleModel",
      "_view_count": null,
      "_view_module": "@jupyter-widgets/base",
      "_view_module_version": "1.2.0",
      "_view_name": "StyleView",
      "bar_color": null,
      "description_width": "initial"
     }
    },
    "3314b3d4b9af4aa38cb58181f5b2dd71": {
     "model_module": "@jupyter-widgets/controls",
     "model_name": "HBoxModel",
     "state": {
      "_dom_classes": [],
      "_model_module": "@jupyter-widgets/controls",
      "_model_module_version": "1.5.0",
      "_model_name": "HBoxModel",
      "_view_count": null,
      "_view_module": "@jupyter-widgets/controls",
      "_view_module_version": "1.5.0",
      "_view_name": "HBoxView",
      "box_style": "",
      "children": [
       "IPY_MODEL_5d5f5d702ad14f25971045bf233611db",
       "IPY_MODEL_19a25230ae0c4ed080ca5e1f36ca36dc"
      ],
      "layout": "IPY_MODEL_1f46e0e357a14cfab3b43862c9cd2233"
     }
    },
    "3a93de16640f4795a3187db9a172a33c": {
     "model_module": "@jupyter-widgets/controls",
     "model_name": "DescriptionStyleModel",
     "state": {
      "_model_module": "@jupyter-widgets/controls",
      "_model_module_version": "1.5.0",
      "_model_name": "DescriptionStyleModel",
      "_view_count": null,
      "_view_module": "@jupyter-widgets/base",
      "_view_module_version": "1.2.0",
      "_view_name": "StyleView",
      "description_width": ""
     }
    },
    "4105f26461c84615938582854925e93d": {
     "model_module": "@jupyter-widgets/base",
     "model_name": "LayoutModel",
     "state": {
      "_model_module": "@jupyter-widgets/base",
      "_model_module_version": "1.2.0",
      "_model_name": "LayoutModel",
      "_view_count": null,
      "_view_module": "@jupyter-widgets/base",
      "_view_module_version": "1.2.0",
      "_view_name": "LayoutView",
      "align_content": null,
      "align_items": null,
      "align_self": null,
      "border": null,
      "bottom": null,
      "display": null,
      "flex": null,
      "flex_flow": null,
      "grid_area": null,
      "grid_auto_columns": null,
      "grid_auto_flow": null,
      "grid_auto_rows": null,
      "grid_column": null,
      "grid_gap": null,
      "grid_row": null,
      "grid_template_areas": null,
      "grid_template_columns": null,
      "grid_template_rows": null,
      "height": null,
      "justify_content": null,
      "justify_items": null,
      "left": null,
      "margin": null,
      "max_height": null,
      "max_width": null,
      "min_height": null,
      "min_width": null,
      "object_fit": null,
      "object_position": null,
      "order": null,
      "overflow": null,
      "overflow_x": null,
      "overflow_y": null,
      "padding": null,
      "right": null,
      "top": null,
      "visibility": null,
      "width": null
     }
    },
    "46e98ebb23604311ae471c477eba3d2f": {
     "model_module": "@jupyter-widgets/controls",
     "model_name": "HBoxModel",
     "state": {
      "_dom_classes": [],
      "_model_module": "@jupyter-widgets/controls",
      "_model_module_version": "1.5.0",
      "_model_name": "HBoxModel",
      "_view_count": null,
      "_view_module": "@jupyter-widgets/controls",
      "_view_module_version": "1.5.0",
      "_view_name": "HBoxView",
      "box_style": "",
      "children": [
       "IPY_MODEL_cda6df941e4848ab9ed762adba732f25",
       "IPY_MODEL_c23f6db2ce86452aac45d171502ba4be"
      ],
      "layout": "IPY_MODEL_8aaee0f479524cbcb42eb34e7d8f6552"
     }
    },
    "55e7fc43754b4ac595cc142e21d58794": {
     "model_module": "@jupyter-widgets/controls",
     "model_name": "DescriptionStyleModel",
     "state": {
      "_model_module": "@jupyter-widgets/controls",
      "_model_module_version": "1.5.0",
      "_model_name": "DescriptionStyleModel",
      "_view_count": null,
      "_view_module": "@jupyter-widgets/base",
      "_view_module_version": "1.2.0",
      "_view_name": "StyleView",
      "description_width": ""
     }
    },
    "5c450f64677f402fb1bb39749a4f3c88": {
     "model_module": "@jupyter-widgets/controls",
     "model_name": "HTMLModel",
     "state": {
      "_dom_classes": [],
      "_model_module": "@jupyter-widgets/controls",
      "_model_module_version": "1.5.0",
      "_model_name": "HTMLModel",
      "_view_count": null,
      "_view_module": "@jupyter-widgets/controls",
      "_view_module_version": "1.5.0",
      "_view_name": "HTMLView",
      "description": "",
      "description_tooltip": null,
      "layout": "IPY_MODEL_09e9e96101fc41cf8699a8da6c2fe60f",
      "placeholder": "​",
      "style": "IPY_MODEL_55e7fc43754b4ac595cc142e21d58794",
      "value": " 5120/? [00:00&lt;00:00, 43518.55it/s]"
     }
    },
    "5d5f5d702ad14f25971045bf233611db": {
     "model_module": "@jupyter-widgets/controls",
     "model_name": "FloatProgressModel",
     "state": {
      "_dom_classes": [],
      "_model_module": "@jupyter-widgets/controls",
      "_model_module_version": "1.5.0",
      "_model_name": "FloatProgressModel",
      "_view_count": null,
      "_view_module": "@jupyter-widgets/controls",
      "_view_module_version": "1.5.0",
      "_view_name": "ProgressView",
      "bar_style": "success",
      "description": "",
      "description_tooltip": null,
      "layout": "IPY_MODEL_1b35d0160f6b48d480aeb75866a3941e",
      "max": 9912422,
      "min": 0,
      "orientation": "horizontal",
      "style": "IPY_MODEL_63bdff4ef70f49d3a41a492af2909801",
      "value": 9912422
     }
    },
    "63bdff4ef70f49d3a41a492af2909801": {
     "model_module": "@jupyter-widgets/controls",
     "model_name": "ProgressStyleModel",
     "state": {
      "_model_module": "@jupyter-widgets/controls",
      "_model_module_version": "1.5.0",
      "_model_name": "ProgressStyleModel",
      "_view_count": null,
      "_view_module": "@jupyter-widgets/base",
      "_view_module_version": "1.2.0",
      "_view_name": "StyleView",
      "bar_color": null,
      "description_width": "initial"
     }
    },
    "751ce17b86c4426ba867cfc8685f1ad0": {
     "model_module": "@jupyter-widgets/controls",
     "model_name": "HTMLModel",
     "state": {
      "_dom_classes": [],
      "_model_module": "@jupyter-widgets/controls",
      "_model_module_version": "1.5.0",
      "_model_name": "HTMLModel",
      "_view_count": null,
      "_view_module": "@jupyter-widgets/controls",
      "_view_module_version": "1.5.0",
      "_view_name": "HTMLView",
      "description": "",
      "description_tooltip": null,
      "layout": "IPY_MODEL_013f534f0c474777b0d359a2b4b005ab",
      "placeholder": "​",
      "style": "IPY_MODEL_a4fb6ee278494e228b2ae6655f8d5e55",
      "value": " 29696/? [00:02&lt;00:00, 13590.82it/s]"
     }
    },
    "87c2d63c6e9947ffa7da81884dc145d1": {
     "model_module": "@jupyter-widgets/base",
     "model_name": "LayoutModel",
     "state": {
      "_model_module": "@jupyter-widgets/base",
      "_model_module_version": "1.2.0",
      "_model_name": "LayoutModel",
      "_view_count": null,
      "_view_module": "@jupyter-widgets/base",
      "_view_module_version": "1.2.0",
      "_view_name": "LayoutView",
      "align_content": null,
      "align_items": null,
      "align_self": null,
      "border": null,
      "bottom": null,
      "display": null,
      "flex": null,
      "flex_flow": null,
      "grid_area": null,
      "grid_auto_columns": null,
      "grid_auto_flow": null,
      "grid_auto_rows": null,
      "grid_column": null,
      "grid_gap": null,
      "grid_row": null,
      "grid_template_areas": null,
      "grid_template_columns": null,
      "grid_template_rows": null,
      "height": null,
      "justify_content": null,
      "justify_items": null,
      "left": null,
      "margin": null,
      "max_height": null,
      "max_width": null,
      "min_height": null,
      "min_width": null,
      "object_fit": null,
      "object_position": null,
      "order": null,
      "overflow": null,
      "overflow_x": null,
      "overflow_y": null,
      "padding": null,
      "right": null,
      "top": null,
      "visibility": null,
      "width": null
     }
    },
    "8aaee0f479524cbcb42eb34e7d8f6552": {
     "model_module": "@jupyter-widgets/base",
     "model_name": "LayoutModel",
     "state": {
      "_model_module": "@jupyter-widgets/base",
      "_model_module_version": "1.2.0",
      "_model_name": "LayoutModel",
      "_view_count": null,
      "_view_module": "@jupyter-widgets/base",
      "_view_module_version": "1.2.0",
      "_view_name": "LayoutView",
      "align_content": null,
      "align_items": null,
      "align_self": null,
      "border": null,
      "bottom": null,
      "display": null,
      "flex": null,
      "flex_flow": null,
      "grid_area": null,
      "grid_auto_columns": null,
      "grid_auto_flow": null,
      "grid_auto_rows": null,
      "grid_column": null,
      "grid_gap": null,
      "grid_row": null,
      "grid_template_areas": null,
      "grid_template_columns": null,
      "grid_template_rows": null,
      "height": null,
      "justify_content": null,
      "justify_items": null,
      "left": null,
      "margin": null,
      "max_height": null,
      "max_width": null,
      "min_height": null,
      "min_width": null,
      "object_fit": null,
      "object_position": null,
      "order": null,
      "overflow": null,
      "overflow_x": null,
      "overflow_y": null,
      "padding": null,
      "right": null,
      "top": null,
      "visibility": null,
      "width": null
     }
    },
    "93da323ab58c452d935bb0b1bf4d248f": {
     "model_module": "@jupyter-widgets/base",
     "model_name": "LayoutModel",
     "state": {
      "_model_module": "@jupyter-widgets/base",
      "_model_module_version": "1.2.0",
      "_model_name": "LayoutModel",
      "_view_count": null,
      "_view_module": "@jupyter-widgets/base",
      "_view_module_version": "1.2.0",
      "_view_name": "LayoutView",
      "align_content": null,
      "align_items": null,
      "align_self": null,
      "border": null,
      "bottom": null,
      "display": null,
      "flex": null,
      "flex_flow": null,
      "grid_area": null,
      "grid_auto_columns": null,
      "grid_auto_flow": null,
      "grid_auto_rows": null,
      "grid_column": null,
      "grid_gap": null,
      "grid_row": null,
      "grid_template_areas": null,
      "grid_template_columns": null,
      "grid_template_rows": null,
      "height": null,
      "justify_content": null,
      "justify_items": null,
      "left": null,
      "margin": null,
      "max_height": null,
      "max_width": null,
      "min_height": null,
      "min_width": null,
      "object_fit": null,
      "object_position": null,
      "order": null,
      "overflow": null,
      "overflow_x": null,
      "overflow_y": null,
      "padding": null,
      "right": null,
      "top": null,
      "visibility": null,
      "width": null
     }
    },
    "94de93619b2245179cfd9b6d425591f9": {
     "model_module": "@jupyter-widgets/base",
     "model_name": "LayoutModel",
     "state": {
      "_model_module": "@jupyter-widgets/base",
      "_model_module_version": "1.2.0",
      "_model_name": "LayoutModel",
      "_view_count": null,
      "_view_module": "@jupyter-widgets/base",
      "_view_module_version": "1.2.0",
      "_view_name": "LayoutView",
      "align_content": null,
      "align_items": null,
      "align_self": null,
      "border": null,
      "bottom": null,
      "display": null,
      "flex": null,
      "flex_flow": null,
      "grid_area": null,
      "grid_auto_columns": null,
      "grid_auto_flow": null,
      "grid_auto_rows": null,
      "grid_column": null,
      "grid_gap": null,
      "grid_row": null,
      "grid_template_areas": null,
      "grid_template_columns": null,
      "grid_template_rows": null,
      "height": null,
      "justify_content": null,
      "justify_items": null,
      "left": null,
      "margin": null,
      "max_height": null,
      "max_width": null,
      "min_height": null,
      "min_width": null,
      "object_fit": null,
      "object_position": null,
      "order": null,
      "overflow": null,
      "overflow_x": null,
      "overflow_y": null,
      "padding": null,
      "right": null,
      "top": null,
      "visibility": null,
      "width": null
     }
    },
    "a4fb6ee278494e228b2ae6655f8d5e55": {
     "model_module": "@jupyter-widgets/controls",
     "model_name": "DescriptionStyleModel",
     "state": {
      "_model_module": "@jupyter-widgets/controls",
      "_model_module_version": "1.5.0",
      "_model_name": "DescriptionStyleModel",
      "_view_count": null,
      "_view_module": "@jupyter-widgets/base",
      "_view_module_version": "1.2.0",
      "_view_name": "StyleView",
      "description_width": ""
     }
    },
    "b6b03e8e312d40169d425ab38c88b333": {
     "model_module": "@jupyter-widgets/controls",
     "model_name": "HBoxModel",
     "state": {
      "_dom_classes": [],
      "_model_module": "@jupyter-widgets/controls",
      "_model_module_version": "1.5.0",
      "_model_name": "HBoxModel",
      "_view_count": null,
      "_view_module": "@jupyter-widgets/controls",
      "_view_module_version": "1.5.0",
      "_view_name": "HBoxView",
      "box_style": "",
      "children": [
       "IPY_MODEL_def33ef5b3c44505b62812ede7b827bd",
       "IPY_MODEL_5c450f64677f402fb1bb39749a4f3c88"
      ],
      "layout": "IPY_MODEL_cfc171cd72fb4fbf892ce7514559cc19"
     }
    },
    "b86a2ea4fb524a728213e4b2253d0d94": {
     "model_module": "@jupyter-widgets/controls",
     "model_name": "ProgressStyleModel",
     "state": {
      "_model_module": "@jupyter-widgets/controls",
      "_model_module_version": "1.5.0",
      "_model_name": "ProgressStyleModel",
      "_view_count": null,
      "_view_module": "@jupyter-widgets/base",
      "_view_module_version": "1.2.0",
      "_view_name": "StyleView",
      "bar_color": null,
      "description_width": "initial"
     }
    },
    "bde9a48c6add4dd393c5e07182f5957e": {
     "model_module": "@jupyter-widgets/base",
     "model_name": "LayoutModel",
     "state": {
      "_model_module": "@jupyter-widgets/base",
      "_model_module_version": "1.2.0",
      "_model_name": "LayoutModel",
      "_view_count": null,
      "_view_module": "@jupyter-widgets/base",
      "_view_module_version": "1.2.0",
      "_view_name": "LayoutView",
      "align_content": null,
      "align_items": null,
      "align_self": null,
      "border": null,
      "bottom": null,
      "display": null,
      "flex": null,
      "flex_flow": null,
      "grid_area": null,
      "grid_auto_columns": null,
      "grid_auto_flow": null,
      "grid_auto_rows": null,
      "grid_column": null,
      "grid_gap": null,
      "grid_row": null,
      "grid_template_areas": null,
      "grid_template_columns": null,
      "grid_template_rows": null,
      "height": null,
      "justify_content": null,
      "justify_items": null,
      "left": null,
      "margin": null,
      "max_height": null,
      "max_width": null,
      "min_height": null,
      "min_width": null,
      "object_fit": null,
      "object_position": null,
      "order": null,
      "overflow": null,
      "overflow_x": null,
      "overflow_y": null,
      "padding": null,
      "right": null,
      "top": null,
      "visibility": null,
      "width": null
     }
    },
    "c23f6db2ce86452aac45d171502ba4be": {
     "model_module": "@jupyter-widgets/controls",
     "model_name": "HTMLModel",
     "state": {
      "_dom_classes": [],
      "_model_module": "@jupyter-widgets/controls",
      "_model_module_version": "1.5.0",
      "_model_name": "HTMLModel",
      "_view_count": null,
      "_view_module": "@jupyter-widgets/controls",
      "_view_module_version": "1.5.0",
      "_view_name": "HTMLView",
      "description": "",
      "description_tooltip": null,
      "layout": "IPY_MODEL_94de93619b2245179cfd9b6d425591f9",
      "placeholder": "​",
      "style": "IPY_MODEL_3a93de16640f4795a3187db9a172a33c",
      "value": " 1649664/? [00:01&lt;00:00, 1214379.14it/s]"
     }
    },
    "cda6df941e4848ab9ed762adba732f25": {
     "model_module": "@jupyter-widgets/controls",
     "model_name": "FloatProgressModel",
     "state": {
      "_dom_classes": [],
      "_model_module": "@jupyter-widgets/controls",
      "_model_module_version": "1.5.0",
      "_model_name": "FloatProgressModel",
      "_view_count": null,
      "_view_module": "@jupyter-widgets/controls",
      "_view_module_version": "1.5.0",
      "_view_name": "ProgressView",
      "bar_style": "success",
      "description": "",
      "description_tooltip": null,
      "layout": "IPY_MODEL_87c2d63c6e9947ffa7da81884dc145d1",
      "max": 1648877,
      "min": 0,
      "orientation": "horizontal",
      "style": "IPY_MODEL_b86a2ea4fb524a728213e4b2253d0d94",
      "value": 1648877
     }
    },
    "cfc171cd72fb4fbf892ce7514559cc19": {
     "model_module": "@jupyter-widgets/base",
     "model_name": "LayoutModel",
     "state": {
      "_model_module": "@jupyter-widgets/base",
      "_model_module_version": "1.2.0",
      "_model_name": "LayoutModel",
      "_view_count": null,
      "_view_module": "@jupyter-widgets/base",
      "_view_module_version": "1.2.0",
      "_view_name": "LayoutView",
      "align_content": null,
      "align_items": null,
      "align_self": null,
      "border": null,
      "bottom": null,
      "display": null,
      "flex": null,
      "flex_flow": null,
      "grid_area": null,
      "grid_auto_columns": null,
      "grid_auto_flow": null,
      "grid_auto_rows": null,
      "grid_column": null,
      "grid_gap": null,
      "grid_row": null,
      "grid_template_areas": null,
      "grid_template_columns": null,
      "grid_template_rows": null,
      "height": null,
      "justify_content": null,
      "justify_items": null,
      "left": null,
      "margin": null,
      "max_height": null,
      "max_width": null,
      "min_height": null,
      "min_width": null,
      "object_fit": null,
      "object_position": null,
      "order": null,
      "overflow": null,
      "overflow_x": null,
      "overflow_y": null,
      "padding": null,
      "right": null,
      "top": null,
      "visibility": null,
      "width": null
     }
    },
    "dd5683aa30094049aaf6a9f28bf5c856": {
     "model_module": "@jupyter-widgets/controls",
     "model_name": "FloatProgressModel",
     "state": {
      "_dom_classes": [],
      "_model_module": "@jupyter-widgets/controls",
      "_model_module_version": "1.5.0",
      "_model_name": "FloatProgressModel",
      "_view_count": null,
      "_view_module": "@jupyter-widgets/controls",
      "_view_module_version": "1.5.0",
      "_view_name": "ProgressView",
      "bar_style": "success",
      "description": "",
      "description_tooltip": null,
      "layout": "IPY_MODEL_2b13cc32761646aaaedba8bf3718c86c",
      "max": 28881,
      "min": 0,
      "orientation": "horizontal",
      "style": "IPY_MODEL_2cd3368cc09549b3bc17f78be2470e20",
      "value": 28881
     }
    },
    "def33ef5b3c44505b62812ede7b827bd": {
     "model_module": "@jupyter-widgets/controls",
     "model_name": "FloatProgressModel",
     "state": {
      "_dom_classes": [],
      "_model_module": "@jupyter-widgets/controls",
      "_model_module_version": "1.5.0",
      "_model_name": "FloatProgressModel",
      "_view_count": null,
      "_view_module": "@jupyter-widgets/controls",
      "_view_module_version": "1.5.0",
      "_view_name": "ProgressView",
      "bar_style": "success",
      "description": "",
      "description_tooltip": null,
      "layout": "IPY_MODEL_93da323ab58c452d935bb0b1bf4d248f",
      "max": 4542,
      "min": 0,
      "orientation": "horizontal",
      "style": "IPY_MODEL_228d7562a7374f068824cba5181a7347",
      "value": 4542
     }
    },
    "eac2427b6dc84c7ca7d6fef4faa5b69c": {
     "model_module": "@jupyter-widgets/controls",
     "model_name": "HBoxModel",
     "state": {
      "_dom_classes": [],
      "_model_module": "@jupyter-widgets/controls",
      "_model_module_version": "1.5.0",
      "_model_name": "HBoxModel",
      "_view_count": null,
      "_view_module": "@jupyter-widgets/controls",
      "_view_module_version": "1.5.0",
      "_view_name": "HBoxView",
      "box_style": "",
      "children": [
       "IPY_MODEL_dd5683aa30094049aaf6a9f28bf5c856",
       "IPY_MODEL_751ce17b86c4426ba867cfc8685f1ad0"
      ],
      "layout": "IPY_MODEL_bde9a48c6add4dd393c5e07182f5957e"
     }
    }
   }
  }
 },
 "nbformat": 4,
 "nbformat_minor": 1
}
