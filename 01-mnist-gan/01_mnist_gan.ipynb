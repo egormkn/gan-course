{
 "cells": [
  {
   "cell_type": "markdown",
   "metadata": {
    "id": "z7M9MjU1nzEC"
   },
   "source": [
    "## GAN model"
   ]
  },
  {
   "cell_type": "markdown",
   "metadata": {
    "id": "Glhi9UoTJR0T"
   },
   "source": [
    "In 2014, Ian Goodfellow and his colleagues at the University of Montreal published a stunning paper introducing the world to GANs, or generative adversarial networks. The models play two distinct (literally, adversarial) roles. Given some real data set R, G is the generator, trying to create fake data that looks just like the genuine data, while D is the discriminator, getting data from either the real set or G and labeling the difference. Goodfellow’s metaphor (and a fine one it is) was that G was like a team of forgers trying to match real paintings with their output, while D was the team of detectives trying to tell the difference. (Except that in this case, the forgers G never get to see the original data — only the judgments of D. They’re like blind forgers.)\n",
    "\n",
    "![GAN](https://raw.githubusercontent.com/manhlab/practike-gan-2021/main/gan-mnist.png)\n",
    "\n",
    "Here's what we're going to do:\n",
    "\n",
    "- Define the parameters\n",
    "- Load the data (with transforms and normalization)\n",
    "- Denormalize for visual inspection of samples\n",
    "- Define the Discriminator network, the Generator network\n",
    "- Study the activation function: Leaky ReLU\n",
    "- Explain the output activation function: Tanh, Sigmoid\n",
    "- Look at some sample outputs\n",
    "- Define losses, optimizers and helper functions for training\n",
    " - For discriminator\n",
    " -  For generator\n",
    "- Train the model\n",
    "- Save intermediate generated images to file\n",
    "- Look at some outputs\n",
    "- Save the models\n",
    "\n",
    "![MNIST](https://i.imgur.com/CAYnuo1.jpeg)"
   ]
  },
  {
   "cell_type": "markdown",
   "metadata": {
    "id": "eLj6X3bVn3eT"
   },
   "source": [
    "### Define parameters & Load Dataset "
   ]
  },
  {
   "cell_type": "code",
   "execution_count": 6,
   "metadata": {
    "colab": {
     "base_uri": "https://localhost:8080/",
     "height": 868,
     "referenced_widgets": [
      "11be448776b14d458194ac37274e4463",
      "8935870351e94b58b7b1f5389d72e5e4",
      "7d8695db15714f3b8ff2937b2501f85a",
      "695a2b5dc04949dc851887a197a93f02",
      "0bf09242cf2c41bf94d8c7e1a92281af",
      "c1e20ca99da04b16b9551143ae4b44f2",
      "bf2df2f3039d486e9939a354e02b652f",
      "debe9d9e65a74832b9252af1b72c1bf8",
      "6a428bb521dc400cb9c1249cb6df2e8e",
      "9729ba81af3149f5b6360c9f02f15c7a",
      "e553ddd2a7384410b1760c6d24e5af13",
      "755f0320bd2c49a6894425b13b9e0be7",
      "7a9c91c79cd24294afed93be07d09045",
      "ca9c737ae7f046caa95c3d4c4f2a0df7",
      "636869cb14da4dba9761f6fe2995eafe",
      "4fe32e5f3e7a42fda228b3da84b9cc5d",
      "4696345e704445da8dad5ab05c1fb7dc",
      "dd0a7a78ebfe4599942c2481d522ff61",
      "d2205b3c1deb4ee2a9f36623a37bed3c",
      "f16cf0f9d7944f0c9bcf4ed07ad305dc",
      "4428ba6fcf6646c0976fe671d9f08280",
      "7afb409f2275411f9fbbe3229fbc301b",
      "889d9db3de854306aeb67c1846900e3a",
      "08806dfc78264a228fab26ed0f252fad",
      "66061e09c96241729b3563e847a89a44",
      "8478b91069a349988bb7375ee874a4fe",
      "acf20e754e544598988f347a5e62ba29",
      "bb306002eb2f4f36b7eca90ca75ef762",
      "577fda8452dd4c8daa92811c2d481617",
      "0eb53e67b66b41eebd32d963d55a01ab",
      "854f38dd186b4e58ac81a0f7a9d8fa11",
      "3d42f64b90004a8da33c74b64c3bd47c"
     ]
    },
    "id": "nLFY9bjosRUf",
    "outputId": "04d53d0b-ec16-499c-f4e1-c4f6f8ac6f31"
   },
   "outputs": [
    {
     "name": "stdout",
     "output_type": "stream",
     "text": [
      "Downloading http://yann.lecun.com/exdb/mnist/train-images-idx3-ubyte.gz\n",
      "Downloading http://yann.lecun.com/exdb/mnist/train-images-idx3-ubyte.gz to data/MNIST/raw/train-images-idx3-ubyte.gz\n"
     ]
    },
    {
     "name": "stderr",
     "output_type": "stream",
     "text": [
      "100.0%\n"
     ]
    },
    {
     "name": "stdout",
     "output_type": "stream",
     "text": [
      "Extracting data/MNIST/raw/train-images-idx3-ubyte.gz to data/MNIST/raw\n",
      "\n",
      "Downloading http://yann.lecun.com/exdb/mnist/train-labels-idx1-ubyte.gz\n"
     ]
    },
    {
     "name": "stderr",
     "output_type": "stream",
     "text": [
      "102.8%"
     ]
    },
    {
     "name": "stdout",
     "output_type": "stream",
     "text": [
      "Downloading http://yann.lecun.com/exdb/mnist/train-labels-idx1-ubyte.gz to data/MNIST/raw/train-labels-idx1-ubyte.gz\n",
      "Extracting data/MNIST/raw/train-labels-idx1-ubyte.gz to data/MNIST/raw\n",
      "\n",
      "Downloading http://yann.lecun.com/exdb/mnist/t10k-images-idx3-ubyte.gz\n"
     ]
    },
    {
     "name": "stderr",
     "output_type": "stream",
     "text": [
      "\n",
      "2.4%"
     ]
    },
    {
     "name": "stdout",
     "output_type": "stream",
     "text": [
      "Downloading http://yann.lecun.com/exdb/mnist/t10k-images-idx3-ubyte.gz to data/MNIST/raw/t10k-images-idx3-ubyte.gz\n"
     ]
    },
    {
     "name": "stderr",
     "output_type": "stream",
     "text": [
      "100.0%\n"
     ]
    },
    {
     "name": "stdout",
     "output_type": "stream",
     "text": [
      "Extracting data/MNIST/raw/t10k-images-idx3-ubyte.gz to data/MNIST/raw\n",
      "\n",
      "Downloading http://yann.lecun.com/exdb/mnist/t10k-labels-idx1-ubyte.gz\n"
     ]
    },
    {
     "name": "stderr",
     "output_type": "stream",
     "text": [
      "112.7%"
     ]
    },
    {
     "name": "stdout",
     "output_type": "stream",
     "text": [
      "Downloading http://yann.lecun.com/exdb/mnist/t10k-labels-idx1-ubyte.gz to data/MNIST/raw/t10k-labels-idx1-ubyte.gz\n",
      "Extracting data/MNIST/raw/t10k-labels-idx1-ubyte.gz to data/MNIST/raw\n",
      "\n"
     ]
    },
    {
     "name": "stderr",
     "output_type": "stream",
     "text": [
      "\n",
      "/home/manhlab/.local/lib/python3.9/site-packages/torchvision/datasets/mnist.py:498: UserWarning: The given NumPy array is not writeable, and PyTorch does not support non-writeable tensors. This means you can write to the underlying (supposedly non-writeable) NumPy array using the tensor. You may want to copy the array to protect its data or make it writeable before converting it to a tensor. This type of warning will be suppressed for the rest of this program. (Triggered internally at  /pytorch/torch/csrc/utils/tensor_numpy.cpp:180.)\n",
      "  return torch.from_numpy(parsed.astype(m[2], copy=False)).view(*s)\n"
     ]
    }
   ],
   "source": [
    "import torch \n",
    "import torch.nn as nn\n",
    "import numpy as np\n",
    "import cv2\n",
    "import matplotlib.pyplot as plt\n",
    "import torchvision\n",
    "from torchvision.transforms import ToTensor, Normalize, Compose\n",
    "from torchvision.datasets import MNIST\n",
    "from IPython.display import Image\n",
    "from torchvision.utils import save_image\n",
    "from torch.utils.data import DataLoader\n",
    "\n",
    "import os\n",
    "%matplotlib inline \n",
    "plt.style.use(\"ggplot\")\n",
    "hidden_size = 256 \n",
    "batch_size = 100 \n",
    "LR = 0.0002\n",
    "num_epochs = 300\n",
    "sample_dir = \"./images\"\n",
    "latent_size = 64 # input random input vector latent\n",
    "image_size = 784 # 28*28 flatten\n",
    "device = 'cuda' if torch.cuda.is_available() else 'cpu'\n",
    "\n",
    "if not os.path.exists(sample_dir):\n",
    "    os.makedirs(sample_dir)\n",
    "## Define the dataset\n",
    "mnist = MNIST(root='data', \n",
    "              train=True, \n",
    "              download=True,\n",
    "              transform=Compose([ToTensor(), Normalize(mean=(0.5,), std=(0.5,))]))"
   ]
  },
  {
   "cell_type": "code",
   "execution_count": 2,
   "metadata": {
    "colab": {
     "base_uri": "https://localhost:8080/",
     "height": 399
    },
    "id": "eqWQgynEskfc",
    "outputId": "06b706d3-3481-4d64-a593-27f89735ce95"
   },
   "outputs": [
    {
     "name": "stdout",
     "output_type": "stream",
     "text": [
      "Label:  5\n"
     ]
    },
    {
     "data": {
      "text/plain": [
       "(array([55.,  4.,  3.,  0.,  3.,  2.,  1.,  0.,  1.,  3.,  1.,  3.,  2.,\n",
       "         1., 21.]),\n",
       " array([-1.        , -0.86771244, -0.7354248 , -0.60313725, -0.47084966,\n",
       "        -0.3385621 , -0.20627451, -0.07398693,  0.05830066,  0.19058824,\n",
       "         0.32287583,  0.4551634 ,  0.587451  ,  0.71973854,  0.85202616,\n",
       "         0.9843137 ], dtype=float32),\n",
       " <a list of 15 Patch objects>)"
      ]
     },
     "execution_count": 2,
     "metadata": {
      "tags": []
     },
     "output_type": "execute_result"
    },
    {
     "data": {
      "image/png": "[encoded data removed]",
      "text/plain": [
       "<Figure size 432x288 with 1 Axes>"
      ]
     },
     "metadata": {
      "needs_background": "light",
      "tags": []
     },
     "output_type": "display_data"
    }
   ],
   "source": [
    "img, label = mnist[0]\n",
    "print('Label: ', label)\n",
    "plt.hist(img[:,5:15,5:15].flatten(), bins=15)"
   ]
  },
  {
   "cell_type": "code",
   "execution_count": 3,
   "metadata": {
    "id": "AJ99uFMbs0Tv"
   },
   "outputs": [],
   "source": [
    "# denormalization image from range (-1)-1 to range 0-1 to display it\n",
    "def denorm(x):\n",
    "    "
   ]
  },
  {
   "cell_type": "code",
   "execution_count": 4,
   "metadata": {
    "colab": {
     "base_uri": "https://localhost:8080/",
     "height": 282
    },
    "id": "u6Jk2l71s60n",
    "outputId": "8c509179-4eb5-4440-90f5-e18aa29bf04c"
   },
   "outputs": [
    {
     "name": "stdout",
     "output_type": "stream",
     "text": [
      "Label: 5\n"
     ]
    },
    {
     "data": {
      "image/png": "[encoded data removed]",
      "text/plain": [
       "<Figure size 432x288 with 1 Axes>"
      ]
     },
     "metadata": {
      "needs_background": "light",
      "tags": []
     },
     "output_type": "display_data"
    }
   ],
   "source": [
    "# show  image sample with matplotlib\n"
   ]
  },
  {
   "cell_type": "code",
   "execution_count": 5,
   "metadata": {
    "id": "OtFjF7Qgs7UN"
   },
   "outputs": [],
   "source": [
    "# define the dataloader\n"
   ]
  },
  {
   "cell_type": "markdown",
   "metadata": {
    "id": "rPHV6bpRLBCN"
   },
   "source": [
    "GAN состоит из двух глубоких сетей, генератора и дискриминатора. генератор создает изображения, прежде чем научиться его обучать. Поскольку дискриминатор представляет собой модель бинарной классификации, мы можем использовать функцию потери бинарной кросс-энтропии для количественной оценки того, насколько хорошо он может различать реальные и сгенерированные изображения.\n",
    "\n",
    "![](https://raw.githubusercontent.com/manhlab/practike-gan-2021/main/generator.png)\n",
    "\n",
    "![](https://raw.githubusercontent.com/manhlab/practike-gan-2021/main/discriminator.png)"
   ]
  },
  {
   "cell_type": "code",
   "execution_count": 7,
   "metadata": {
    "id": "5mqLi2BcuqHh"
   },
   "outputs": [],
   "source": [
    "class Generator(nn.Module):\n",
    "    def __init__(self, latent_size,image_size, hidden_size):\n",
    "        super(Generator, self).__init__()\n",
    "        ## set a linear layer with input size is latent_size and output size is hidden_size\n",
    "\n",
    "        #set a linear layer with input size is hidden_size and output size is hidden_size\n",
    "       \n",
    "        #set a linear layer with input size is hidden_size and output size is image_size\n",
    "\n",
    "\n",
    "    def forward(self, x):\n",
    "        # forward x -> linear1 -> relu -> linear2 -> relu -> linear3 -> tanh\n",
    "        return x\n",
    "\n",
    "class Discriminator(nn.Module):\n",
    "    def __init__(self, image_size, hidden_size):\n",
    "        super(Discriminator, self).__init__()\n",
    "        ## set a linear layer with input size is latent_size and output size is hidden_size\n",
    "\n",
    "        #set a linear layer with input size is hidden_size and output size is hidden_size\n",
    "\n",
    "        #set a linear layer with input size is hidden_size and output size is 1\n",
    "\n",
    "        \n",
    "    def forward(self, x):\n",
    "        # forward x -> linear1 -> relu -> linear2 -> relu -> linear3 -> sigmoid\n",
    "    \n",
    "        return x"
   ]
  },
  {
   "cell_type": "markdown",
   "metadata": {
    "id": "uASvrGJdRMZP"
   },
   "source": [
    "## Create the Generator and Discriminator"
   ]
  },
  {
   "cell_type": "code",
   "execution_count": 22,
   "metadata": {
    "id": "3UmIcluuuspN"
   },
   "outputs": [],
   "source": [
    "# create new Generator model\n",
    "\n",
    "# create new Discriminator model\n",
    "\n"
   ]
  },
  {
   "cell_type": "code",
   "execution_count": 23,
   "metadata": {
    "id": "tde-ysXauzTM"
   },
   "outputs": [],
   "source": [
    "# show the output of model \n",
    "y = G(torch.randn(2, latent_size))\n"
   ]
  },
  {
   "cell_type": "code",
   "execution_count": 25,
   "metadata": {
    "id": "NIbCDXeWU4me"
   },
   "outputs": [],
   "source": [
    "# define the criterion is nn.BCELoss()\n",
    "\n",
    "## Define the optimizer for generator and discrimator\n"
   ]
  },
  {
   "cell_type": "markdown",
   "metadata": {
    "id": "iSuQWvwfGIz1"
   },
   "source": [
    "Discriminator Training"
   ]
  },
  {
   "cell_type": "code",
   "execution_count": 26,
   "metadata": {
    "id": "QpDUg561u76k"
   },
   "outputs": [],
   "source": [
    "def reset_grad():\n",
    "    ## reset gradient for optimizer of generator and discrimator\n",
    "\n",
    "def train_discriminator(images):\n",
    "  \n",
    "    # Create the labels which are later used as input for the BCE loss\n",
    "    real_labels = torch.ones(batch_size, 1).to(device)\n",
    "    fake_labels = torch.zeros(batch_size, 1).to(device)\n",
    "        \n",
    "    \n",
    "    outputs = D(images)\n",
    "    # Loss for real images\n",
    "    \n",
    "    real_score = outputs\n",
    "\n",
    "    # Loss for fake images\n",
    "    z = torch.randn(batch_size, latent_size).to(device)\n",
    "    fake_images = G(z)\n",
    "    outputs = D(fake_images)\n",
    "\n",
    "    fake_score = outputs\n",
    "\n",
    "    # Sum losses\n",
    "\n",
    "    # Reset gradients\n",
    "\n",
    "    # Compute gradients\n",
    "\n",
    "    # Adjust the parameters using backprop\n",
    "    \n",
    "    return d_loss, real_score, fake_score"
   ]
  },
  {
   "cell_type": "markdown",
   "metadata": {
    "id": "Xozik5p6GPY-"
   },
   "source": [
    "Generator Training"
   ]
  },
  {
   "cell_type": "code",
   "execution_count": 27,
   "metadata": {
    "id": "W2ObcPjTvBgw"
   },
   "outputs": [],
   "source": [
    "def train_generator():\n",
    "    # Generate fake images and calculate loss\n",
    "    # z = torch.randn(batch_size, latent_size).to(device)\n",
    "    z = torch.Tensor(np.random.normal(0, 1, (batch_size, latent_size))).to(device)\n",
    "    fake_images = G(z)\n",
    "    labels = torch.ones(batch_size, 1).to(device)\n",
    "    # calculate the generator loss\n",
    "\n",
    "    \n",
    "    # Reset gradients\n",
    "    \n",
    "    # Backprop and optimize\n",
    "\n",
    "    return g_loss, fake_images"
   ]
  },
  {
   "cell_type": "markdown",
   "metadata": {
    "id": "B6PjuMssQkkL"
   },
   "source": [
    "## Start the training proccess"
   ]
  },
  {
   "cell_type": "code",
   "execution_count": 28,
   "metadata": {
    "id": "YJPoUoJzG8RC"
   },
   "outputs": [],
   "source": [
    "# function to save the sample output of generator\n",
    "def save_fake_images(index):\n",
    "    # sample_vectors = torch.randn(batch_size, latent_size).to(device)\n",
    "    sample_vectors = torch.Tensor(np.random.normal(0, 1, (batch_size, latent_size))).to(device)\n",
    "    fake_images = G(sample_vectors)\n",
    "    fake_images = fake_images.reshape(fake_images.size(0), 1, 28, 28)\n",
    "    fake_fname = 'fake_images-{0:0=4d}.png'.format(index)\n",
    "    print('Saving', fake_fname)\n",
    "    save_image(denorm(fake_images), os.path.join(sample_dir, fake_fname), nrow=10)"
   ]
  },
  {
   "cell_type": "code",
   "execution_count": null,
   "metadata": {
    "colab": {
     "base_uri": "https://localhost:8080/"
    },
    "id": "9jMuzvUtvD26",
    "outputId": "a6d2cd57-104a-4b5c-aa05-88f58f30edbf"
   },
   "outputs": [
    {
     "name": "stdout",
     "output_type": "stream",
     "text": [
      "Epoch [0/300], Step [200/600], d_loss: 0.0546, g_loss: 3.7615, D(x): 0.99, D(G(z)): 0.05\n",
      "Epoch [0/300], Step [400/600], d_loss: 0.0599, g_loss: 5.3183, D(x): 0.97, D(G(z)): 0.02\n",
      "Epoch [0/300], Step [600/600], d_loss: 0.1002, g_loss: 4.5499, D(x): 0.98, D(G(z)): 0.07\n",
      "Saving fake_images-0001.png\n",
      "Epoch [1/300], Step [200/600], d_loss: 0.0446, g_loss: 4.7606, D(x): 0.98, D(G(z)): 0.02\n",
      "Epoch [1/300], Step [400/600], d_loss: 0.5949, g_loss: 3.1203, D(x): 0.80, D(G(z)): 0.10\n",
      "Epoch [1/300], Step [600/600], d_loss: 0.3572, g_loss: 3.4711, D(x): 0.87, D(G(z)): 0.13\n",
      "Saving fake_images-0002.png\n",
      "Epoch [2/300], Step [200/600], d_loss: 0.1103, g_loss: 3.8090, D(x): 0.94, D(G(z)): 0.04\n",
      "Epoch [2/300], Step [400/600], d_loss: 0.4579, g_loss: 3.3113, D(x): 0.88, D(G(z)): 0.21\n",
      "Epoch [2/300], Step [600/600], d_loss: 0.4701, g_loss: 2.9856, D(x): 0.84, D(G(z)): 0.15\n",
      "Saving fake_images-0003.png\n",
      "Epoch [3/300], Step [200/600], d_loss: 0.3095, g_loss: 5.3769, D(x): 0.85, D(G(z)): 0.05\n",
      "Epoch [3/300], Step [400/600], d_loss: 0.4037, g_loss: 4.2379, D(x): 0.84, D(G(z)): 0.08\n",
      "Epoch [3/300], Step [600/600], d_loss: 0.6714, g_loss: 2.9982, D(x): 0.79, D(G(z)): 0.18\n",
      "Saving fake_images-0004.png\n",
      "Epoch [4/300], Step [200/600], d_loss: 1.1621, g_loss: 1.3490, D(x): 0.62, D(G(z)): 0.24\n",
      "Epoch [4/300], Step [400/600], d_loss: 0.6203, g_loss: 2.8933, D(x): 0.86, D(G(z)): 0.26\n",
      "Epoch [4/300], Step [600/600], d_loss: 0.7544, g_loss: 2.5331, D(x): 0.84, D(G(z)): 0.35\n",
      "Saving fake_images-0005.png\n",
      "Epoch [5/300], Step [200/600], d_loss: 0.3275, g_loss: 2.8923, D(x): 0.89, D(G(z)): 0.12\n",
      "Epoch [5/300], Step [400/600], d_loss: 0.7068, g_loss: 2.7283, D(x): 0.80, D(G(z)): 0.23\n",
      "Epoch [5/300], Step [600/600], d_loss: 0.2546, g_loss: 3.4098, D(x): 0.92, D(G(z)): 0.06\n",
      "Saving fake_images-0006.png\n",
      "Epoch [6/300], Step [200/600], d_loss: 0.2923, g_loss: 3.3093, D(x): 0.93, D(G(z)): 0.12\n",
      "Epoch [6/300], Step [400/600], d_loss: 0.3205, g_loss: 2.2686, D(x): 0.93, D(G(z)): 0.15\n",
      "Epoch [6/300], Step [600/600], d_loss: 0.0657, g_loss: 4.7788, D(x): 0.97, D(G(z)): 0.02\n",
      "Saving fake_images-0007.png\n",
      "Epoch [7/300], Step [200/600], d_loss: 0.3548, g_loss: 3.3613, D(x): 0.90, D(G(z)): 0.08\n",
      "Epoch [7/300], Step [400/600], d_loss: 0.2302, g_loss: 4.5611, D(x): 0.93, D(G(z)): 0.05\n",
      "Epoch [7/300], Step [600/600], d_loss: 0.0788, g_loss: 5.7188, D(x): 0.97, D(G(z)): 0.03\n",
      "Saving fake_images-0008.png\n",
      "Epoch [8/300], Step [200/600], d_loss: 0.3945, g_loss: 3.9790, D(x): 0.86, D(G(z)): 0.03\n",
      "Epoch [8/300], Step [400/600], d_loss: 0.0909, g_loss: 4.9708, D(x): 0.97, D(G(z)): 0.04\n",
      "Epoch [8/300], Step [600/600], d_loss: 0.1790, g_loss: 4.4318, D(x): 0.95, D(G(z)): 0.03\n",
      "Saving fake_images-0009.png\n",
      "Epoch [9/300], Step [200/600], d_loss: 0.3689, g_loss: 4.4013, D(x): 0.87, D(G(z)): 0.04\n",
      "Epoch [9/300], Step [400/600], d_loss: 0.2920, g_loss: 3.8033, D(x): 0.91, D(G(z)): 0.07\n",
      "Epoch [9/300], Step [600/600], d_loss: 0.2821, g_loss: 6.4379, D(x): 0.89, D(G(z)): 0.04\n",
      "Saving fake_images-0010.png\n",
      "Epoch [10/300], Step [200/600], d_loss: 0.3154, g_loss: 4.5977, D(x): 0.91, D(G(z)): 0.11\n",
      "Epoch [10/300], Step [400/600], d_loss: 0.1099, g_loss: 5.0921, D(x): 0.96, D(G(z)): 0.03\n",
      "Epoch [10/300], Step [600/600], d_loss: 0.1768, g_loss: 3.9591, D(x): 0.96, D(G(z)): 0.10\n",
      "Saving fake_images-0011.png\n",
      "Epoch [11/300], Step [200/600], d_loss: 0.4313, g_loss: 3.8379, D(x): 0.98, D(G(z)): 0.26\n",
      "Epoch [11/300], Step [400/600], d_loss: 0.3156, g_loss: 3.5817, D(x): 0.90, D(G(z)): 0.03\n",
      "Epoch [11/300], Step [600/600], d_loss: 0.2951, g_loss: 4.3447, D(x): 0.94, D(G(z)): 0.13\n",
      "Saving fake_images-0012.png\n",
      "Epoch [12/300], Step [200/600], d_loss: 0.6570, g_loss: 5.4835, D(x): 0.81, D(G(z)): 0.02\n",
      "Epoch [12/300], Step [400/600], d_loss: 0.2825, g_loss: 4.3188, D(x): 0.95, D(G(z)): 0.13\n",
      "Epoch [12/300], Step [600/600], d_loss: 0.3479, g_loss: 4.9423, D(x): 0.87, D(G(z)): 0.02\n",
      "Saving fake_images-0013.png\n",
      "Epoch [13/300], Step [200/600], d_loss: 0.3334, g_loss: 3.0073, D(x): 0.88, D(G(z)): 0.07\n",
      "Epoch [13/300], Step [400/600], d_loss: 0.0871, g_loss: 3.7966, D(x): 0.98, D(G(z)): 0.06\n",
      "Epoch [13/300], Step [600/600], d_loss: 0.3349, g_loss: 4.7444, D(x): 0.96, D(G(z)): 0.14\n",
      "Saving fake_images-0014.png\n",
      "Epoch [14/300], Step [200/600], d_loss: 0.2476, g_loss: 4.4928, D(x): 0.93, D(G(z)): 0.07\n",
      "Epoch [14/300], Step [400/600], d_loss: 0.4139, g_loss: 4.8117, D(x): 0.90, D(G(z)): 0.03\n",
      "Epoch [14/300], Step [600/600], d_loss: 0.3168, g_loss: 4.9025, D(x): 0.93, D(G(z)): 0.03\n",
      "Saving fake_images-0015.png\n",
      "Epoch [15/300], Step [200/600], d_loss: 0.1506, g_loss: 5.1001, D(x): 0.94, D(G(z)): 0.03\n",
      "Epoch [15/300], Step [400/600], d_loss: 0.1195, g_loss: 4.7810, D(x): 0.95, D(G(z)): 0.03\n",
      "Epoch [15/300], Step [600/600], d_loss: 0.2695, g_loss: 6.4612, D(x): 0.92, D(G(z)): 0.06\n",
      "Saving fake_images-0016.png\n",
      "Epoch [16/300], Step [200/600], d_loss: 0.1464, g_loss: 5.6010, D(x): 0.96, D(G(z)): 0.05\n",
      "Epoch [16/300], Step [400/600], d_loss: 0.1150, g_loss: 7.2189, D(x): 0.95, D(G(z)): 0.02\n",
      "Epoch [16/300], Step [600/600], d_loss: 0.0959, g_loss: 5.4629, D(x): 0.96, D(G(z)): 0.03\n",
      "Saving fake_images-0017.png\n",
      "Epoch [17/300], Step [200/600], d_loss: 0.1707, g_loss: 6.1232, D(x): 0.97, D(G(z)): 0.08\n",
      "Epoch [17/300], Step [400/600], d_loss: 0.2332, g_loss: 4.6213, D(x): 0.92, D(G(z)): 0.04\n",
      "Epoch [17/300], Step [600/600], d_loss: 0.1595, g_loss: 3.8795, D(x): 0.95, D(G(z)): 0.04\n",
      "Saving fake_images-0018.png\n",
      "Epoch [18/300], Step [200/600], d_loss: 0.3858, g_loss: 4.9292, D(x): 0.93, D(G(z)): 0.14\n",
      "Epoch [18/300], Step [400/600], d_loss: 0.2781, g_loss: 4.7138, D(x): 0.89, D(G(z)): 0.03\n",
      "Epoch [18/300], Step [600/600], d_loss: 0.1678, g_loss: 4.8863, D(x): 0.94, D(G(z)): 0.03\n",
      "Saving fake_images-0019.png\n",
      "Epoch [19/300], Step [200/600], d_loss: 0.1681, g_loss: 4.9453, D(x): 0.97, D(G(z)): 0.06\n",
      "Epoch [19/300], Step [400/600], d_loss: 0.2416, g_loss: 4.5336, D(x): 0.92, D(G(z)): 0.02\n",
      "Epoch [19/300], Step [600/600], d_loss: 0.1067, g_loss: 5.8272, D(x): 0.97, D(G(z)): 0.04\n",
      "Saving fake_images-0020.png\n",
      "Epoch [20/300], Step [200/600], d_loss: 0.2136, g_loss: 5.6049, D(x): 0.93, D(G(z)): 0.05\n",
      "Epoch [20/300], Step [400/600], d_loss: 0.3629, g_loss: 5.2500, D(x): 0.91, D(G(z)): 0.06\n",
      "Epoch [20/300], Step [600/600], d_loss: 0.2313, g_loss: 5.2192, D(x): 0.94, D(G(z)): 0.09\n",
      "Saving fake_images-0021.png\n",
      "Epoch [21/300], Step [200/600], d_loss: 0.3930, g_loss: 6.7195, D(x): 0.94, D(G(z)): 0.21\n",
      "Epoch [21/300], Step [400/600], d_loss: 0.1739, g_loss: 4.4618, D(x): 0.95, D(G(z)): 0.08\n",
      "Epoch [21/300], Step [600/600], d_loss: 0.1448, g_loss: 5.3657, D(x): 0.95, D(G(z)): 0.04\n",
      "Saving fake_images-0022.png\n",
      "Epoch [22/300], Step [200/600], d_loss: 0.1826, g_loss: 3.3759, D(x): 0.95, D(G(z)): 0.10\n",
      "Epoch [22/300], Step [400/600], d_loss: 0.2990, g_loss: 3.1123, D(x): 0.90, D(G(z)): 0.05\n",
      "Epoch [22/300], Step [600/600], d_loss: 0.2140, g_loss: 3.3804, D(x): 0.94, D(G(z)): 0.09\n",
      "Saving fake_images-0023.png\n",
      "Epoch [23/300], Step [200/600], d_loss: 0.3336, g_loss: 3.9883, D(x): 0.91, D(G(z)): 0.10\n",
      "Epoch [23/300], Step [400/600], d_loss: 0.3166, g_loss: 3.6436, D(x): 0.92, D(G(z)): 0.12\n",
      "Epoch [23/300], Step [600/600], d_loss: 0.6601, g_loss: 3.8876, D(x): 0.78, D(G(z)): 0.02\n",
      "Saving fake_images-0024.png\n",
      "Epoch [24/300], Step [200/600], d_loss: 0.3000, g_loss: 4.1329, D(x): 0.91, D(G(z)): 0.08\n",
      "Epoch [24/300], Step [400/600], d_loss: 0.3040, g_loss: 3.7159, D(x): 0.93, D(G(z)): 0.09\n",
      "Epoch [24/300], Step [600/600], d_loss: 0.5147, g_loss: 3.4839, D(x): 0.87, D(G(z)): 0.11\n",
      "Saving fake_images-0025.png\n",
      "Epoch [25/300], Step [200/600], d_loss: 0.3132, g_loss: 3.8929, D(x): 0.94, D(G(z)): 0.13\n",
      "Epoch [25/300], Step [400/600], d_loss: 0.1917, g_loss: 6.2751, D(x): 0.94, D(G(z)): 0.07\n",
      "Epoch [25/300], Step [600/600], d_loss: 0.1972, g_loss: 5.4009, D(x): 0.94, D(G(z)): 0.04\n",
      "Saving fake_images-0026.png\n",
      "Epoch [26/300], Step [200/600], d_loss: 0.3086, g_loss: 4.2562, D(x): 0.94, D(G(z)): 0.13\n",
      "Epoch [26/300], Step [400/600], d_loss: 0.2464, g_loss: 4.3743, D(x): 0.91, D(G(z)): 0.05\n",
      "Epoch [26/300], Step [600/600], d_loss: 0.6981, g_loss: 4.9277, D(x): 0.81, D(G(z)): 0.04\n",
      "Saving fake_images-0027.png\n",
      "Epoch [27/300], Step [200/600], d_loss: 0.1645, g_loss: 5.5039, D(x): 0.93, D(G(z)): 0.04\n",
      "Epoch [27/300], Step [400/600], d_loss: 0.2747, g_loss: 4.6112, D(x): 0.95, D(G(z)): 0.13\n",
      "Epoch [27/300], Step [600/600], d_loss: 0.5093, g_loss: 3.9378, D(x): 0.85, D(G(z)): 0.05\n",
      "Saving fake_images-0028.png\n",
      "Epoch [28/300], Step [200/600], d_loss: 0.1549, g_loss: 4.3517, D(x): 0.94, D(G(z)): 0.06\n",
      "Epoch [28/300], Step [400/600], d_loss: 0.3869, g_loss: 3.5426, D(x): 0.93, D(G(z)): 0.16\n",
      "Epoch [28/300], Step [600/600], d_loss: 0.2029, g_loss: 3.7538, D(x): 0.96, D(G(z)): 0.10\n",
      "Saving fake_images-0029.png\n",
      "Epoch [29/300], Step [200/600], d_loss: 0.2769, g_loss: 4.2101, D(x): 0.89, D(G(z)): 0.07\n",
      "Epoch [29/300], Step [400/600], d_loss: 0.4508, g_loss: 4.1919, D(x): 0.87, D(G(z)): 0.09\n",
      "Epoch [29/300], Step [600/600], d_loss: 0.3031, g_loss: 3.8543, D(x): 0.93, D(G(z)): 0.13\n",
      "Saving fake_images-0030.png\n",
      "Epoch [30/300], Step [200/600], d_loss: 0.5361, g_loss: 3.4315, D(x): 0.91, D(G(z)): 0.17\n",
      "Epoch [30/300], Step [400/600], d_loss: 0.9810, g_loss: 4.6539, D(x): 0.67, D(G(z)): 0.04\n",
      "Epoch [30/300], Step [600/600], d_loss: 0.4412, g_loss: 3.7347, D(x): 0.87, D(G(z)): 0.13\n",
      "Saving fake_images-0031.png\n",
      "Epoch [31/300], Step [200/600], d_loss: 0.2739, g_loss: 4.0032, D(x): 0.91, D(G(z)): 0.07\n",
      "Epoch [31/300], Step [400/600], d_loss: 0.4941, g_loss: 3.7308, D(x): 0.80, D(G(z)): 0.06\n",
      "Epoch [31/300], Step [600/600], d_loss: 0.2376, g_loss: 4.5514, D(x): 0.90, D(G(z)): 0.04\n",
      "Saving fake_images-0032.png\n",
      "Epoch [32/300], Step [200/600], d_loss: 0.2583, g_loss: 4.2974, D(x): 0.92, D(G(z)): 0.09\n",
      "Epoch [32/300], Step [400/600], d_loss: 0.5278, g_loss: 4.1717, D(x): 0.86, D(G(z)): 0.15\n",
      "Epoch [32/300], Step [600/600], d_loss: 0.3490, g_loss: 4.3010, D(x): 0.86, D(G(z)): 0.07\n",
      "Saving fake_images-0033.png\n",
      "Epoch [33/300], Step [200/600], d_loss: 0.3172, g_loss: 4.2025, D(x): 0.89, D(G(z)): 0.07\n",
      "Epoch [33/300], Step [400/600], d_loss: 0.3935, g_loss: 3.2976, D(x): 0.85, D(G(z)): 0.09\n",
      "Epoch [33/300], Step [600/600], d_loss: 0.5337, g_loss: 4.3965, D(x): 0.86, D(G(z)): 0.13\n",
      "Saving fake_images-0034.png\n",
      "Epoch [34/300], Step [200/600], d_loss: 0.3453, g_loss: 3.4578, D(x): 0.92, D(G(z)): 0.12\n",
      "Epoch [34/300], Step [400/600], d_loss: 0.3700, g_loss: 4.3911, D(x): 0.89, D(G(z)): 0.13\n",
      "Epoch [34/300], Step [600/600], d_loss: 0.1520, g_loss: 5.1065, D(x): 0.94, D(G(z)): 0.05\n",
      "Saving fake_images-0035.png\n",
      "Epoch [35/300], Step [200/600], d_loss: 0.4322, g_loss: 3.5292, D(x): 0.84, D(G(z)): 0.09\n",
      "Epoch [35/300], Step [400/600], d_loss: 0.5377, g_loss: 2.8522, D(x): 0.92, D(G(z)): 0.24\n",
      "Epoch [35/300], Step [600/600], d_loss: 0.2582, g_loss: 3.4444, D(x): 0.93, D(G(z)): 0.10\n",
      "Saving fake_images-0036.png\n",
      "Epoch [36/300], Step [200/600], d_loss: 0.3475, g_loss: 3.9598, D(x): 0.93, D(G(z)): 0.14\n",
      "Epoch [36/300], Step [400/600], d_loss: 0.2466, g_loss: 3.6903, D(x): 0.90, D(G(z)): 0.05\n",
      "Epoch [36/300], Step [600/600], d_loss: 0.4444, g_loss: 4.3596, D(x): 0.94, D(G(z)): 0.20\n",
      "Saving fake_images-0037.png\n",
      "Epoch [37/300], Step [200/600], d_loss: 0.4954, g_loss: 3.1561, D(x): 0.81, D(G(z)): 0.06\n",
      "Epoch [37/300], Step [400/600], d_loss: 0.5062, g_loss: 4.8900, D(x): 0.86, D(G(z)): 0.11\n",
      "Epoch [37/300], Step [600/600], d_loss: 0.4775, g_loss: 3.6578, D(x): 0.82, D(G(z)): 0.11\n",
      "Saving fake_images-0038.png\n",
      "Epoch [38/300], Step [200/600], d_loss: 0.4074, g_loss: 3.4791, D(x): 0.84, D(G(z)): 0.09\n",
      "Epoch [38/300], Step [400/600], d_loss: 0.7390, g_loss: 2.7696, D(x): 0.78, D(G(z)): 0.12\n",
      "Epoch [38/300], Step [600/600], d_loss: 0.4968, g_loss: 2.9758, D(x): 0.85, D(G(z)): 0.14\n",
      "Saving fake_images-0039.png\n",
      "Epoch [39/300], Step [200/600], d_loss: 0.4528, g_loss: 2.5279, D(x): 0.82, D(G(z)): 0.11\n",
      "Epoch [39/300], Step [400/600], d_loss: 0.5072, g_loss: 3.5929, D(x): 0.90, D(G(z)): 0.20\n",
      "Epoch [39/300], Step [600/600], d_loss: 0.4265, g_loss: 2.9364, D(x): 0.86, D(G(z)): 0.14\n",
      "Saving fake_images-0040.png\n",
      "Epoch [40/300], Step [200/600], d_loss: 0.3353, g_loss: 3.1444, D(x): 0.92, D(G(z)): 0.16\n",
      "Epoch [40/300], Step [400/600], d_loss: 0.3657, g_loss: 3.5514, D(x): 0.88, D(G(z)): 0.09\n",
      "Epoch [40/300], Step [600/600], d_loss: 0.4626, g_loss: 3.1092, D(x): 0.84, D(G(z)): 0.11\n",
      "Saving fake_images-0041.png\n",
      "Epoch [41/300], Step [200/600], d_loss: 0.5462, g_loss: 3.2635, D(x): 0.91, D(G(z)): 0.25\n",
      "Epoch [41/300], Step [400/600], d_loss: 0.5062, g_loss: 3.6074, D(x): 0.80, D(G(z)): 0.11\n",
      "Epoch [41/300], Step [600/600], d_loss: 0.4421, g_loss: 2.9959, D(x): 0.86, D(G(z)): 0.14\n",
      "Saving fake_images-0042.png\n",
      "Epoch [42/300], Step [200/600], d_loss: 0.4235, g_loss: 3.2176, D(x): 0.90, D(G(z)): 0.22\n",
      "Epoch [42/300], Step [400/600], d_loss: 0.4228, g_loss: 3.1577, D(x): 0.85, D(G(z)): 0.09\n",
      "Epoch [42/300], Step [600/600], d_loss: 0.5652, g_loss: 2.9153, D(x): 0.91, D(G(z)): 0.27\n",
      "Saving fake_images-0043.png\n",
      "Epoch [43/300], Step [200/600], d_loss: 0.5671, g_loss: 2.2251, D(x): 0.89, D(G(z)): 0.23\n",
      "Epoch [43/300], Step [400/600], d_loss: 0.3241, g_loss: 3.8818, D(x): 0.88, D(G(z)): 0.11\n",
      "Epoch [43/300], Step [600/600], d_loss: 0.3696, g_loss: 4.0645, D(x): 0.90, D(G(z)): 0.14\n",
      "Saving fake_images-0044.png\n",
      "Epoch [44/300], Step [200/600], d_loss: 0.4251, g_loss: 3.8750, D(x): 0.87, D(G(z)): 0.12\n",
      "Epoch [44/300], Step [400/600], d_loss: 0.3993, g_loss: 2.8800, D(x): 0.85, D(G(z)): 0.12\n",
      "Epoch [44/300], Step [600/600], d_loss: 0.4550, g_loss: 2.9414, D(x): 0.86, D(G(z)): 0.13\n",
      "Saving fake_images-0045.png\n",
      "Epoch [45/300], Step [200/600], d_loss: 0.2644, g_loss: 3.8932, D(x): 0.90, D(G(z)): 0.08\n",
      "Epoch [45/300], Step [400/600], d_loss: 0.8105, g_loss: 3.7534, D(x): 0.70, D(G(z)): 0.04\n",
      "Epoch [45/300], Step [600/600], d_loss: 0.5291, g_loss: 3.0350, D(x): 0.80, D(G(z)): 0.11\n",
      "Saving fake_images-0046.png\n",
      "Epoch [46/300], Step [200/600], d_loss: 0.3904, g_loss: 4.0225, D(x): 0.82, D(G(z)): 0.05\n",
      "Epoch [46/300], Step [400/600], d_loss: 0.6102, g_loss: 2.6800, D(x): 0.79, D(G(z)): 0.12\n",
      "Epoch [46/300], Step [600/600], d_loss: 0.7422, g_loss: 2.5181, D(x): 0.92, D(G(z)): 0.32\n",
      "Saving fake_images-0047.png\n",
      "Epoch [47/300], Step [200/600], d_loss: 0.5344, g_loss: 2.7135, D(x): 0.87, D(G(z)): 0.20\n",
      "Epoch [47/300], Step [400/600], d_loss: 0.4238, g_loss: 3.2940, D(x): 0.89, D(G(z)): 0.18\n",
      "Epoch [47/300], Step [600/600], d_loss: 0.5544, g_loss: 3.0539, D(x): 0.85, D(G(z)): 0.19\n",
      "Saving fake_images-0048.png\n",
      "Epoch [48/300], Step [200/600], d_loss: 0.6446, g_loss: 3.3441, D(x): 0.86, D(G(z)): 0.23\n",
      "Epoch [48/300], Step [400/600], d_loss: 0.5423, g_loss: 2.6582, D(x): 0.90, D(G(z)): 0.23\n",
      "Epoch [48/300], Step [600/600], d_loss: 0.3814, g_loss: 3.1260, D(x): 0.84, D(G(z)): 0.08\n",
      "Saving fake_images-0049.png\n",
      "Epoch [49/300], Step [200/600], d_loss: 0.5698, g_loss: 3.4923, D(x): 0.73, D(G(z)): 0.06\n",
      "Epoch [49/300], Step [400/600], d_loss: 0.6562, g_loss: 2.2353, D(x): 0.84, D(G(z)): 0.21\n",
      "Epoch [49/300], Step [600/600], d_loss: 0.5157, g_loss: 3.2646, D(x): 0.78, D(G(z)): 0.09\n",
      "Saving fake_images-0050.png\n",
      "Epoch [50/300], Step [200/600], d_loss: 0.6720, g_loss: 1.8347, D(x): 0.89, D(G(z)): 0.30\n",
      "Epoch [50/300], Step [400/600], d_loss: 0.5152, g_loss: 2.3188, D(x): 0.82, D(G(z)): 0.17\n",
      "Epoch [50/300], Step [600/600], d_loss: 0.5637, g_loss: 2.5121, D(x): 0.78, D(G(z)): 0.14\n",
      "Saving fake_images-0051.png\n",
      "Epoch [51/300], Step [200/600], d_loss: 0.7321, g_loss: 2.0606, D(x): 0.89, D(G(z)): 0.30\n",
      "Epoch [51/300], Step [400/600], d_loss: 0.4909, g_loss: 1.9961, D(x): 0.89, D(G(z)): 0.20\n",
      "Epoch [51/300], Step [600/600], d_loss: 0.3761, g_loss: 2.6905, D(x): 0.88, D(G(z)): 0.17\n",
      "Saving fake_images-0052.png\n",
      "Epoch [52/300], Step [200/600], d_loss: 0.5411, g_loss: 2.9224, D(x): 0.82, D(G(z)): 0.13\n",
      "Epoch [52/300], Step [400/600], d_loss: 0.6026, g_loss: 2.1176, D(x): 0.84, D(G(z)): 0.25\n",
      "Epoch [52/300], Step [600/600], d_loss: 0.7657, g_loss: 1.8580, D(x): 0.76, D(G(z)): 0.23\n",
      "Saving fake_images-0053.png\n",
      "Epoch [53/300], Step [200/600], d_loss: 0.7328, g_loss: 3.1685, D(x): 0.78, D(G(z)): 0.14\n",
      "Epoch [53/300], Step [400/600], d_loss: 0.8816, g_loss: 2.2152, D(x): 0.74, D(G(z)): 0.20\n",
      "Epoch [53/300], Step [600/600], d_loss: 0.4212, g_loss: 2.3060, D(x): 0.84, D(G(z)): 0.13\n",
      "Saving fake_images-0054.png\n",
      "Epoch [54/300], Step [200/600], d_loss: 0.6649, g_loss: 1.9418, D(x): 0.85, D(G(z)): 0.27\n",
      "Epoch [54/300], Step [400/600], d_loss: 0.5524, g_loss: 3.0099, D(x): 0.77, D(G(z)): 0.13\n",
      "Epoch [54/300], Step [600/600], d_loss: 0.6094, g_loss: 1.8372, D(x): 0.85, D(G(z)): 0.20\n",
      "Saving fake_images-0055.png\n",
      "Epoch [55/300], Step [200/600], d_loss: 0.4701, g_loss: 2.4782, D(x): 0.86, D(G(z)): 0.19\n",
      "Epoch [55/300], Step [400/600], d_loss: 0.7155, g_loss: 2.2982, D(x): 0.80, D(G(z)): 0.22\n",
      "Epoch [55/300], Step [600/600], d_loss: 0.6220, g_loss: 2.8446, D(x): 0.84, D(G(z)): 0.22\n",
      "Saving fake_images-0056.png\n",
      "Epoch [56/300], Step [200/600], d_loss: 0.5287, g_loss: 3.1109, D(x): 0.81, D(G(z)): 0.17\n",
      "Epoch [56/300], Step [400/600], d_loss: 0.5195, g_loss: 2.5305, D(x): 0.83, D(G(z)): 0.15\n",
      "Epoch [56/300], Step [600/600], d_loss: 0.4347, g_loss: 3.0057, D(x): 0.89, D(G(z)): 0.20\n",
      "Saving fake_images-0057.png\n",
      "Epoch [57/300], Step [200/600], d_loss: 0.5122, g_loss: 3.7327, D(x): 0.83, D(G(z)): 0.14\n",
      "Epoch [57/300], Step [400/600], d_loss: 0.5243, g_loss: 2.8730, D(x): 0.83, D(G(z)): 0.16\n",
      "Epoch [57/300], Step [600/600], d_loss: 0.6930, g_loss: 2.3001, D(x): 0.89, D(G(z)): 0.30\n",
      "Saving fake_images-0058.png\n",
      "Epoch [58/300], Step [200/600], d_loss: 0.4812, g_loss: 2.3053, D(x): 0.89, D(G(z)): 0.22\n",
      "Epoch [58/300], Step [400/600], d_loss: 0.3534, g_loss: 3.3298, D(x): 0.86, D(G(z)): 0.10\n",
      "Epoch [58/300], Step [600/600], d_loss: 0.6035, g_loss: 2.2026, D(x): 0.77, D(G(z)): 0.14\n",
      "Saving fake_images-0059.png\n",
      "Epoch [59/300], Step [200/600], d_loss: 0.5525, g_loss: 2.3034, D(x): 0.79, D(G(z)): 0.16\n",
      "Epoch [59/300], Step [400/600], d_loss: 0.7794, g_loss: 2.2226, D(x): 0.74, D(G(z)): 0.19\n",
      "Epoch [59/300], Step [600/600], d_loss: 0.6566, g_loss: 2.5311, D(x): 0.78, D(G(z)): 0.20\n",
      "Saving fake_images-0060.png\n",
      "Epoch [60/300], Step [200/600], d_loss: 0.5962, g_loss: 3.0215, D(x): 0.79, D(G(z)): 0.16\n",
      "Epoch [60/300], Step [400/600], d_loss: 0.5946, g_loss: 2.6535, D(x): 0.80, D(G(z)): 0.17\n",
      "Epoch [60/300], Step [600/600], d_loss: 0.6437, g_loss: 3.1074, D(x): 0.79, D(G(z)): 0.22\n",
      "Saving fake_images-0061.png\n",
      "Epoch [61/300], Step [200/600], d_loss: 0.5191, g_loss: 3.0832, D(x): 0.85, D(G(z)): 0.21\n",
      "Epoch [61/300], Step [400/600], d_loss: 0.6614, g_loss: 2.2966, D(x): 0.79, D(G(z)): 0.22\n",
      "Epoch [61/300], Step [600/600], d_loss: 0.6298, g_loss: 3.3352, D(x): 0.74, D(G(z)): 0.13\n",
      "Saving fake_images-0062.png\n",
      "Epoch [62/300], Step [200/600], d_loss: 0.5064, g_loss: 2.5290, D(x): 0.81, D(G(z)): 0.16\n",
      "Epoch [62/300], Step [400/600], d_loss: 0.5767, g_loss: 1.9641, D(x): 0.77, D(G(z)): 0.15\n",
      "Epoch [62/300], Step [600/600], d_loss: 0.6225, g_loss: 1.7684, D(x): 0.87, D(G(z)): 0.29\n",
      "Saving fake_images-0063.png\n",
      "Epoch [63/300], Step [200/600], d_loss: 0.7006, g_loss: 2.7797, D(x): 0.81, D(G(z)): 0.23\n",
      "Epoch [63/300], Step [400/600], d_loss: 0.6135, g_loss: 2.3506, D(x): 0.82, D(G(z)): 0.24\n",
      "Epoch [63/300], Step [600/600], d_loss: 0.4769, g_loss: 2.2177, D(x): 0.87, D(G(z)): 0.21\n",
      "Saving fake_images-0064.png\n",
      "Epoch [64/300], Step [200/600], d_loss: 0.5094, g_loss: 2.3734, D(x): 0.88, D(G(z)): 0.23\n",
      "Epoch [64/300], Step [400/600], d_loss: 0.7617, g_loss: 2.2184, D(x): 0.80, D(G(z)): 0.23\n",
      "Epoch [64/300], Step [600/600], d_loss: 0.5768, g_loss: 2.8033, D(x): 0.79, D(G(z)): 0.14\n",
      "Saving fake_images-0065.png\n",
      "Epoch [65/300], Step [200/600], d_loss: 0.7111, g_loss: 2.3314, D(x): 0.78, D(G(z)): 0.23\n",
      "Epoch [65/300], Step [400/600], d_loss: 0.6052, g_loss: 2.6692, D(x): 0.77, D(G(z)): 0.17\n",
      "Epoch [65/300], Step [600/600], d_loss: 0.4991, g_loss: 2.6008, D(x): 0.88, D(G(z)): 0.22\n",
      "Saving fake_images-0066.png\n",
      "Epoch [66/300], Step [200/600], d_loss: 0.7018, g_loss: 2.4786, D(x): 0.83, D(G(z)): 0.25\n",
      "Epoch [66/300], Step [400/600], d_loss: 0.6774, g_loss: 2.4439, D(x): 0.77, D(G(z)): 0.16\n",
      "Epoch [66/300], Step [600/600], d_loss: 0.4973, g_loss: 2.4992, D(x): 0.78, D(G(z)): 0.12\n",
      "Saving fake_images-0067.png\n",
      "Epoch [67/300], Step [200/600], d_loss: 0.7516, g_loss: 2.0986, D(x): 0.86, D(G(z)): 0.35\n",
      "Epoch [67/300], Step [400/600], d_loss: 0.6335, g_loss: 2.7020, D(x): 0.77, D(G(z)): 0.16\n",
      "Epoch [67/300], Step [600/600], d_loss: 0.7050, g_loss: 2.6243, D(x): 0.77, D(G(z)): 0.25\n",
      "Saving fake_images-0068.png\n",
      "Epoch [68/300], Step [200/600], d_loss: 0.6446, g_loss: 2.4316, D(x): 0.74, D(G(z)): 0.15\n",
      "Epoch [68/300], Step [400/600], d_loss: 0.7910, g_loss: 2.1533, D(x): 0.76, D(G(z)): 0.23\n",
      "Epoch [68/300], Step [600/600], d_loss: 0.4895, g_loss: 2.1089, D(x): 0.85, D(G(z)): 0.19\n",
      "Saving fake_images-0069.png\n",
      "Epoch [69/300], Step [200/600], d_loss: 0.7459, g_loss: 2.1746, D(x): 0.73, D(G(z)): 0.21\n",
      "Epoch [69/300], Step [400/600], d_loss: 0.8672, g_loss: 2.3445, D(x): 0.67, D(G(z)): 0.18\n",
      "Epoch [69/300], Step [600/600], d_loss: 0.5191, g_loss: 2.6483, D(x): 0.80, D(G(z)): 0.15\n",
      "Saving fake_images-0070.png\n",
      "Epoch [70/300], Step [200/600], d_loss: 0.5803, g_loss: 2.4244, D(x): 0.79, D(G(z)): 0.18\n",
      "Epoch [70/300], Step [400/600], d_loss: 0.6983, g_loss: 2.2648, D(x): 0.72, D(G(z)): 0.11\n",
      "Epoch [70/300], Step [600/600], d_loss: 0.7017, g_loss: 2.3230, D(x): 0.81, D(G(z)): 0.26\n",
      "Saving fake_images-0071.png\n",
      "Epoch [71/300], Step [200/600], d_loss: 0.4874, g_loss: 2.3684, D(x): 0.84, D(G(z)): 0.19\n",
      "Epoch [71/300], Step [400/600], d_loss: 0.8478, g_loss: 1.9743, D(x): 0.76, D(G(z)): 0.23\n",
      "Epoch [71/300], Step [600/600], d_loss: 0.6419, g_loss: 2.1366, D(x): 0.84, D(G(z)): 0.26\n",
      "Saving fake_images-0072.png\n",
      "Epoch [72/300], Step [200/600], d_loss: 0.7090, g_loss: 1.8321, D(x): 0.83, D(G(z)): 0.30\n",
      "Epoch [72/300], Step [400/600], d_loss: 0.9108, g_loss: 2.2873, D(x): 0.66, D(G(z)): 0.20\n",
      "Epoch [72/300], Step [600/600], d_loss: 0.9370, g_loss: 2.5342, D(x): 0.69, D(G(z)): 0.25\n",
      "Saving fake_images-0073.png\n",
      "Epoch [73/300], Step [200/600], d_loss: 0.8072, g_loss: 2.2193, D(x): 0.69, D(G(z)): 0.16\n",
      "Epoch [73/300], Step [400/600], d_loss: 0.7514, g_loss: 2.5415, D(x): 0.69, D(G(z)): 0.16\n",
      "Epoch [73/300], Step [600/600], d_loss: 0.8275, g_loss: 1.8181, D(x): 0.81, D(G(z)): 0.33\n",
      "Saving fake_images-0074.png\n",
      "Epoch [74/300], Step [200/600], d_loss: 0.9895, g_loss: 1.6545, D(x): 0.70, D(G(z)): 0.29\n",
      "Epoch [74/300], Step [400/600], d_loss: 0.6924, g_loss: 2.3921, D(x): 0.80, D(G(z)): 0.25\n",
      "Epoch [74/300], Step [600/600], d_loss: 0.7803, g_loss: 1.9718, D(x): 0.74, D(G(z)): 0.21\n",
      "Saving fake_images-0075.png\n",
      "Epoch [75/300], Step [200/600], d_loss: 0.6094, g_loss: 1.8906, D(x): 0.84, D(G(z)): 0.25\n",
      "Epoch [75/300], Step [400/600], d_loss: 0.6632, g_loss: 2.2843, D(x): 0.76, D(G(z)): 0.22\n",
      "Epoch [75/300], Step [600/600], d_loss: 0.8738, g_loss: 1.7468, D(x): 0.76, D(G(z)): 0.31\n",
      "Saving fake_images-0076.png\n",
      "Epoch [76/300], Step [200/600], d_loss: 0.6573, g_loss: 2.5486, D(x): 0.77, D(G(z)): 0.20\n",
      "Epoch [76/300], Step [400/600], d_loss: 0.5956, g_loss: 2.2411, D(x): 0.81, D(G(z)): 0.22\n",
      "Epoch [76/300], Step [600/600], d_loss: 0.8000, g_loss: 1.7246, D(x): 0.70, D(G(z)): 0.18\n",
      "Saving fake_images-0077.png\n",
      "Epoch [77/300], Step [200/600], d_loss: 0.6828, g_loss: 2.2642, D(x): 0.73, D(G(z)): 0.16\n",
      "Epoch [77/300], Step [400/600], d_loss: 0.6674, g_loss: 2.1363, D(x): 0.73, D(G(z)): 0.16\n",
      "Epoch [77/300], Step [600/600], d_loss: 0.5678, g_loss: 1.7390, D(x): 0.85, D(G(z)): 0.25\n",
      "Saving fake_images-0078.png\n",
      "Epoch [78/300], Step [200/600], d_loss: 0.8855, g_loss: 1.8850, D(x): 0.75, D(G(z)): 0.29\n",
      "Epoch [78/300], Step [400/600], d_loss: 0.6726, g_loss: 2.5649, D(x): 0.78, D(G(z)): 0.22\n",
      "Epoch [78/300], Step [600/600], d_loss: 0.7808, g_loss: 2.0426, D(x): 0.70, D(G(z)): 0.17\n",
      "Saving fake_images-0079.png\n",
      "Epoch [79/300], Step [200/600], d_loss: 0.7949, g_loss: 2.0665, D(x): 0.77, D(G(z)): 0.27\n",
      "Epoch [79/300], Step [400/600], d_loss: 0.8398, g_loss: 1.9732, D(x): 0.76, D(G(z)): 0.27\n",
      "Epoch [79/300], Step [600/600], d_loss: 1.0389, g_loss: 1.2363, D(x): 0.82, D(G(z)): 0.44\n",
      "Saving fake_images-0080.png\n",
      "Epoch [80/300], Step [200/600], d_loss: 0.6694, g_loss: 2.5910, D(x): 0.74, D(G(z)): 0.17\n",
      "Epoch [80/300], Step [400/600], d_loss: 0.8859, g_loss: 1.9977, D(x): 0.70, D(G(z)): 0.23\n",
      "Epoch [80/300], Step [600/600], d_loss: 0.6398, g_loss: 1.9558, D(x): 0.81, D(G(z)): 0.23\n",
      "Saving fake_images-0081.png\n",
      "Epoch [81/300], Step [200/600], d_loss: 0.6260, g_loss: 2.3327, D(x): 0.77, D(G(z)): 0.19\n",
      "Epoch [81/300], Step [400/600], d_loss: 0.6852, g_loss: 2.3298, D(x): 0.74, D(G(z)): 0.20\n",
      "Epoch [81/300], Step [600/600], d_loss: 0.6334, g_loss: 2.4165, D(x): 0.82, D(G(z)): 0.25\n",
      "Saving fake_images-0082.png\n",
      "Epoch [82/300], Step [200/600], d_loss: 0.6748, g_loss: 2.6575, D(x): 0.80, D(G(z)): 0.22\n",
      "Epoch [82/300], Step [400/600], d_loss: 0.5597, g_loss: 2.8461, D(x): 0.82, D(G(z)): 0.18\n",
      "Epoch [82/300], Step [600/600], d_loss: 0.7384, g_loss: 2.2032, D(x): 0.72, D(G(z)): 0.16\n",
      "Saving fake_images-0083.png\n",
      "Epoch [83/300], Step [200/600], d_loss: 0.9171, g_loss: 1.4164, D(x): 0.71, D(G(z)): 0.24\n",
      "Epoch [83/300], Step [400/600], d_loss: 0.9227, g_loss: 2.3427, D(x): 0.72, D(G(z)): 0.26\n",
      "Epoch [83/300], Step [600/600], d_loss: 0.5994, g_loss: 2.2334, D(x): 0.84, D(G(z)): 0.24\n",
      "Saving fake_images-0084.png\n",
      "Epoch [84/300], Step [200/600], d_loss: 0.9557, g_loss: 2.1405, D(x): 0.72, D(G(z)): 0.30\n",
      "Epoch [84/300], Step [400/600], d_loss: 0.7004, g_loss: 2.5093, D(x): 0.76, D(G(z)): 0.20\n",
      "Epoch [84/300], Step [600/600], d_loss: 0.8125, g_loss: 2.5222, D(x): 0.70, D(G(z)): 0.19\n",
      "Saving fake_images-0085.png\n",
      "Epoch [85/300], Step [200/600], d_loss: 0.7774, g_loss: 1.7643, D(x): 0.81, D(G(z)): 0.30\n",
      "Epoch [85/300], Step [400/600], d_loss: 0.8162, g_loss: 2.1347, D(x): 0.74, D(G(z)): 0.25\n",
      "Epoch [85/300], Step [600/600], d_loss: 0.9728, g_loss: 1.7182, D(x): 0.81, D(G(z)): 0.39\n",
      "Saving fake_images-0086.png\n",
      "Epoch [86/300], Step [200/600], d_loss: 0.8839, g_loss: 1.9762, D(x): 0.64, D(G(z)): 0.19\n",
      "Epoch [86/300], Step [400/600], d_loss: 0.7417, g_loss: 2.1957, D(x): 0.76, D(G(z)): 0.27\n",
      "Epoch [86/300], Step [600/600], d_loss: 0.8217, g_loss: 1.8716, D(x): 0.75, D(G(z)): 0.26\n",
      "Saving fake_images-0087.png\n",
      "Epoch [87/300], Step [200/600], d_loss: 0.5667, g_loss: 1.7047, D(x): 0.79, D(G(z)): 0.19\n",
      "Epoch [87/300], Step [400/600], d_loss: 0.6637, g_loss: 2.3240, D(x): 0.81, D(G(z)): 0.27\n",
      "Epoch [87/300], Step [600/600], d_loss: 0.8072, g_loss: 2.2138, D(x): 0.72, D(G(z)): 0.26\n",
      "Saving fake_images-0088.png\n",
      "Epoch [88/300], Step [200/600], d_loss: 0.9086, g_loss: 1.7592, D(x): 0.74, D(G(z)): 0.32\n",
      "Epoch [88/300], Step [400/600], d_loss: 0.9090, g_loss: 1.6201, D(x): 0.71, D(G(z)): 0.27\n",
      "Epoch [88/300], Step [600/600], d_loss: 0.8045, g_loss: 2.2692, D(x): 0.81, D(G(z)): 0.33\n",
      "Saving fake_images-0089.png\n",
      "Epoch [89/300], Step [200/600], d_loss: 0.8117, g_loss: 2.2346, D(x): 0.75, D(G(z)): 0.28\n",
      "Epoch [89/300], Step [400/600], d_loss: 0.6989, g_loss: 2.5783, D(x): 0.75, D(G(z)): 0.20\n",
      "Epoch [89/300], Step [600/600], d_loss: 0.9260, g_loss: 2.0258, D(x): 0.76, D(G(z)): 0.35\n",
      "Saving fake_images-0090.png\n",
      "Epoch [90/300], Step [200/600], d_loss: 0.8615, g_loss: 1.8789, D(x): 0.74, D(G(z)): 0.32\n",
      "Epoch [90/300], Step [400/600], d_loss: 0.7117, g_loss: 2.3846, D(x): 0.75, D(G(z)): 0.22\n",
      "Epoch [90/300], Step [600/600], d_loss: 0.9727, g_loss: 1.9311, D(x): 0.64, D(G(z)): 0.23\n",
      "Saving fake_images-0091.png\n",
      "Epoch [91/300], Step [200/600], d_loss: 0.7313, g_loss: 2.5278, D(x): 0.76, D(G(z)): 0.24\n",
      "Epoch [91/300], Step [400/600], d_loss: 0.8391, g_loss: 1.6720, D(x): 0.69, D(G(z)): 0.20\n",
      "Epoch [91/300], Step [600/600], d_loss: 0.9137, g_loss: 2.0681, D(x): 0.67, D(G(z)): 0.24\n",
      "Saving fake_images-0092.png\n",
      "Epoch [92/300], Step [200/600], d_loss: 0.8222, g_loss: 2.2853, D(x): 0.78, D(G(z)): 0.31\n",
      "Epoch [92/300], Step [400/600], d_loss: 0.8758, g_loss: 2.1118, D(x): 0.73, D(G(z)): 0.28\n",
      "Epoch [92/300], Step [600/600], d_loss: 0.9009, g_loss: 2.0717, D(x): 0.67, D(G(z)): 0.24\n",
      "Saving fake_images-0093.png\n",
      "Epoch [93/300], Step [200/600], d_loss: 0.8452, g_loss: 1.9575, D(x): 0.69, D(G(z)): 0.24\n",
      "Epoch [93/300], Step [400/600], d_loss: 0.7865, g_loss: 1.7453, D(x): 0.73, D(G(z)): 0.26\n",
      "Epoch [93/300], Step [600/600], d_loss: 0.8321, g_loss: 2.2436, D(x): 0.74, D(G(z)): 0.28\n",
      "Saving fake_images-0094.png\n",
      "Epoch [94/300], Step [200/600], d_loss: 0.5200, g_loss: 2.0535, D(x): 0.80, D(G(z)): 0.16\n",
      "Epoch [94/300], Step [400/600], d_loss: 1.1181, g_loss: 1.6072, D(x): 0.62, D(G(z)): 0.28\n",
      "Epoch [94/300], Step [600/600], d_loss: 0.7782, g_loss: 1.5589, D(x): 0.76, D(G(z)): 0.27\n",
      "Saving fake_images-0095.png\n",
      "Epoch [95/300], Step [200/600], d_loss: 0.5854, g_loss: 1.7316, D(x): 0.86, D(G(z)): 0.28\n",
      "Epoch [95/300], Step [400/600], d_loss: 0.7912, g_loss: 1.6829, D(x): 0.75, D(G(z)): 0.27\n",
      "Epoch [95/300], Step [600/600], d_loss: 0.7536, g_loss: 2.2178, D(x): 0.78, D(G(z)): 0.29\n",
      "Saving fake_images-0096.png\n",
      "Epoch [96/300], Step [200/600], d_loss: 0.9471, g_loss: 2.5127, D(x): 0.74, D(G(z)): 0.34\n",
      "Epoch [96/300], Step [400/600], d_loss: 0.8765, g_loss: 1.8535, D(x): 0.77, D(G(z)): 0.30\n",
      "Epoch [96/300], Step [600/600], d_loss: 0.8865, g_loss: 1.5185, D(x): 0.81, D(G(z)): 0.38\n",
      "Saving fake_images-0097.png\n",
      "Epoch [97/300], Step [200/600], d_loss: 0.8450, g_loss: 1.7730, D(x): 0.69, D(G(z)): 0.25\n"
     ]
    }
   ],
   "source": [
    "%%time\n",
    "total_step = len(data_loader)\n",
    "d_losses, g_losses, real_scores, fake_scores = [], [], [], []\n",
    "G.to(device)\n",
    "D.to(device)\n",
    "for epoch in range(num_epochs):\n",
    "    for i, (images, _) in enumerate(data_loader):\n",
    "        # Load a batch & transform to vectors\n",
    "        images = images.reshape(batch_size, -1).to(device)\n",
    "        \n",
    "        # Train the discriminator  \n",
    "\n",
    "        # Train the generator\n",
    "        \n",
    "        # Inspect the losses\n",
    "        if (i+1) % 200 == 0:\n",
    "            d_losses.append(d_loss.item())\n",
    "            g_losses.append(g_loss.item())\n",
    "            real_scores.append(real_score.mean().item())\n",
    "            fake_scores.append(fake_score.mean().item())\n",
    "            print('Epoch [{}/{}], Step [{}/{}], d_loss: {:.4f}, g_loss: {:.4f}, D(x): {:.2f}, D(G(z)): {:.2f}' \n",
    "                  .format(epoch, num_epochs, i+1, total_step, d_loss.item(), g_loss.item(), \n",
    "                          real_score.mean().item(), fake_score.mean().item()))\n",
    "    # Sample and save images\n",
    "    save_fake_images(epoch+1)"
   ]
  },
  {
   "cell_type": "code",
   "execution_count": null,
   "metadata": {
    "colab": {
     "base_uri": "https://localhost:8080/",
     "height": 319
    },
    "id": "EMhcZnLyGpTC",
    "outputId": "bc3a9ce9-c942-4cfe-f95e-7227b2d71dee"
   },
   "outputs": [
    {
     "data": {
      "image/png": "[encoded data removed]",
      "text/plain": [
       "<IPython.core.display.Image object>"
      ]
     },
     "execution_count": 71,
     "metadata": {
      "tags": []
     },
     "output_type": "execute_result"
    }
   ],
   "source": [
    "# show output after epochs training\n",
    "Image(os.path.join(sample_dir, 'fake_images-0225.png'))"
   ]
  },
  {
   "cell_type": "code",
   "execution_count": null,
   "metadata": {
    "colab": {
     "base_uri": "https://localhost:8080/",
     "height": 299
    },
    "id": "M9ppaAuFH3zm",
    "outputId": "8eb1a567-b911-4765-c150-a167936cbab5",
    "scrolled": true
   },
   "outputs": [
    {
     "data": {
      "image/png": "[encoded data removed]",
      "text/plain": [
       "<Figure size 432x288 with 1 Axes>"
      ]
     },
     "metadata": {
      "needs_background": "light",
      "tags": []
     },
     "output_type": "display_data"
    }
   ],
   "source": [
    "# show the discrimator loss and generator loss\n",
    "plt.plot(d_losses, '-')\n",
    "plt.plot(g_losses, '-')\n",
    "plt.xlabel('epoch')\n",
    "plt.ylabel('loss')\n",
    "plt.legend(['Discriminator', 'Generator'])\n",
    "plt.title('Losses');"
   ]
  },
  {
   "cell_type": "code",
   "execution_count": null,
   "metadata": {
    "colab": {
     "base_uri": "https://localhost:8080/",
     "height": 299
    },
    "id": "k6ssGF3oJLm9",
    "outputId": "36c4aad8-3974-4b9b-d9dc-296f155ab654"
   },
   "outputs": [
    {
     "data": {
      "image/png": "[encoded data removed]",
      "text/plain": [
       "<Figure size 432x288 with 1 Axes>"
      ]
     },
     "metadata": {
      "needs_background": "light",
      "tags": []
     },
     "output_type": "display_data"
    }
   ],
   "source": [
    "# plot the accuracy of discrimator\n",
    "plt.plot(real_scores, '-')\n",
    "plt.plot(fake_scores, '-')\n",
    "plt.xlabel('epoch')\n",
    "plt.ylabel('score')\n",
    "plt.legend(['Real Score', 'Fake score'])\n",
    "plt.title('Scores');"
   ]
  },
  {
   "cell_type": "code",
   "execution_count": null,
   "metadata": {
    "id": "illElGnSX1ij"
   },
   "outputs": [],
   "source": []
  }
 ],
 "metadata": {
  "accelerator": "GPU",
  "colab": {
   "collapsed_sections": [],
   "name": "01-mnist-gan.ipynb",
   "provenance": []
  },
  "kernelspec": {
   "display_name": "Python 3 (ipykernel)",
   "language": "python",
   "name": "python3"
  },
  "language_info": {
   "codemirror_mode": {
    "name": "ipython",
    "version": 3
   },
   "file_extension": ".py",
   "mimetype": "text/x-python",
   "name": "python",
   "nbconvert_exporter": "python",
   "pygments_lexer": "ipython3",
   "version": "3.9.6"
  },
  "widgets": {
   "application/vnd.jupyter.widget-state+json": {
    "08806dfc78264a228fab26ed0f252fad": {
     "model_module": "@jupyter-widgets/base",
     "model_name": "LayoutModel",
     "state": {
      "_model_module": "@jupyter-widgets/base",
      "_model_module_version": "1.2.0",
      "_model_name": "LayoutModel",
      "_view_count": null,
      "_view_module": "@jupyter-widgets/base",
      "_view_module_version": "1.2.0",
      "_view_name": "LayoutView",
      "align_content": null,
      "align_items": null,
      "align_self": null,
      "border": null,
      "bottom": null,
      "display": null,
      "flex": null,
      "flex_flow": null,
      "grid_area": null,
      "grid_auto_columns": null,
      "grid_auto_flow": null,
      "grid_auto_rows": null,
      "grid_column": null,
      "grid_gap": null,
      "grid_row": null,
      "grid_template_areas": null,
      "grid_template_columns": null,
      "grid_template_rows": null,
      "height": null,
      "justify_content": null,
      "justify_items": null,
      "left": null,
      "margin": null,
      "max_height": null,
      "max_width": null,
      "min_height": null,
      "min_width": null,
      "object_fit": null,
      "object_position": null,
      "order": null,
      "overflow": null,
      "overflow_x": null,
      "overflow_y": null,
      "padding": null,
      "right": null,
      "top": null,
      "visibility": null,
      "width": null
     }
    },
    "0bf09242cf2c41bf94d8c7e1a92281af": {
     "model_module": "@jupyter-widgets/controls",
     "model_name": "ProgressStyleModel",
     "state": {
      "_model_module": "@jupyter-widgets/controls",
      "_model_module_version": "1.5.0",
      "_model_name": "ProgressStyleModel",
      "_view_count": null,
      "_view_module": "@jupyter-widgets/base",
      "_view_module_version": "1.2.0",
      "_view_name": "StyleView",
      "bar_color": null,
      "description_width": "initial"
     }
    },
    "0eb53e67b66b41eebd32d963d55a01ab": {
     "model_module": "@jupyter-widgets/base",
     "model_name": "LayoutModel",
     "state": {
      "_model_module": "@jupyter-widgets/base",
      "_model_module_version": "1.2.0",
      "_model_name": "LayoutModel",
      "_view_count": null,
      "_view_module": "@jupyter-widgets/base",
      "_view_module_version": "1.2.0",
      "_view_name": "LayoutView",
      "align_content": null,
      "align_items": null,
      "align_self": null,
      "border": null,
      "bottom": null,
      "display": null,
      "flex": null,
      "flex_flow": null,
      "grid_area": null,
      "grid_auto_columns": null,
      "grid_auto_flow": null,
      "grid_auto_rows": null,
      "grid_column": null,
      "grid_gap": null,
      "grid_row": null,
      "grid_template_areas": null,
      "grid_template_columns": null,
      "grid_template_rows": null,
      "height": null,
      "justify_content": null,
      "justify_items": null,
      "left": null,
      "margin": null,
      "max_height": null,
      "max_width": null,
      "min_height": null,
      "min_width": null,
      "object_fit": null,
      "object_position": null,
      "order": null,
      "overflow": null,
      "overflow_x": null,
      "overflow_y": null,
      "padding": null,
      "right": null,
      "top": null,
      "visibility": null,
      "width": null
     }
    },
    "11be448776b14d458194ac37274e4463": {
     "model_module": "@jupyter-widgets/controls",
     "model_name": "HBoxModel",
     "state": {
      "_dom_classes": [],
      "_model_module": "@jupyter-widgets/controls",
      "_model_module_version": "1.5.0",
      "_model_name": "HBoxModel",
      "_view_count": null,
      "_view_module": "@jupyter-widgets/controls",
      "_view_module_version": "1.5.0",
      "_view_name": "HBoxView",
      "box_style": "",
      "children": [
       "IPY_MODEL_7d8695db15714f3b8ff2937b2501f85a",
       "IPY_MODEL_695a2b5dc04949dc851887a197a93f02"
      ],
      "layout": "IPY_MODEL_8935870351e94b58b7b1f5389d72e5e4"
     }
    },
    "3d42f64b90004a8da33c74b64c3bd47c": {
     "model_module": "@jupyter-widgets/base",
     "model_name": "LayoutModel",
     "state": {
      "_model_module": "@jupyter-widgets/base",
      "_model_module_version": "1.2.0",
      "_model_name": "LayoutModel",
      "_view_count": null,
      "_view_module": "@jupyter-widgets/base",
      "_view_module_version": "1.2.0",
      "_view_name": "LayoutView",
      "align_content": null,
      "align_items": null,
      "align_self": null,
      "border": null,
      "bottom": null,
      "display": null,
      "flex": null,
      "flex_flow": null,
      "grid_area": null,
      "grid_auto_columns": null,
      "grid_auto_flow": null,
      "grid_auto_rows": null,
      "grid_column": null,
      "grid_gap": null,
      "grid_row": null,
      "grid_template_areas": null,
      "grid_template_columns": null,
      "grid_template_rows": null,
      "height": null,
      "justify_content": null,
      "justify_items": null,
      "left": null,
      "margin": null,
      "max_height": null,
      "max_width": null,
      "min_height": null,
      "min_width": null,
      "object_fit": null,
      "object_position": null,
      "order": null,
      "overflow": null,
      "overflow_x": null,
      "overflow_y": null,
      "padding": null,
      "right": null,
      "top": null,
      "visibility": null,
      "width": null
     }
    },
    "4428ba6fcf6646c0976fe671d9f08280": {
     "model_module": "@jupyter-widgets/controls",
     "model_name": "ProgressStyleModel",
     "state": {
      "_model_module": "@jupyter-widgets/controls",
      "_model_module_version": "1.5.0",
      "_model_name": "ProgressStyleModel",
      "_view_count": null,
      "_view_module": "@jupyter-widgets/base",
      "_view_module_version": "1.2.0",
      "_view_name": "StyleView",
      "bar_color": null,
      "description_width": "initial"
     }
    },
    "4696345e704445da8dad5ab05c1fb7dc": {
     "model_module": "@jupyter-widgets/controls",
     "model_name": "HBoxModel",
     "state": {
      "_dom_classes": [],
      "_model_module": "@jupyter-widgets/controls",
      "_model_module_version": "1.5.0",
      "_model_name": "HBoxModel",
      "_view_count": null,
      "_view_module": "@jupyter-widgets/controls",
      "_view_module_version": "1.5.0",
      "_view_name": "HBoxView",
      "box_style": "",
      "children": [
       "IPY_MODEL_d2205b3c1deb4ee2a9f36623a37bed3c",
       "IPY_MODEL_f16cf0f9d7944f0c9bcf4ed07ad305dc"
      ],
      "layout": "IPY_MODEL_dd0a7a78ebfe4599942c2481d522ff61"
     }
    },
    "4fe32e5f3e7a42fda228b3da84b9cc5d": {
     "model_module": "@jupyter-widgets/base",
     "model_name": "LayoutModel",
     "state": {
      "_model_module": "@jupyter-widgets/base",
      "_model_module_version": "1.2.0",
      "_model_name": "LayoutModel",
      "_view_count": null,
      "_view_module": "@jupyter-widgets/base",
      "_view_module_version": "1.2.0",
      "_view_name": "LayoutView",
      "align_content": null,
      "align_items": null,
      "align_self": null,
      "border": null,
      "bottom": null,
      "display": null,
      "flex": null,
      "flex_flow": null,
      "grid_area": null,
      "grid_auto_columns": null,
      "grid_auto_flow": null,
      "grid_auto_rows": null,
      "grid_column": null,
      "grid_gap": null,
      "grid_row": null,
      "grid_template_areas": null,
      "grid_template_columns": null,
      "grid_template_rows": null,
      "height": null,
      "justify_content": null,
      "justify_items": null,
      "left": null,
      "margin": null,
      "max_height": null,
      "max_width": null,
      "min_height": null,
      "min_width": null,
      "object_fit": null,
      "object_position": null,
      "order": null,
      "overflow": null,
      "overflow_x": null,
      "overflow_y": null,
      "padding": null,
      "right": null,
      "top": null,
      "visibility": null,
      "width": null
     }
    },
    "577fda8452dd4c8daa92811c2d481617": {
     "model_module": "@jupyter-widgets/controls",
     "model_name": "ProgressStyleModel",
     "state": {
      "_model_module": "@jupyter-widgets/controls",
      "_model_module_version": "1.5.0",
      "_model_name": "ProgressStyleModel",
      "_view_count": null,
      "_view_module": "@jupyter-widgets/base",
      "_view_module_version": "1.2.0",
      "_view_name": "StyleView",
      "bar_color": null,
      "description_width": "initial"
     }
    },
    "636869cb14da4dba9761f6fe2995eafe": {
     "model_module": "@jupyter-widgets/controls",
     "model_name": "DescriptionStyleModel",
     "state": {
      "_model_module": "@jupyter-widgets/controls",
      "_model_module_version": "1.5.0",
      "_model_name": "DescriptionStyleModel",
      "_view_count": null,
      "_view_module": "@jupyter-widgets/base",
      "_view_module_version": "1.2.0",
      "_view_name": "StyleView",
      "description_width": ""
     }
    },
    "66061e09c96241729b3563e847a89a44": {
     "model_module": "@jupyter-widgets/controls",
     "model_name": "HBoxModel",
     "state": {
      "_dom_classes": [],
      "_model_module": "@jupyter-widgets/controls",
      "_model_module_version": "1.5.0",
      "_model_name": "HBoxModel",
      "_view_count": null,
      "_view_module": "@jupyter-widgets/controls",
      "_view_module_version": "1.5.0",
      "_view_name": "HBoxView",
      "box_style": "",
      "children": [
       "IPY_MODEL_acf20e754e544598988f347a5e62ba29",
       "IPY_MODEL_bb306002eb2f4f36b7eca90ca75ef762"
      ],
      "layout": "IPY_MODEL_8478b91069a349988bb7375ee874a4fe"
     }
    },
    "695a2b5dc04949dc851887a197a93f02": {
     "model_module": "@jupyter-widgets/controls",
     "model_name": "HTMLModel",
     "state": {
      "_dom_classes": [],
      "_model_module": "@jupyter-widgets/controls",
      "_model_module_version": "1.5.0",
      "_model_name": "HTMLModel",
      "_view_count": null,
      "_view_module": "@jupyter-widgets/controls",
      "_view_module_version": "1.5.0",
      "_view_name": "HTMLView",
      "description": "",
      "description_tooltip": null,
      "layout": "IPY_MODEL_debe9d9e65a74832b9252af1b72c1bf8",
      "placeholder": "​",
      "style": "IPY_MODEL_bf2df2f3039d486e9939a354e02b652f",
      "value": " 9913344/? [05:17&lt;00:00, 31186.84it/s]"
     }
    },
    "6a428bb521dc400cb9c1249cb6df2e8e": {
     "model_module": "@jupyter-widgets/controls",
     "model_name": "HBoxModel",
     "state": {
      "_dom_classes": [],
      "_model_module": "@jupyter-widgets/controls",
      "_model_module_version": "1.5.0",
      "_model_name": "HBoxModel",
      "_view_count": null,
      "_view_module": "@jupyter-widgets/controls",
      "_view_module_version": "1.5.0",
      "_view_name": "HBoxView",
      "box_style": "",
      "children": [
       "IPY_MODEL_e553ddd2a7384410b1760c6d24e5af13",
       "IPY_MODEL_755f0320bd2c49a6894425b13b9e0be7"
      ],
      "layout": "IPY_MODEL_9729ba81af3149f5b6360c9f02f15c7a"
     }
    },
    "755f0320bd2c49a6894425b13b9e0be7": {
     "model_module": "@jupyter-widgets/controls",
     "model_name": "HTMLModel",
     "state": {
      "_dom_classes": [],
      "_model_module": "@jupyter-widgets/controls",
      "_model_module_version": "1.5.0",
      "_model_name": "HTMLModel",
      "_view_count": null,
      "_view_module": "@jupyter-widgets/controls",
      "_view_module_version": "1.5.0",
      "_view_name": "HTMLView",
      "description": "",
      "description_tooltip": null,
      "layout": "IPY_MODEL_4fe32e5f3e7a42fda228b3da84b9cc5d",
      "placeholder": "​",
      "style": "IPY_MODEL_636869cb14da4dba9761f6fe2995eafe",
      "value": " 29696/? [00:00&lt;00:00, 59470.15it/s]"
     }
    },
    "7a9c91c79cd24294afed93be07d09045": {
     "model_module": "@jupyter-widgets/controls",
     "model_name": "ProgressStyleModel",
     "state": {
      "_model_module": "@jupyter-widgets/controls",
      "_model_module_version": "1.5.0",
      "_model_name": "ProgressStyleModel",
      "_view_count": null,
      "_view_module": "@jupyter-widgets/base",
      "_view_module_version": "1.2.0",
      "_view_name": "StyleView",
      "bar_color": null,
      "description_width": "initial"
     }
    },
    "7afb409f2275411f9fbbe3229fbc301b": {
     "model_module": "@jupyter-widgets/base",
     "model_name": "LayoutModel",
     "state": {
      "_model_module": "@jupyter-widgets/base",
      "_model_module_version": "1.2.0",
      "_model_name": "LayoutModel",
      "_view_count": null,
      "_view_module": "@jupyter-widgets/base",
      "_view_module_version": "1.2.0",
      "_view_name": "LayoutView",
      "align_content": null,
      "align_items": null,
      "align_self": null,
      "border": null,
      "bottom": null,
      "display": null,
      "flex": null,
      "flex_flow": null,
      "grid_area": null,
      "grid_auto_columns": null,
      "grid_auto_flow": null,
      "grid_auto_rows": null,
      "grid_column": null,
      "grid_gap": null,
      "grid_row": null,
      "grid_template_areas": null,
      "grid_template_columns": null,
      "grid_template_rows": null,
      "height": null,
      "justify_content": null,
      "justify_items": null,
      "left": null,
      "margin": null,
      "max_height": null,
      "max_width": null,
      "min_height": null,
      "min_width": null,
      "object_fit": null,
      "object_position": null,
      "order": null,
      "overflow": null,
      "overflow_x": null,
      "overflow_y": null,
      "padding": null,
      "right": null,
      "top": null,
      "visibility": null,
      "width": null
     }
    },
    "7d8695db15714f3b8ff2937b2501f85a": {
     "model_module": "@jupyter-widgets/controls",
     "model_name": "FloatProgressModel",
     "state": {
      "_dom_classes": [],
      "_model_module": "@jupyter-widgets/controls",
      "_model_module_version": "1.5.0",
      "_model_name": "FloatProgressModel",
      "_view_count": null,
      "_view_module": "@jupyter-widgets/controls",
      "_view_module_version": "1.5.0",
      "_view_name": "ProgressView",
      "bar_style": "success",
      "description": "",
      "description_tooltip": null,
      "layout": "IPY_MODEL_c1e20ca99da04b16b9551143ae4b44f2",
      "max": 9912422,
      "min": 0,
      "orientation": "horizontal",
      "style": "IPY_MODEL_0bf09242cf2c41bf94d8c7e1a92281af",
      "value": 9912422
     }
    },
    "8478b91069a349988bb7375ee874a4fe": {
     "model_module": "@jupyter-widgets/base",
     "model_name": "LayoutModel",
     "state": {
      "_model_module": "@jupyter-widgets/base",
      "_model_module_version": "1.2.0",
      "_model_name": "LayoutModel",
      "_view_count": null,
      "_view_module": "@jupyter-widgets/base",
      "_view_module_version": "1.2.0",
      "_view_name": "LayoutView",
      "align_content": null,
      "align_items": null,
      "align_self": null,
      "border": null,
      "bottom": null,
      "display": null,
      "flex": null,
      "flex_flow": null,
      "grid_area": null,
      "grid_auto_columns": null,
      "grid_auto_flow": null,
      "grid_auto_rows": null,
      "grid_column": null,
      "grid_gap": null,
      "grid_row": null,
      "grid_template_areas": null,
      "grid_template_columns": null,
      "grid_template_rows": null,
      "height": null,
      "justify_content": null,
      "justify_items": null,
      "left": null,
      "margin": null,
      "max_height": null,
      "max_width": null,
      "min_height": null,
      "min_width": null,
      "object_fit": null,
      "object_position": null,
      "order": null,
      "overflow": null,
      "overflow_x": null,
      "overflow_y": null,
      "padding": null,
      "right": null,
      "top": null,
      "visibility": null,
      "width": null
     }
    },
    "854f38dd186b4e58ac81a0f7a9d8fa11": {
     "model_module": "@jupyter-widgets/controls",
     "model_name": "DescriptionStyleModel",
     "state": {
      "_model_module": "@jupyter-widgets/controls",
      "_model_module_version": "1.5.0",
      "_model_name": "DescriptionStyleModel",
      "_view_count": null,
      "_view_module": "@jupyter-widgets/base",
      "_view_module_version": "1.2.0",
      "_view_name": "StyleView",
      "description_width": ""
     }
    },
    "889d9db3de854306aeb67c1846900e3a": {
     "model_module": "@jupyter-widgets/controls",
     "model_name": "DescriptionStyleModel",
     "state": {
      "_model_module": "@jupyter-widgets/controls",
      "_model_module_version": "1.5.0",
      "_model_name": "DescriptionStyleModel",
      "_view_count": null,
      "_view_module": "@jupyter-widgets/base",
      "_view_module_version": "1.2.0",
      "_view_name": "StyleView",
      "description_width": ""
     }
    },
    "8935870351e94b58b7b1f5389d72e5e4": {
     "model_module": "@jupyter-widgets/base",
     "model_name": "LayoutModel",
     "state": {
      "_model_module": "@jupyter-widgets/base",
      "_model_module_version": "1.2.0",
      "_model_name": "LayoutModel",
      "_view_count": null,
      "_view_module": "@jupyter-widgets/base",
      "_view_module_version": "1.2.0",
      "_view_name": "LayoutView",
      "align_content": null,
      "align_items": null,
      "align_self": null,
      "border": null,
      "bottom": null,
      "display": null,
      "flex": null,
      "flex_flow": null,
      "grid_area": null,
      "grid_auto_columns": null,
      "grid_auto_flow": null,
      "grid_auto_rows": null,
      "grid_column": null,
      "grid_gap": null,
      "grid_row": null,
      "grid_template_areas": null,
      "grid_template_columns": null,
      "grid_template_rows": null,
      "height": null,
      "justify_content": null,
      "justify_items": null,
      "left": null,
      "margin": null,
      "max_height": null,
      "max_width": null,
      "min_height": null,
      "min_width": null,
      "object_fit": null,
      "object_position": null,
      "order": null,
      "overflow": null,
      "overflow_x": null,
      "overflow_y": null,
      "padding": null,
      "right": null,
      "top": null,
      "visibility": null,
      "width": null
     }
    },
    "9729ba81af3149f5b6360c9f02f15c7a": {
     "model_module": "@jupyter-widgets/base",
     "model_name": "LayoutModel",
     "state": {
      "_model_module": "@jupyter-widgets/base",
      "_model_module_version": "1.2.0",
      "_model_name": "LayoutModel",
      "_view_count": null,
      "_view_module": "@jupyter-widgets/base",
      "_view_module_version": "1.2.0",
      "_view_name": "LayoutView",
      "align_content": null,
      "align_items": null,
      "align_self": null,
      "border": null,
      "bottom": null,
      "display": null,
      "flex": null,
      "flex_flow": null,
      "grid_area": null,
      "grid_auto_columns": null,
      "grid_auto_flow": null,
      "grid_auto_rows": null,
      "grid_column": null,
      "grid_gap": null,
      "grid_row": null,
      "grid_template_areas": null,
      "grid_template_columns": null,
      "grid_template_rows": null,
      "height": null,
      "justify_content": null,
      "justify_items": null,
      "left": null,
      "margin": null,
      "max_height": null,
      "max_width": null,
      "min_height": null,
      "min_width": null,
      "object_fit": null,
      "object_position": null,
      "order": null,
      "overflow": null,
      "overflow_x": null,
      "overflow_y": null,
      "padding": null,
      "right": null,
      "top": null,
      "visibility": null,
      "width": null
     }
    },
    "acf20e754e544598988f347a5e62ba29": {
     "model_module": "@jupyter-widgets/controls",
     "model_name": "FloatProgressModel",
     "state": {
      "_dom_classes": [],
      "_model_module": "@jupyter-widgets/controls",
      "_model_module_version": "1.5.0",
      "_model_name": "FloatProgressModel",
      "_view_count": null,
      "_view_module": "@jupyter-widgets/controls",
      "_view_module_version": "1.5.0",
      "_view_name": "ProgressView",
      "bar_style": "success",
      "description": "",
      "description_tooltip": null,
      "layout": "IPY_MODEL_0eb53e67b66b41eebd32d963d55a01ab",
      "max": 4542,
      "min": 0,
      "orientation": "horizontal",
      "style": "IPY_MODEL_577fda8452dd4c8daa92811c2d481617",
      "value": 4542
     }
    },
    "bb306002eb2f4f36b7eca90ca75ef762": {
     "model_module": "@jupyter-widgets/controls",
     "model_name": "HTMLModel",
     "state": {
      "_dom_classes": [],
      "_model_module": "@jupyter-widgets/controls",
      "_model_module_version": "1.5.0",
      "_model_name": "HTMLModel",
      "_view_count": null,
      "_view_module": "@jupyter-widgets/controls",
      "_view_module_version": "1.5.0",
      "_view_name": "HTMLView",
      "description": "",
      "description_tooltip": null,
      "layout": "IPY_MODEL_3d42f64b90004a8da33c74b64c3bd47c",
      "placeholder": "​",
      "style": "IPY_MODEL_854f38dd186b4e58ac81a0f7a9d8fa11",
      "value": " 5120/? [00:00&lt;00:00, 45570.62it/s]"
     }
    },
    "bf2df2f3039d486e9939a354e02b652f": {
     "model_module": "@jupyter-widgets/controls",
     "model_name": "DescriptionStyleModel",
     "state": {
      "_model_module": "@jupyter-widgets/controls",
      "_model_module_version": "1.5.0",
      "_model_name": "DescriptionStyleModel",
      "_view_count": null,
      "_view_module": "@jupyter-widgets/base",
      "_view_module_version": "1.2.0",
      "_view_name": "StyleView",
      "description_width": ""
     }
    },
    "c1e20ca99da04b16b9551143ae4b44f2": {
     "model_module": "@jupyter-widgets/base",
     "model_name": "LayoutModel",
     "state": {
      "_model_module": "@jupyter-widgets/base",
      "_model_module_version": "1.2.0",
      "_model_name": "LayoutModel",
      "_view_count": null,
      "_view_module": "@jupyter-widgets/base",
      "_view_module_version": "1.2.0",
      "_view_name": "LayoutView",
      "align_content": null,
      "align_items": null,
      "align_self": null,
      "border": null,
      "bottom": null,
      "display": null,
      "flex": null,
      "flex_flow": null,
      "grid_area": null,
      "grid_auto_columns": null,
      "grid_auto_flow": null,
      "grid_auto_rows": null,
      "grid_column": null,
      "grid_gap": null,
      "grid_row": null,
      "grid_template_areas": null,
      "grid_template_columns": null,
      "grid_template_rows": null,
      "height": null,
      "justify_content": null,
      "justify_items": null,
      "left": null,
      "margin": null,
      "max_height": null,
      "max_width": null,
      "min_height": null,
      "min_width": null,
      "object_fit": null,
      "object_position": null,
      "order": null,
      "overflow": null,
      "overflow_x": null,
      "overflow_y": null,
      "padding": null,
      "right": null,
      "top": null,
      "visibility": null,
      "width": null
     }
    },
    "ca9c737ae7f046caa95c3d4c4f2a0df7": {
     "model_module": "@jupyter-widgets/base",
     "model_name": "LayoutModel",
     "state": {
      "_model_module": "@jupyter-widgets/base",
      "_model_module_version": "1.2.0",
      "_model_name": "LayoutModel",
      "_view_count": null,
      "_view_module": "@jupyter-widgets/base",
      "_view_module_version": "1.2.0",
      "_view_name": "LayoutView",
      "align_content": null,
      "align_items": null,
      "align_self": null,
      "border": null,
      "bottom": null,
      "display": null,
      "flex": null,
      "flex_flow": null,
      "grid_area": null,
      "grid_auto_columns": null,
      "grid_auto_flow": null,
      "grid_auto_rows": null,
      "grid_column": null,
      "grid_gap": null,
      "grid_row": null,
      "grid_template_areas": null,
      "grid_template_columns": null,
      "grid_template_rows": null,
      "height": null,
      "justify_content": null,
      "justify_items": null,
      "left": null,
      "margin": null,
      "max_height": null,
      "max_width": null,
      "min_height": null,
      "min_width": null,
      "object_fit": null,
      "object_position": null,
      "order": null,
      "overflow": null,
      "overflow_x": null,
      "overflow_y": null,
      "padding": null,
      "right": null,
      "top": null,
      "visibility": null,
      "width": null
     }
    },
    "d2205b3c1deb4ee2a9f36623a37bed3c": {
     "model_module": "@jupyter-widgets/controls",
     "model_name": "FloatProgressModel",
     "state": {
      "_dom_classes": [],
      "_model_module": "@jupyter-widgets/controls",
      "_model_module_version": "1.5.0",
      "_model_name": "FloatProgressModel",
      "_view_count": null,
      "_view_module": "@jupyter-widgets/controls",
      "_view_module_version": "1.5.0",
      "_view_name": "ProgressView",
      "bar_style": "success",
      "description": "",
      "description_tooltip": null,
      "layout": "IPY_MODEL_7afb409f2275411f9fbbe3229fbc301b",
      "max": 1648877,
      "min": 0,
      "orientation": "horizontal",
      "style": "IPY_MODEL_4428ba6fcf6646c0976fe671d9f08280",
      "value": 1648877
     }
    },
    "dd0a7a78ebfe4599942c2481d522ff61": {
     "model_module": "@jupyter-widgets/base",
     "model_name": "LayoutModel",
     "state": {
      "_model_module": "@jupyter-widgets/base",
      "_model_module_version": "1.2.0",
      "_model_name": "LayoutModel",
      "_view_count": null,
      "_view_module": "@jupyter-widgets/base",
      "_view_module_version": "1.2.0",
      "_view_name": "LayoutView",
      "align_content": null,
      "align_items": null,
      "align_self": null,
      "border": null,
      "bottom": null,
      "display": null,
      "flex": null,
      "flex_flow": null,
      "grid_area": null,
      "grid_auto_columns": null,
      "grid_auto_flow": null,
      "grid_auto_rows": null,
      "grid_column": null,
      "grid_gap": null,
      "grid_row": null,
      "grid_template_areas": null,
      "grid_template_columns": null,
      "grid_template_rows": null,
      "height": null,
      "justify_content": null,
      "justify_items": null,
      "left": null,
      "margin": null,
      "max_height": null,
      "max_width": null,
      "min_height": null,
      "min_width": null,
      "object_fit": null,
      "object_position": null,
      "order": null,
      "overflow": null,
      "overflow_x": null,
      "overflow_y": null,
      "padding": null,
      "right": null,
      "top": null,
      "visibility": null,
      "width": null
     }
    },
    "debe9d9e65a74832b9252af1b72c1bf8": {
     "model_module": "@jupyter-widgets/base",
     "model_name": "LayoutModel",
     "state": {
      "_model_module": "@jupyter-widgets/base",
      "_model_module_version": "1.2.0",
      "_model_name": "LayoutModel",
      "_view_count": null,
      "_view_module": "@jupyter-widgets/base",
      "_view_module_version": "1.2.0",
      "_view_name": "LayoutView",
      "align_content": null,
      "align_items": null,
      "align_self": null,
      "border": null,
      "bottom": null,
      "display": null,
      "flex": null,
      "flex_flow": null,
      "grid_area": null,
      "grid_auto_columns": null,
      "grid_auto_flow": null,
      "grid_auto_rows": null,
      "grid_column": null,
      "grid_gap": null,
      "grid_row": null,
      "grid_template_areas": null,
      "grid_template_columns": null,
      "grid_template_rows": null,
      "height": null,
      "justify_content": null,
      "justify_items": null,
      "left": null,
      "margin": null,
      "max_height": null,
      "max_width": null,
      "min_height": null,
      "min_width": null,
      "object_fit": null,
      "object_position": null,
      "order": null,
      "overflow": null,
      "overflow_x": null,
      "overflow_y": null,
      "padding": null,
      "right": null,
      "top": null,
      "visibility": null,
      "width": null
     }
    },
    "e553ddd2a7384410b1760c6d24e5af13": {
     "model_module": "@jupyter-widgets/controls",
     "model_name": "FloatProgressModel",
     "state": {
      "_dom_classes": [],
      "_model_module": "@jupyter-widgets/controls",
      "_model_module_version": "1.5.0",
      "_model_name": "FloatProgressModel",
      "_view_count": null,
      "_view_module": "@jupyter-widgets/controls",
      "_view_module_version": "1.5.0",
      "_view_name": "ProgressView",
      "bar_style": "success",
      "description": "",
      "description_tooltip": null,
      "layout": "IPY_MODEL_ca9c737ae7f046caa95c3d4c4f2a0df7",
      "max": 28881,
      "min": 0,
      "orientation": "horizontal",
      "style": "IPY_MODEL_7a9c91c79cd24294afed93be07d09045",
      "value": 28881
     }
    },
    "f16cf0f9d7944f0c9bcf4ed07ad305dc": {
     "model_module": "@jupyter-widgets/controls",
     "model_name": "HTMLModel",
     "state": {
      "_dom_classes": [],
      "_model_module": "@jupyter-widgets/controls",
      "_model_module_version": "1.5.0",
      "_model_name": "HTMLModel",
      "_view_count": null,
      "_view_module": "@jupyter-widgets/controls",
      "_view_module_version": "1.5.0",
      "_view_name": "HTMLView",
      "description": "",
      "description_tooltip": null,
      "layout": "IPY_MODEL_08806dfc78264a228fab26ed0f252fad",
      "placeholder": "​",
      "style": "IPY_MODEL_889d9db3de854306aeb67c1846900e3a",
      "value": " 1649664/? [00:42&lt;00:00, 39114.46it/s]"
     }
    }
   }
  }
 },
 "nbformat": 4,
 "nbformat_minor": 1
}
