{
 "cells": [
  {
   "cell_type": "markdown",
   "metadata": {
    "id": "z7M9MjU1nzEC"
   },
   "source": [
    "## GAN model"
   ]
  },
  {
   "cell_type": "markdown",
   "metadata": {
    "id": "Glhi9UoTJR0T"
   },
   "source": [
    "In 2014, Ian Goodfellow and his colleagues at the University of Montreal published a stunning paper introducing the world to GANs, or generative adversarial networks. The models play two distinct (literally, adversarial) roles. Given some real data set R, G is the generator, trying to create fake data that looks just like the genuine data, while D is the discriminator, getting data from either the real set or G and labeling the difference. Goodfellow’s metaphor (and a fine one it is) was that G was like a team of forgers trying to match real paintings with their output, while D was the team of detectives trying to tell the difference. (Except that in this case, the forgers G never get to see the original data — only the judgments of D. They’re like blind forgers.)\n",
    "\n",
    "![GAN](https://raw.githubusercontent.com/manhlab/practike-gan-2021/main/gan-mnist.png)\n",
    "\n",
    "Here's what we're going to do:\n",
    "\n",
    "- Define the parameters\n",
    "- Load the data (with transforms and normalization)\n",
    "- Denormalize for visual inspection of samples\n",
    "- Define the Discriminator network, the Generator network\n",
    "- Study the activation function: Leaky ReLU\n",
    "- Explain the output activation function: Tanh, Sigmoid\n",
    "- Look at some sample outputs\n",
    "- Define losses, optimizers and helper functions for training\n",
    " - For discriminator\n",
    " -  For generator\n",
    "- Train the model\n",
    "- Save intermediate generated images to file\n",
    "- Look at some outputs\n",
    "- Save the models\n",
    "\n",
    "![MNIST](https://i.imgur.com/CAYnuo1.jpeg)"
   ]
  },
  {
   "cell_type": "markdown",
   "metadata": {
    "id": "eLj6X3bVn3eT"
   },
   "source": [
    "### Define parameters & Load Dataset "
   ]
  },
  {
   "cell_type": "code",
   "execution_count": 9,
   "metadata": {
    "colab": {
     "base_uri": "https://localhost:8080/",
     "height": 1000,
     "referenced_widgets": [
      "83958d78599949438832b745ee7fc93b",
      "4d2170726eb843f0b25963559c31b4be",
      "451eb1d8a0ce4737ad1a6997d4b72dbd",
      "4eb714080d624efeb6544e947f92739a",
      "10ba1fdeca8a4ffe9935aab283474689",
      "ad79f63c6ddb4cc7b36ad6bec1b744c4",
      "ccef5b049c8f42b2b5776aedb3339dbc",
      "b92209085cb94fe2b375f61a16173901",
      "60dd5d93a5fb4156b80fac44b752c4d3",
      "2885906f5c524d0aaacdee85c862f4f7",
      "397966388fff4bc19ba5c5da218abb8c",
      "b60e621439c440b1a38b53b84c13111f",
      "ef53bc4de1614c4eb53ccbff6ccdbfbb",
      "2080fb3f851d4ca59c7dd3f468adfbec",
      "69289827284748f88c1ddd2ba1b93d56",
      "240882ec19b74193abfa76268d150e3b",
      "dd76ed0d4ae944f6a321a6b88dc2d02b",
      "45850cd1b008498793b6acc86cc52a49",
      "135057bbf8144b5fbef7c115c71086d3",
      "3207ae50a7a94a45b94d117b09b311ef",
      "a6d4118885dd410d99f5336eff639165",
      "42a6cfec000b4bd58a0bff61a296b79e",
      "6a2b159b11be446e860cdf2d2ef7e216",
      "e19aa4fc23444df09fd320fcc2d771d3",
      "6f979d4a5dab4edd9452645af557c5df",
      "38a1c6002ee34237b427670b41f54ee4",
      "02c25d81b5314f4d822df679cdf8d4b4",
      "4e2cc41771b44dd6bc2cb51447d21698",
      "5e12988a92a54c43b4060ae41a11688d",
      "26be418379504f8f818c35aebb70cec7",
      "5ab59fb0c7dd47af8de24a452654efaf",
      "1f825ed06a094a248f5f59fc168a4755"
     ]
    },
    "id": "nLFY9bjosRUf",
    "outputId": "9015b536-a3c8-44bb-8f87-1a9a83e2a252"
   },
   "outputs": [
    {
     "name": "stdout",
     "output_type": "stream",
     "text": [
      "Downloading http://yann.lecun.com/exdb/mnist/train-images-idx3-ubyte.gz\n"
     ]
    },
    {
     "name": "stderr",
     "output_type": "stream",
     "text": [
      "0.6%"
     ]
    },
    {
     "name": "stdout",
     "output_type": "stream",
     "text": [
      "Downloading http://yann.lecun.com/exdb/mnist/train-images-idx3-ubyte.gz to data/MNIST/raw/train-images-idx3-ubyte.gz\n"
     ]
    },
    {
     "name": "stderr",
     "output_type": "stream",
     "text": [
      "100.0%\n"
     ]
    },
    {
     "name": "stdout",
     "output_type": "stream",
     "text": [
      "Extracting data/MNIST/raw/train-images-idx3-ubyte.gz to data/MNIST/raw\n",
      "\n",
      "Downloading http://yann.lecun.com/exdb/mnist/train-labels-idx1-ubyte.gz\n"
     ]
    },
    {
     "name": "stderr",
     "output_type": "stream",
     "text": [
      "46.1%"
     ]
    },
    {
     "name": "stdout",
     "output_type": "stream",
     "text": [
      "Downloading http://yann.lecun.com/exdb/mnist/train-labels-idx1-ubyte.gz to data/MNIST/raw/train-labels-idx1-ubyte.gz\n"
     ]
    },
    {
     "name": "stderr",
     "output_type": "stream",
     "text": [
      "102.8%\n"
     ]
    },
    {
     "name": "stdout",
     "output_type": "stream",
     "text": [
      "Extracting data/MNIST/raw/train-labels-idx1-ubyte.gz to data/MNIST/raw\n",
      "\n",
      "Downloading http://yann.lecun.com/exdb/mnist/t10k-images-idx3-ubyte.gz\n",
      "Downloading http://yann.lecun.com/exdb/mnist/t10k-images-idx3-ubyte.gz to data/MNIST/raw/t10k-images-idx3-ubyte.gz\n"
     ]
    },
    {
     "name": "stderr",
     "output_type": "stream",
     "text": [
      "100.0%\n"
     ]
    },
    {
     "name": "stdout",
     "output_type": "stream",
     "text": [
      "Extracting data/MNIST/raw/t10k-images-idx3-ubyte.gz to data/MNIST/raw\n",
      "\n",
      "Downloading http://yann.lecun.com/exdb/mnist/t10k-labels-idx1-ubyte.gz\n"
     ]
    },
    {
     "name": "stderr",
     "output_type": "stream",
     "text": [
      "112.7%"
     ]
    },
    {
     "name": "stdout",
     "output_type": "stream",
     "text": [
      "Downloading http://yann.lecun.com/exdb/mnist/t10k-labels-idx1-ubyte.gz to data/MNIST/raw/t10k-labels-idx1-ubyte.gz\n",
      "Extracting data/MNIST/raw/t10k-labels-idx1-ubyte.gz to data/MNIST/raw\n",
      "\n"
     ]
    },
    {
     "name": "stderr",
     "output_type": "stream",
     "text": [
      "\n",
      "/usr/local/lib/python3.9/site-packages/torchvision/datasets/mnist.py:498: UserWarning: The given NumPy array is not writeable, and PyTorch does not support non-writeable tensors. This means you can write to the underlying (supposedly non-writeable) NumPy array using the tensor. You may want to copy the array to protect its data or make it writeable before converting it to a tensor. This type of warning will be suppressed for the rest of this program. (Triggered internally at  ../torch/csrc/utils/tensor_numpy.cpp:180.)\n",
      "  return torch.from_numpy(parsed.astype(m[2], copy=False)).view(*s)\n"
     ]
    }
   ],
   "source": [
    "import torch \n",
    "import torch.nn as nn\n",
    "import numpy as np\n",
    "import cv2\n",
    "import matplotlib.pyplot as plt\n",
    "import torchvision\n",
    "from torchvision.transforms import ToTensor, Normalize, Compose\n",
    "from torchvision.datasets import MNIST\n",
    "from IPython.display import Image\n",
    "from torchvision.utils import save_image\n",
    "import os\n",
    "%matplotlib inline \n",
    "plt.style.use(\"ggplot\")\n",
    "hidden_size = 256 \n",
    "batch_size = 100 \n",
    "LR = 0.0002\n",
    "num_epochs = 300\n",
    "sample_dir = \"./images\"\n",
    "latent_size = 64 # input random input vector latent\n",
    "image_size = 784 # 28*28 flatten\n",
    "device = 'cuda' if torch.cuda.is_available() else 'cpu'\n",
    "number_class = 10\n",
    "if device == 'cuda':\n",
    "  !nvidia-smi\n",
    "if not os.path.exists(sample_dir):\n",
    "    os.makedirs(sample_dir)\n",
    "mnist = MNIST(root='data', \n",
    "              train=True, \n",
    "              download=True,\n",
    "              transform=Compose([ToTensor(), Normalize(mean=(0.5,), std=(0.5,))]))"
   ]
  },
  {
   "cell_type": "code",
   "execution_count": 10,
   "metadata": {
    "colab": {
     "base_uri": "https://localhost:8080/",
     "height": 399
    },
    "id": "eqWQgynEskfc",
    "outputId": "44ffdedf-ef1d-47d1-c81e-4231217b8615"
   },
   "outputs": [
    {
     "name": "stdout",
     "output_type": "stream",
     "text": [
      "Label:  5\n"
     ]
    },
    {
     "data": {
      "text/plain": [
       "(array([[1., 0., 0., ..., 0., 0., 0.],\n",
       "        [1., 0., 0., ..., 0., 0., 0.],\n",
       "        [1., 0., 0., ..., 0., 0., 0.],\n",
       "        ...,\n",
       "        [1., 0., 0., ..., 0., 0., 0.],\n",
       "        [0., 0., 0., ..., 0., 0., 0.],\n",
       "        [0., 0., 0., ..., 0., 0., 1.]]),\n",
       " array([-1.        , -0.86771244, -0.7354248 , -0.60313725, -0.47084966,\n",
       "        -0.3385621 , -0.20627451, -0.07398693,  0.05830066,  0.19058824,\n",
       "         0.32287583,  0.4551634 ,  0.587451  ,  0.71973854,  0.85202616,\n",
       "         0.9843137 ], dtype=float32),\n",
       " <a list of 100 BarContainer objects>)"
      ]
     },
     "execution_count": 10,
     "metadata": {},
     "output_type": "execute_result"
    },
    {
     "data": {
      "image/png": "[encoded data removed]",
      "text/plain": [
       "<Figure size 432x288 with 1 Axes>"
      ]
     },
     "metadata": {},
     "output_type": "display_data"
    }
   ],
   "source": [
    "img, label = mnist[0]\n",
    "print('Label: ', label)\n",
    "plt.hist(img[:,5:15,5:15].flatten(), bins=15)"
   ]
  },
  {
   "cell_type": "code",
   "execution_count": 11,
   "metadata": {
    "id": "AJ99uFMbs0Tv"
   },
   "outputs": [],
   "source": [
    "def denorm(x):\n",
    "    out = (x + 1) / 2\n",
    "    return out.clamp(0, 1)"
   ]
  },
  {
   "cell_type": "code",
   "execution_count": 13,
   "metadata": {
    "colab": {
     "base_uri": "https://localhost:8080/",
     "height": 282
    },
    "id": "u6Jk2l71s60n",
    "outputId": "106ae9e2-606e-43a0-871f-5502cb30d817"
   },
   "outputs": [
    {
     "name": "stdout",
     "output_type": "stream",
     "text": [
      "Label: 5\n"
     ]
    },
    {
     "data": {
      "image/png": "[encoded data removed]",
      "text/plain": [
       "<Figure size 432x288 with 1 Axes>"
      ]
     },
     "metadata": {},
     "output_type": "display_data"
    }
   ],
   "source": [
    "img_norm = denorm(img)\n",
    "plt.imshow(img_norm[0], cmap='gray')\n",
    "print('Label:', label)"
   ]
  },
  {
   "cell_type": "code",
   "execution_count": 23,
   "metadata": {
    "id": "OtFjF7Qgs7UN"
   },
   "outputs": [],
   "source": [
    "from torch.utils.data import DataLoader\n",
    "data_loader = DataLoader(mnist, batch_size, shuffle=True)"
   ]
  },
  {
   "cell_type": "code",
   "execution_count": 6,
   "metadata": {
    "colab": {
     "base_uri": "https://localhost:8080/",
     "height": 382
    },
    "id": "W90gEZMDtBJj",
    "outputId": "d1fb4b8e-8546-4122-a3c1-8556e6b33226"
   },
   "outputs": [
    {
     "name": "stdout",
     "output_type": "stream",
     "text": [
      "first batch\n",
      "torch.Size([100, 1, 28, 28])\n",
      "tensor([2, 3, 4, 1, 0, 3, 5, 3, 1, 1, 7, 8, 5, 7, 6, 7, 0, 5, 0, 8, 8, 6, 9, 7,\n",
      "        8, 2, 1, 0, 0, 0, 6, 1, 8, 5, 4, 5, 5, 0, 6, 9, 7, 7, 2, 4, 5, 4, 8, 3,\n",
      "        7, 7, 4, 4, 6, 1, 5, 5, 1, 4, 3, 8, 6, 2, 6, 0, 3, 3, 0, 3, 3, 7, 9, 3,\n",
      "        9, 3, 6, 5, 9, 4, 0, 0, 7, 4, 8, 8, 0, 4, 5, 0, 0, 1, 4, 2, 5, 3, 1, 0,\n",
      "        0, 9, 4, 1])\n"
     ]
    },
    {
     "data": {
      "image/png": "[encoded data removed]",
      "text/plain": [
       "<Figure size 432x288 with 1 Axes>"
      ]
     },
     "metadata": {
      "needs_background": "light",
      "tags": []
     },
     "output_type": "display_data"
    }
   ],
   "source": [
    "for img_batch, label_batch in data_loader:\n",
    "    print('first batch')\n",
    "    print(img_batch.shape)\n",
    "    plt.imshow(img_batch[0][0], cmap='gray')\n",
    "    print(label_batch)\n",
    "    break"
   ]
  },
  {
   "cell_type": "markdown",
   "metadata": {
    "id": "rPHV6bpRLBCN"
   },
   "source": [
    "GAN состоит из двух глубоких сетей, генератора и дискриминатора. генератор создает изображения, прежде чем научиться его обучать. Поскольку дискриминатор представляет собой модель бинарной классификации, мы можем использовать функцию потери бинарной кросс-энтропии для количественной оценки того, насколько хорошо он может различать реальные и сгенерированные изображения.\n",
    "\n",
    "![](https://raw.githubusercontent.com/manhlab/practike-gan-2021/main/04-mnist-cgan/cgan-dist.png)"
   ]
  },
  {
   "cell_type": "code",
   "execution_count": 34,
   "metadata": {
    "id": "5mqLi2BcuqHh"
   },
   "outputs": [],
   "source": [
    "import torch.nn.functional as F\n",
    "number_class = 10\n",
    "class Generator(nn.Module):\n",
    "    def __init__(self, latent_size,image_size, hidden_size, number_class):\n",
    "        #linear1 - relu - linear2 - relu - linear3 - tanh\n",
    "        super(Generator, self).__init__()\n",
    "        self.linear1 = nn.Linear(latent_size + number_class, hidden_size)\n",
    "        self.linear2 = nn.Linear(hidden_size, hidden_size)\n",
    "        self.linear3 = nn.Linear(hidden_size, image_size)\n",
    "        self.label_embedding = nn.Embedding( number_class, number_class)\n",
    "    def forward(self, x, label):\n",
    "        emb = self.label_embedding(label)\n",
    "        x = torch.cat([x, emb[:,-1,:]], 1)\n",
    "        x = F.relu(self.linear1(x))\n",
    "        x = F.relu(self.linear2(x))\n",
    "        x = F.tanh(self.linear3(x))\n",
    "        return x\n",
    "\n",
    "class Discriminator(nn.Module):\n",
    "    def __init__(self, image_size, hidden_size, number_class):\n",
    "        #linear1 - leaky_relu - linear2 - leaky_relu - linear3 - sigmoid\n",
    "        super(Discriminator, self).__init__()\n",
    "        self.linear1 =  nn.Linear(image_size + number_class, hidden_size)\n",
    "        self.linear2 =  nn.Linear(hidden_size, hidden_size)\n",
    "        self.linear3 = nn.Linear(hidden_size, 1)\n",
    "        self.label_embedding = nn.Embedding(number_class, number_class)\n",
    "    def forward(self, x, label):\n",
    "        emb = self.label_embedding(label)\n",
    "        x = torch.cat([x, emb[:,-1,:]], 1)\n",
    "        x = F.leaky_relu(self.linear1(x),  negative_slope=0.2)\n",
    "        x = F.leaky_relu(self.linear2(x),  negative_slope=0.2)\n",
    "        x = F.sigmoid(self.linear3(x))\n",
    "        return x"
   ]
  },
  {
   "cell_type": "markdown",
   "metadata": {
    "id": "uASvrGJdRMZP"
   },
   "source": [
    "Почему последний слой генератор - Tanh() а дискриминатор - Sigmoid() ? tanh -1-1 , sigmoid 0-1"
   ]
  },
  {
   "cell_type": "code",
   "execution_count": 35,
   "metadata": {
    "id": "3UmIcluuuspN"
   },
   "outputs": [],
   "source": [
    "G = Generator(latent_size, image_size, hidden_size, number_class)\n",
    "D = Discriminator(image_size, hidden_size, number_class)"
   ]
  },
  {
   "cell_type": "code",
   "execution_count": 36,
   "metadata": {
    "id": "tde-ysXauzTM"
   },
   "outputs": [],
   "source": [
    "y = G(torch.randn(2, latent_size), torch.LongTensor([[1], [1]]))\n",
    "gen_imgs = denorm(y.reshape((-1, 28,28)).detach())"
   ]
  },
  {
   "cell_type": "code",
   "execution_count": 37,
   "metadata": {
    "colab": {
     "base_uri": "https://localhost:8080/",
     "height": 265
    },
    "id": "aArqXbk1u2Mn",
    "outputId": "0baf8f2e-e272-4cd7-fe9e-55da9e97b13d"
   },
   "outputs": [
    {
     "data": {
      "image/png": "[encoded data removed]",
      "text/plain": [
       "<Figure size 432x288 with 1 Axes>"
      ]
     },
     "metadata": {},
     "output_type": "display_data"
    }
   ],
   "source": [
    "plt.imshow(gen_imgs[0], cmap='gray');"
   ]
  },
  {
   "cell_type": "code",
   "execution_count": 38,
   "metadata": {
    "id": "NIbCDXeWU4me"
   },
   "outputs": [],
   "source": [
    "criterion = nn.BCELoss()\n",
    "d_optimizer = torch.optim.Adam(D.parameters(), lr=LR)\n",
    "g_optimizer = torch.optim.Adam(G.parameters(), lr=LR)"
   ]
  },
  {
   "cell_type": "markdown",
   "metadata": {
    "id": "iSuQWvwfGIz1"
   },
   "source": [
    "Discriminator Training"
   ]
  },
  {
   "cell_type": "code",
   "execution_count": 39,
   "metadata": {
    "id": "QpDUg561u76k"
   },
   "outputs": [],
   "source": [
    "def reset_grad():\n",
    "    d_optimizer.zero_grad()\n",
    "    g_optimizer.zero_grad()\n",
    "\n",
    "def train_discriminator(images, digit):    \n",
    "    # Loss for real images\n",
    "    real_labels = torch.ones(batch_size, 1).to(device)\n",
    "    outputs = D(images, digit)\n",
    "    d_loss_real = criterion(outputs, real_labels)\n",
    "    real_score = outputs\n",
    "\n",
    "    # Loss for fake images\n",
    "    z = torch.randn(batch_size, latent_size).to(device)\n",
    "    fake_labels = torch.zeros(batch_size, 1).to(device)\n",
    "    fake_images = G(z, digit)\n",
    "    outputs = D(fake_images, digit)\n",
    "    d_loss_fake = criterion(outputs, fake_labels)\n",
    "    fake_score = outputs\n",
    "\n",
    "    # Combine losses\n",
    "    d_loss = d_loss_real + d_loss_fake\n",
    "    # Reset gradients\n",
    "    reset_grad()\n",
    "    # Compute gradients\n",
    "    d_loss.backward()\n",
    "    # Adjust the parameters using backprop\n",
    "    d_optimizer.step()\n",
    "    \n",
    "    return d_loss, real_score, fake_score"
   ]
  },
  {
   "cell_type": "markdown",
   "metadata": {
    "id": "Xozik5p6GPY-"
   },
   "source": [
    "Generator Training"
   ]
  },
  {
   "cell_type": "code",
   "execution_count": 40,
   "metadata": {
    "id": "W2ObcPjTvBgw"
   },
   "outputs": [],
   "source": [
    "def train_generator():\n",
    "    # Generate fake images and calculate loss\n",
    "    z = torch.Tensor(np.random.normal(0, 1, (batch_size, latent_size))).to(device)\n",
    "    gens_label = torch.randint(0, 9, (batch_size,1)).to(device)\n",
    "    fake_images = G(z, gens_label)\n",
    "    labels = torch.ones(batch_size, 1).to(device)\n",
    "    g_loss = criterion(D(fake_images, gens_label), labels)\n",
    "\n",
    "    # Backprop and optimize\n",
    "    reset_grad()\n",
    "    g_loss.backward()\n",
    "    g_optimizer.step()\n",
    "    return g_loss, fake_images"
   ]
  },
  {
   "cell_type": "markdown",
   "metadata": {
    "id": "B6PjuMssQkkL"
   },
   "source": [
    "## Start the training proccess"
   ]
  },
  {
   "cell_type": "code",
   "execution_count": 41,
   "metadata": {
    "id": "YJPoUoJzG8RC"
   },
   "outputs": [],
   "source": [
    "def save_fake_images(index):\n",
    "    # sample_vectors = torch.randn(batch_size, latent_size).to(device)\n",
    "    sample_vectors = torch.Tensor(np.random.normal(0, 1, (batch_size, latent_size))).to(device)\n",
    "    gens_label = torch.randint(0, 9, (batch_size,1)).to(device)\n",
    "    fake_images = G(sample_vectors, gens_label).to(device)\n",
    "    fake_images = fake_images.reshape(fake_images.size(0), 1, 28, 28)\n",
    "    fake_fname = 'fake_images-{0:0=4d}.png'.format(index)\n",
    "    print('Saving', fake_fname)\n",
    "    save_image(denorm(fake_images), os.path.join(sample_dir, fake_fname), nrow=10)"
   ]
  },
  {
   "cell_type": "code",
   "execution_count": 47,
   "metadata": {
    "colab": {
     "base_uri": "https://localhost:8080/"
    },
    "id": "9jMuzvUtvD26",
    "outputId": "e54ecc65-7164-46bb-9e19-8d73867a2bfc"
   },
   "outputs": [
    {
     "name": "stdout",
     "output_type": "stream",
     "text": [
      "Epoch [0/300], Step [200/600], d_loss: 0.4273, g_loss: 4.9406, D(x): 0.85, D(G(z)): 0.07\n",
      "Epoch [0/300], Step [400/600], d_loss: 0.2413, g_loss: 3.9620, D(x): 0.95, D(G(z)): 0.13\n",
      "Epoch [0/300], Step [600/600], d_loss: 1.2634, g_loss: 3.8974, D(x): 0.89, D(G(z)): 0.51\n",
      "Saving fake_images-0001.png\n",
      "Epoch [1/300], Step [200/600], d_loss: 0.7264, g_loss: 2.1606, D(x): 0.78, D(G(z)): 0.20\n",
      "Epoch [1/300], Step [400/600], d_loss: 0.3666, g_loss: 3.3381, D(x): 0.85, D(G(z)): 0.07\n",
      "Epoch [1/300], Step [600/600], d_loss: 0.0519, g_loss: 4.1042, D(x): 0.99, D(G(z)): 0.04\n",
      "Saving fake_images-0002.png\n",
      "Epoch [2/300], Step [200/600], d_loss: 0.2883, g_loss: 4.6366, D(x): 0.96, D(G(z)): 0.19\n",
      "Epoch [2/300], Step [400/600], d_loss: 0.3891, g_loss: 3.8124, D(x): 0.87, D(G(z)): 0.09\n",
      "Epoch [2/300], Step [600/600], d_loss: 0.4073, g_loss: 3.1583, D(x): 0.91, D(G(z)): 0.17\n",
      "Saving fake_images-0003.png\n",
      "Epoch [3/300], Step [200/600], d_loss: 0.1439, g_loss: 4.1337, D(x): 0.96, D(G(z)): 0.07\n",
      "Epoch [3/300], Step [400/600], d_loss: 0.1756, g_loss: 5.6399, D(x): 0.94, D(G(z)): 0.02\n",
      "Epoch [3/300], Step [600/600], d_loss: 0.1499, g_loss: 5.8880, D(x): 0.93, D(G(z)): 0.01\n",
      "Saving fake_images-0004.png\n",
      "Epoch [4/300], Step [200/600], d_loss: 0.1007, g_loss: 7.7155, D(x): 0.99, D(G(z)): 0.07\n",
      "Epoch [4/300], Step [400/600], d_loss: 0.2490, g_loss: 6.8271, D(x): 0.94, D(G(z)): 0.04\n",
      "Epoch [4/300], Step [600/600], d_loss: 0.1885, g_loss: 7.0048, D(x): 0.96, D(G(z)): 0.02\n",
      "Saving fake_images-0005.png\n",
      "Epoch [5/300], Step [200/600], d_loss: 0.2082, g_loss: 5.0778, D(x): 0.93, D(G(z)): 0.03\n",
      "Epoch [5/300], Step [400/600], d_loss: 0.0762, g_loss: 4.7149, D(x): 0.97, D(G(z)): 0.04\n",
      "Epoch [5/300], Step [600/600], d_loss: 0.0718, g_loss: 6.0051, D(x): 0.95, D(G(z)): 0.01\n",
      "Saving fake_images-0006.png\n",
      "Epoch [6/300], Step [200/600], d_loss: 0.2058, g_loss: 4.0829, D(x): 0.96, D(G(z)): 0.06\n",
      "Epoch [6/300], Step [400/600], d_loss: 0.4176, g_loss: 4.1510, D(x): 0.89, D(G(z)): 0.11\n",
      "Epoch [6/300], Step [600/600], d_loss: 0.0866, g_loss: 7.0927, D(x): 0.97, D(G(z)): 0.04\n",
      "Saving fake_images-0007.png\n",
      "Epoch [7/300], Step [200/600], d_loss: 0.3705, g_loss: 5.1734, D(x): 0.85, D(G(z)): 0.02\n",
      "Epoch [7/300], Step [400/600], d_loss: 0.2277, g_loss: 5.0657, D(x): 0.97, D(G(z)): 0.13\n",
      "Epoch [7/300], Step [600/600], d_loss: 0.2096, g_loss: 4.5177, D(x): 0.95, D(G(z)): 0.05\n",
      "Saving fake_images-0008.png\n",
      "Epoch [8/300], Step [200/600], d_loss: 0.1428, g_loss: 5.0174, D(x): 0.94, D(G(z)): 0.04\n",
      "Epoch [8/300], Step [400/600], d_loss: 0.1218, g_loss: 6.6000, D(x): 0.96, D(G(z)): 0.06\n",
      "Epoch [8/300], Step [600/600], d_loss: 0.1716, g_loss: 4.6211, D(x): 0.94, D(G(z)): 0.04\n",
      "Saving fake_images-0009.png\n",
      "Epoch [9/300], Step [200/600], d_loss: 0.1587, g_loss: 4.6990, D(x): 0.99, D(G(z)): 0.11\n",
      "Epoch [9/300], Step [400/600], d_loss: 0.1440, g_loss: 6.1863, D(x): 0.96, D(G(z)): 0.05\n",
      "Epoch [9/300], Step [600/600], d_loss: 0.2532, g_loss: 6.4314, D(x): 0.90, D(G(z)): 0.01\n",
      "Saving fake_images-0010.png\n",
      "Epoch [10/300], Step [200/600], d_loss: 0.2352, g_loss: 5.2533, D(x): 0.96, D(G(z)): 0.09\n",
      "Epoch [10/300], Step [400/600], d_loss: 0.2745, g_loss: 4.8992, D(x): 0.95, D(G(z)): 0.09\n",
      "Epoch [10/300], Step [600/600], d_loss: 0.4699, g_loss: 5.7799, D(x): 0.96, D(G(z)): 0.24\n",
      "Saving fake_images-0011.png\n",
      "Epoch [11/300], Step [200/600], d_loss: 0.5587, g_loss: 4.4170, D(x): 0.83, D(G(z)): 0.11\n",
      "Epoch [11/300], Step [400/600], d_loss: 0.2167, g_loss: 4.3312, D(x): 0.94, D(G(z)): 0.07\n",
      "Epoch [11/300], Step [600/600], d_loss: 0.2532, g_loss: 5.0152, D(x): 0.93, D(G(z)): 0.06\n",
      "Saving fake_images-0012.png\n"
     ]
    },
    {
     "ename": "KeyboardInterrupt",
     "evalue": "",
     "output_type": "error",
     "traceback": [
      "\u001b[0;31m---------------------------------------------------------------------------\u001b[0m",
      "\u001b[0;31mKeyboardInterrupt\u001b[0m                         Traceback (most recent call last)",
      "\u001b[0;32m<timed exec>\u001b[0m in \u001b[0;36m<module>\u001b[0;34m\u001b[0m\n",
      "\u001b[0;32m/tmp/ipykernel_9546/1576605870.py\u001b[0m in \u001b[0;36mtrain_generator\u001b[0;34m()\u001b[0m\n\u001b[1;32m      9\u001b[0m     \u001b[0;31m# Backprop and optimize\u001b[0m\u001b[0;34m\u001b[0m\u001b[0;34m\u001b[0m\u001b[0m\n\u001b[1;32m     10\u001b[0m     \u001b[0mreset_grad\u001b[0m\u001b[0;34m(\u001b[0m\u001b[0;34m)\u001b[0m\u001b[0;34m\u001b[0m\u001b[0;34m\u001b[0m\u001b[0m\n\u001b[0;32m---> 11\u001b[0;31m     \u001b[0mg_loss\u001b[0m\u001b[0;34m.\u001b[0m\u001b[0mbackward\u001b[0m\u001b[0;34m(\u001b[0m\u001b[0;34m)\u001b[0m\u001b[0;34m\u001b[0m\u001b[0;34m\u001b[0m\u001b[0m\n\u001b[0m\u001b[1;32m     12\u001b[0m     \u001b[0mg_optimizer\u001b[0m\u001b[0;34m.\u001b[0m\u001b[0mstep\u001b[0m\u001b[0;34m(\u001b[0m\u001b[0;34m)\u001b[0m\u001b[0;34m\u001b[0m\u001b[0;34m\u001b[0m\u001b[0m\n\u001b[1;32m     13\u001b[0m     \u001b[0;32mreturn\u001b[0m \u001b[0mg_loss\u001b[0m\u001b[0;34m,\u001b[0m \u001b[0mfake_images\u001b[0m\u001b[0;34m\u001b[0m\u001b[0;34m\u001b[0m\u001b[0m\n",
      "\u001b[0;32m~/Library/Python/3.9/lib/python/site-packages/torch/_tensor.py\u001b[0m in \u001b[0;36mbackward\u001b[0;34m(self, gradient, retain_graph, create_graph, inputs)\u001b[0m\n\u001b[1;32m    253\u001b[0m                 \u001b[0mcreate_graph\u001b[0m\u001b[0;34m=\u001b[0m\u001b[0mcreate_graph\u001b[0m\u001b[0;34m,\u001b[0m\u001b[0;34m\u001b[0m\u001b[0;34m\u001b[0m\u001b[0m\n\u001b[1;32m    254\u001b[0m                 inputs=inputs)\n\u001b[0;32m--> 255\u001b[0;31m         \u001b[0mtorch\u001b[0m\u001b[0;34m.\u001b[0m\u001b[0mautograd\u001b[0m\u001b[0;34m.\u001b[0m\u001b[0mbackward\u001b[0m\u001b[0;34m(\u001b[0m\u001b[0mself\u001b[0m\u001b[0;34m,\u001b[0m \u001b[0mgradient\u001b[0m\u001b[0;34m,\u001b[0m \u001b[0mretain_graph\u001b[0m\u001b[0;34m,\u001b[0m \u001b[0mcreate_graph\u001b[0m\u001b[0;34m,\u001b[0m \u001b[0minputs\u001b[0m\u001b[0;34m=\u001b[0m\u001b[0minputs\u001b[0m\u001b[0;34m)\u001b[0m\u001b[0;34m\u001b[0m\u001b[0;34m\u001b[0m\u001b[0m\n\u001b[0m\u001b[1;32m    256\u001b[0m \u001b[0;34m\u001b[0m\u001b[0m\n\u001b[1;32m    257\u001b[0m     \u001b[0;32mdef\u001b[0m \u001b[0mregister_hook\u001b[0m\u001b[0;34m(\u001b[0m\u001b[0mself\u001b[0m\u001b[0;34m,\u001b[0m \u001b[0mhook\u001b[0m\u001b[0;34m)\u001b[0m\u001b[0;34m:\u001b[0m\u001b[0;34m\u001b[0m\u001b[0;34m\u001b[0m\u001b[0m\n",
      "\u001b[0;32m~/Library/Python/3.9/lib/python/site-packages/torch/autograd/__init__.py\u001b[0m in \u001b[0;36mbackward\u001b[0;34m(tensors, grad_tensors, retain_graph, create_graph, grad_variables, inputs)\u001b[0m\n\u001b[1;32m    145\u001b[0m         \u001b[0mretain_graph\u001b[0m \u001b[0;34m=\u001b[0m \u001b[0mcreate_graph\u001b[0m\u001b[0;34m\u001b[0m\u001b[0;34m\u001b[0m\u001b[0m\n\u001b[1;32m    146\u001b[0m \u001b[0;34m\u001b[0m\u001b[0m\n\u001b[0;32m--> 147\u001b[0;31m     Variable._execution_engine.run_backward(\n\u001b[0m\u001b[1;32m    148\u001b[0m         \u001b[0mtensors\u001b[0m\u001b[0;34m,\u001b[0m \u001b[0mgrad_tensors_\u001b[0m\u001b[0;34m,\u001b[0m \u001b[0mretain_graph\u001b[0m\u001b[0;34m,\u001b[0m \u001b[0mcreate_graph\u001b[0m\u001b[0;34m,\u001b[0m \u001b[0minputs\u001b[0m\u001b[0;34m,\u001b[0m\u001b[0;34m\u001b[0m\u001b[0;34m\u001b[0m\u001b[0m\n\u001b[1;32m    149\u001b[0m         allow_unreachable=True, accumulate_grad=True)  # allow_unreachable flag\n",
      "\u001b[0;31mKeyboardInterrupt\u001b[0m: "
     ]
    }
   ],
   "source": [
    "%%time\n",
    "total_step = len(data_loader)\n",
    "d_losses, g_losses, real_scores, fake_scores = [], [], [], []\n",
    "G.to(device)\n",
    "D.to(device)\n",
    "for epoch in range(num_epochs):\n",
    "    for i, (images, digit) in enumerate(data_loader):\n",
    "        # Load a batch & transform to vectors\n",
    "        images = images.reshape(batch_size, -1).to(device)\n",
    "        digit = torch.LongTensor(digit).view(-1, 1).to(device)\n",
    "        # Train the discriminator and generator\n",
    "        d_loss, real_score, fake_score = train_discriminator(images, digit)\n",
    "        g_loss, fake_images = train_generator()\n",
    "        \n",
    "        # Inspect the losses\n",
    "        if (i+1) % 200 == 0:\n",
    "            d_losses.append(d_loss.item())\n",
    "            g_losses.append(g_loss.item())\n",
    "            real_scores.append(real_score.mean().item())\n",
    "            fake_scores.append(fake_score.mean().item())\n",
    "            print('Epoch [{}/{}], Step [{}/{}], d_loss: {:.4f}, g_loss: {:.4f}, D(x): {:.2f}, D(G(z)): {:.2f}' \n",
    "                  .format(epoch, num_epochs, i+1, total_step, d_loss.item(), g_loss.item(), \n",
    "                          real_score.mean().item(), fake_score.mean().item()))\n",
    "    # Sample and save images\n",
    "    save_fake_images(epoch+1)"
   ]
  },
  {
   "cell_type": "code",
   "execution_count": 48,
   "metadata": {
    "colab": {
     "base_uri": "https://localhost:8080/",
     "height": 319
    },
    "id": "EMhcZnLyGpTC",
    "outputId": "bc3a9ce9-c942-4cfe-f95e-7227b2d71dee"
   },
   "outputs": [
    {
     "data": {
      "image/png": "[encoded data removed]",
      "text/plain": [
       "<IPython.core.display.Image object>"
      ]
     },
     "execution_count": 48,
     "metadata": {},
     "output_type": "execute_result"
    }
   ],
   "source": [
    "Image(os.path.join(sample_dir, 'fake_images-0012.png'))"
   ]
  },
  {
   "cell_type": "code",
   "execution_count": 49,
   "metadata": {
    "colab": {
     "base_uri": "https://localhost:8080/"
    },
    "id": "e2ILxuBX1SyM",
    "outputId": "ca77d3b8-de5e-4c93-c5bd-8c18383ac76a"
   },
   "outputs": [
    {
     "data": {
      "text/plain": [
       "torch.Size([2, 1])"
      ]
     },
     "execution_count": 49,
     "metadata": {},
     "output_type": "execute_result"
    }
   ],
   "source": [
    "x= torch.LongTensor([1, 1]).view(-1,1)\n",
    "x.shape"
   ]
  },
  {
   "cell_type": "code",
   "execution_count": 50,
   "metadata": {
    "colab": {
     "base_uri": "https://localhost:8080/",
     "height": 299
    },
    "id": "M9ppaAuFH3zm",
    "outputId": "8eb1a567-b911-4765-c150-a167936cbab5"
   },
   "outputs": [
    {
     "data": {
      "image/png": "[encoded data removed]",
      "text/plain": [
       "<Figure size 432x288 with 1 Axes>"
      ]
     },
     "metadata": {},
     "output_type": "display_data"
    }
   ],
   "source": [
    "plt.plot(d_losses, '-')\n",
    "plt.plot(g_losses, '-')\n",
    "plt.xlabel('epoch')\n",
    "plt.ylabel('loss')\n",
    "plt.legend(['Discriminator', 'Generator'])\n",
    "plt.title('Losses');"
   ]
  },
  {
   "cell_type": "code",
   "execution_count": 51,
   "metadata": {
    "colab": {
     "base_uri": "https://localhost:8080/",
     "height": 299
    },
    "id": "k6ssGF3oJLm9",
    "outputId": "36c4aad8-3974-4b9b-d9dc-296f155ab654"
   },
   "outputs": [
    {
     "data": {
      "image/png": "[encoded data removed]",
      "text/plain": [
       "<Figure size 432x288 with 1 Axes>"
      ]
     },
     "metadata": {},
     "output_type": "display_data"
    }
   ],
   "source": [
    "plt.plot(real_scores, '-')\n",
    "plt.plot(fake_scores, '-')\n",
    "plt.xlabel('epoch')\n",
    "plt.ylabel('score')\n",
    "plt.legend(['Real Score', 'Fake score'])\n",
    "plt.title('Scores');"
   ]
  },
  {
   "cell_type": "code",
   "execution_count": null,
   "metadata": {},
   "outputs": [],
   "source": []
  },
  {
   "cell_type": "code",
   "execution_count": null,
   "metadata": {},
   "outputs": [],
   "source": []
  }
 ],
 "metadata": {
  "accelerator": "GPU",
  "colab": {
   "collapsed_sections": [],
   "name": "04-mnist-cgan.ipynb",
   "provenance": []
  },
  "kernelspec": {
   "display_name": "Python 3 (ipykernel)",
   "language": "python",
   "name": "python3"
  },
  "language_info": {
   "codemirror_mode": {
    "name": "ipython",
    "version": 3
   },
   "file_extension": ".py",
   "mimetype": "text/x-python",
   "name": "python",
   "nbconvert_exporter": "python",
   "pygments_lexer": "ipython3",
   "version": "3.9.7"
  },
  "widgets": {
   "application/vnd.jupyter.widget-state+json": {
    "02c25d81b5314f4d822df679cdf8d4b4": {
     "model_module": "@jupyter-widgets/controls",
     "model_name": "FloatProgressModel",
     "state": {
      "_dom_classes": [],
      "_model_module": "@jupyter-widgets/controls",
      "_model_module_version": "1.5.0",
      "_model_name": "FloatProgressModel",
      "_view_count": null,
      "_view_module": "@jupyter-widgets/controls",
      "_view_module_version": "1.5.0",
      "_view_name": "ProgressView",
      "bar_style": "success",
      "description": "",
      "description_tooltip": null,
      "layout": "IPY_MODEL_26be418379504f8f818c35aebb70cec7",
      "max": 4542,
      "min": 0,
      "orientation": "horizontal",
      "style": "IPY_MODEL_5e12988a92a54c43b4060ae41a11688d",
      "value": 4542
     }
    },
    "10ba1fdeca8a4ffe9935aab283474689": {
     "model_module": "@jupyter-widgets/controls",
     "model_name": "ProgressStyleModel",
     "state": {
      "_model_module": "@jupyter-widgets/controls",
      "_model_module_version": "1.5.0",
      "_model_name": "ProgressStyleModel",
      "_view_count": null,
      "_view_module": "@jupyter-widgets/base",
      "_view_module_version": "1.2.0",
      "_view_name": "StyleView",
      "bar_color": null,
      "description_width": "initial"
     }
    },
    "135057bbf8144b5fbef7c115c71086d3": {
     "model_module": "@jupyter-widgets/controls",
     "model_name": "FloatProgressModel",
     "state": {
      "_dom_classes": [],
      "_model_module": "@jupyter-widgets/controls",
      "_model_module_version": "1.5.0",
      "_model_name": "FloatProgressModel",
      "_view_count": null,
      "_view_module": "@jupyter-widgets/controls",
      "_view_module_version": "1.5.0",
      "_view_name": "ProgressView",
      "bar_style": "success",
      "description": "",
      "description_tooltip": null,
      "layout": "IPY_MODEL_42a6cfec000b4bd58a0bff61a296b79e",
      "max": 1648877,
      "min": 0,
      "orientation": "horizontal",
      "style": "IPY_MODEL_a6d4118885dd410d99f5336eff639165",
      "value": 1648877
     }
    },
    "1f825ed06a094a248f5f59fc168a4755": {
     "model_module": "@jupyter-widgets/base",
     "model_name": "LayoutModel",
     "state": {
      "_model_module": "@jupyter-widgets/base",
      "_model_module_version": "1.2.0",
      "_model_name": "LayoutModel",
      "_view_count": null,
      "_view_module": "@jupyter-widgets/base",
      "_view_module_version": "1.2.0",
      "_view_name": "LayoutView",
      "align_content": null,
      "align_items": null,
      "align_self": null,
      "border": null,
      "bottom": null,
      "display": null,
      "flex": null,
      "flex_flow": null,
      "grid_area": null,
      "grid_auto_columns": null,
      "grid_auto_flow": null,
      "grid_auto_rows": null,
      "grid_column": null,
      "grid_gap": null,
      "grid_row": null,
      "grid_template_areas": null,
      "grid_template_columns": null,
      "grid_template_rows": null,
      "height": null,
      "justify_content": null,
      "justify_items": null,
      "left": null,
      "margin": null,
      "max_height": null,
      "max_width": null,
      "min_height": null,
      "min_width": null,
      "object_fit": null,
      "object_position": null,
      "order": null,
      "overflow": null,
      "overflow_x": null,
      "overflow_y": null,
      "padding": null,
      "right": null,
      "top": null,
      "visibility": null,
      "width": null
     }
    },
    "2080fb3f851d4ca59c7dd3f468adfbec": {
     "model_module": "@jupyter-widgets/base",
     "model_name": "LayoutModel",
     "state": {
      "_model_module": "@jupyter-widgets/base",
      "_model_module_version": "1.2.0",
      "_model_name": "LayoutModel",
      "_view_count": null,
      "_view_module": "@jupyter-widgets/base",
      "_view_module_version": "1.2.0",
      "_view_name": "LayoutView",
      "align_content": null,
      "align_items": null,
      "align_self": null,
      "border": null,
      "bottom": null,
      "display": null,
      "flex": null,
      "flex_flow": null,
      "grid_area": null,
      "grid_auto_columns": null,
      "grid_auto_flow": null,
      "grid_auto_rows": null,
      "grid_column": null,
      "grid_gap": null,
      "grid_row": null,
      "grid_template_areas": null,
      "grid_template_columns": null,
      "grid_template_rows": null,
      "height": null,
      "justify_content": null,
      "justify_items": null,
      "left": null,
      "margin": null,
      "max_height": null,
      "max_width": null,
      "min_height": null,
      "min_width": null,
      "object_fit": null,
      "object_position": null,
      "order": null,
      "overflow": null,
      "overflow_x": null,
      "overflow_y": null,
      "padding": null,
      "right": null,
      "top": null,
      "visibility": null,
      "width": null
     }
    },
    "240882ec19b74193abfa76268d150e3b": {
     "model_module": "@jupyter-widgets/base",
     "model_name": "LayoutModel",
     "state": {
      "_model_module": "@jupyter-widgets/base",
      "_model_module_version": "1.2.0",
      "_model_name": "LayoutModel",
      "_view_count": null,
      "_view_module": "@jupyter-widgets/base",
      "_view_module_version": "1.2.0",
      "_view_name": "LayoutView",
      "align_content": null,
      "align_items": null,
      "align_self": null,
      "border": null,
      "bottom": null,
      "display": null,
      "flex": null,
      "flex_flow": null,
      "grid_area": null,
      "grid_auto_columns": null,
      "grid_auto_flow": null,
      "grid_auto_rows": null,
      "grid_column": null,
      "grid_gap": null,
      "grid_row": null,
      "grid_template_areas": null,
      "grid_template_columns": null,
      "grid_template_rows": null,
      "height": null,
      "justify_content": null,
      "justify_items": null,
      "left": null,
      "margin": null,
      "max_height": null,
      "max_width": null,
      "min_height": null,
      "min_width": null,
      "object_fit": null,
      "object_position": null,
      "order": null,
      "overflow": null,
      "overflow_x": null,
      "overflow_y": null,
      "padding": null,
      "right": null,
      "top": null,
      "visibility": null,
      "width": null
     }
    },
    "26be418379504f8f818c35aebb70cec7": {
     "model_module": "@jupyter-widgets/base",
     "model_name": "LayoutModel",
     "state": {
      "_model_module": "@jupyter-widgets/base",
      "_model_module_version": "1.2.0",
      "_model_name": "LayoutModel",
      "_view_count": null,
      "_view_module": "@jupyter-widgets/base",
      "_view_module_version": "1.2.0",
      "_view_name": "LayoutView",
      "align_content": null,
      "align_items": null,
      "align_self": null,
      "border": null,
      "bottom": null,
      "display": null,
      "flex": null,
      "flex_flow": null,
      "grid_area": null,
      "grid_auto_columns": null,
      "grid_auto_flow": null,
      "grid_auto_rows": null,
      "grid_column": null,
      "grid_gap": null,
      "grid_row": null,
      "grid_template_areas": null,
      "grid_template_columns": null,
      "grid_template_rows": null,
      "height": null,
      "justify_content": null,
      "justify_items": null,
      "left": null,
      "margin": null,
      "max_height": null,
      "max_width": null,
      "min_height": null,
      "min_width": null,
      "object_fit": null,
      "object_position": null,
      "order": null,
      "overflow": null,
      "overflow_x": null,
      "overflow_y": null,
      "padding": null,
      "right": null,
      "top": null,
      "visibility": null,
      "width": null
     }
    },
    "2885906f5c524d0aaacdee85c862f4f7": {
     "model_module": "@jupyter-widgets/base",
     "model_name": "LayoutModel",
     "state": {
      "_model_module": "@jupyter-widgets/base",
      "_model_module_version": "1.2.0",
      "_model_name": "LayoutModel",
      "_view_count": null,
      "_view_module": "@jupyter-widgets/base",
      "_view_module_version": "1.2.0",
      "_view_name": "LayoutView",
      "align_content": null,
      "align_items": null,
      "align_self": null,
      "border": null,
      "bottom": null,
      "display": null,
      "flex": null,
      "flex_flow": null,
      "grid_area": null,
      "grid_auto_columns": null,
      "grid_auto_flow": null,
      "grid_auto_rows": null,
      "grid_column": null,
      "grid_gap": null,
      "grid_row": null,
      "grid_template_areas": null,
      "grid_template_columns": null,
      "grid_template_rows": null,
      "height": null,
      "justify_content": null,
      "justify_items": null,
      "left": null,
      "margin": null,
      "max_height": null,
      "max_width": null,
      "min_height": null,
      "min_width": null,
      "object_fit": null,
      "object_position": null,
      "order": null,
      "overflow": null,
      "overflow_x": null,
      "overflow_y": null,
      "padding": null,
      "right": null,
      "top": null,
      "visibility": null,
      "width": null
     }
    },
    "3207ae50a7a94a45b94d117b09b311ef": {
     "model_module": "@jupyter-widgets/controls",
     "model_name": "HTMLModel",
     "state": {
      "_dom_classes": [],
      "_model_module": "@jupyter-widgets/controls",
      "_model_module_version": "1.5.0",
      "_model_name": "HTMLModel",
      "_view_count": null,
      "_view_module": "@jupyter-widgets/controls",
      "_view_module_version": "1.5.0",
      "_view_name": "HTMLView",
      "description": "",
      "description_tooltip": null,
      "layout": "IPY_MODEL_e19aa4fc23444df09fd320fcc2d771d3",
      "placeholder": "​",
      "style": "IPY_MODEL_6a2b159b11be446e860cdf2d2ef7e216",
      "value": " 1649664/? [00:00&lt;00:00, 2565305.13it/s]"
     }
    },
    "38a1c6002ee34237b427670b41f54ee4": {
     "model_module": "@jupyter-widgets/base",
     "model_name": "LayoutModel",
     "state": {
      "_model_module": "@jupyter-widgets/base",
      "_model_module_version": "1.2.0",
      "_model_name": "LayoutModel",
      "_view_count": null,
      "_view_module": "@jupyter-widgets/base",
      "_view_module_version": "1.2.0",
      "_view_name": "LayoutView",
      "align_content": null,
      "align_items": null,
      "align_self": null,
      "border": null,
      "bottom": null,
      "display": null,
      "flex": null,
      "flex_flow": null,
      "grid_area": null,
      "grid_auto_columns": null,
      "grid_auto_flow": null,
      "grid_auto_rows": null,
      "grid_column": null,
      "grid_gap": null,
      "grid_row": null,
      "grid_template_areas": null,
      "grid_template_columns": null,
      "grid_template_rows": null,
      "height": null,
      "justify_content": null,
      "justify_items": null,
      "left": null,
      "margin": null,
      "max_height": null,
      "max_width": null,
      "min_height": null,
      "min_width": null,
      "object_fit": null,
      "object_position": null,
      "order": null,
      "overflow": null,
      "overflow_x": null,
      "overflow_y": null,
      "padding": null,
      "right": null,
      "top": null,
      "visibility": null,
      "width": null
     }
    },
    "397966388fff4bc19ba5c5da218abb8c": {
     "model_module": "@jupyter-widgets/controls",
     "model_name": "FloatProgressModel",
     "state": {
      "_dom_classes": [],
      "_model_module": "@jupyter-widgets/controls",
      "_model_module_version": "1.5.0",
      "_model_name": "FloatProgressModel",
      "_view_count": null,
      "_view_module": "@jupyter-widgets/controls",
      "_view_module_version": "1.5.0",
      "_view_name": "ProgressView",
      "bar_style": "success",
      "description": "",
      "description_tooltip": null,
      "layout": "IPY_MODEL_2080fb3f851d4ca59c7dd3f468adfbec",
      "max": 28881,
      "min": 0,
      "orientation": "horizontal",
      "style": "IPY_MODEL_ef53bc4de1614c4eb53ccbff6ccdbfbb",
      "value": 28881
     }
    },
    "42a6cfec000b4bd58a0bff61a296b79e": {
     "model_module": "@jupyter-widgets/base",
     "model_name": "LayoutModel",
     "state": {
      "_model_module": "@jupyter-widgets/base",
      "_model_module_version": "1.2.0",
      "_model_name": "LayoutModel",
      "_view_count": null,
      "_view_module": "@jupyter-widgets/base",
      "_view_module_version": "1.2.0",
      "_view_name": "LayoutView",
      "align_content": null,
      "align_items": null,
      "align_self": null,
      "border": null,
      "bottom": null,
      "display": null,
      "flex": null,
      "flex_flow": null,
      "grid_area": null,
      "grid_auto_columns": null,
      "grid_auto_flow": null,
      "grid_auto_rows": null,
      "grid_column": null,
      "grid_gap": null,
      "grid_row": null,
      "grid_template_areas": null,
      "grid_template_columns": null,
      "grid_template_rows": null,
      "height": null,
      "justify_content": null,
      "justify_items": null,
      "left": null,
      "margin": null,
      "max_height": null,
      "max_width": null,
      "min_height": null,
      "min_width": null,
      "object_fit": null,
      "object_position": null,
      "order": null,
      "overflow": null,
      "overflow_x": null,
      "overflow_y": null,
      "padding": null,
      "right": null,
      "top": null,
      "visibility": null,
      "width": null
     }
    },
    "451eb1d8a0ce4737ad1a6997d4b72dbd": {
     "model_module": "@jupyter-widgets/controls",
     "model_name": "FloatProgressModel",
     "state": {
      "_dom_classes": [],
      "_model_module": "@jupyter-widgets/controls",
      "_model_module_version": "1.5.0",
      "_model_name": "FloatProgressModel",
      "_view_count": null,
      "_view_module": "@jupyter-widgets/controls",
      "_view_module_version": "1.5.0",
      "_view_name": "ProgressView",
      "bar_style": "success",
      "description": "",
      "description_tooltip": null,
      "layout": "IPY_MODEL_ad79f63c6ddb4cc7b36ad6bec1b744c4",
      "max": 9912422,
      "min": 0,
      "orientation": "horizontal",
      "style": "IPY_MODEL_10ba1fdeca8a4ffe9935aab283474689",
      "value": 9912422
     }
    },
    "45850cd1b008498793b6acc86cc52a49": {
     "model_module": "@jupyter-widgets/base",
     "model_name": "LayoutModel",
     "state": {
      "_model_module": "@jupyter-widgets/base",
      "_model_module_version": "1.2.0",
      "_model_name": "LayoutModel",
      "_view_count": null,
      "_view_module": "@jupyter-widgets/base",
      "_view_module_version": "1.2.0",
      "_view_name": "LayoutView",
      "align_content": null,
      "align_items": null,
      "align_self": null,
      "border": null,
      "bottom": null,
      "display": null,
      "flex": null,
      "flex_flow": null,
      "grid_area": null,
      "grid_auto_columns": null,
      "grid_auto_flow": null,
      "grid_auto_rows": null,
      "grid_column": null,
      "grid_gap": null,
      "grid_row": null,
      "grid_template_areas": null,
      "grid_template_columns": null,
      "grid_template_rows": null,
      "height": null,
      "justify_content": null,
      "justify_items": null,
      "left": null,
      "margin": null,
      "max_height": null,
      "max_width": null,
      "min_height": null,
      "min_width": null,
      "object_fit": null,
      "object_position": null,
      "order": null,
      "overflow": null,
      "overflow_x": null,
      "overflow_y": null,
      "padding": null,
      "right": null,
      "top": null,
      "visibility": null,
      "width": null
     }
    },
    "4d2170726eb843f0b25963559c31b4be": {
     "model_module": "@jupyter-widgets/base",
     "model_name": "LayoutModel",
     "state": {
      "_model_module": "@jupyter-widgets/base",
      "_model_module_version": "1.2.0",
      "_model_name": "LayoutModel",
      "_view_count": null,
      "_view_module": "@jupyter-widgets/base",
      "_view_module_version": "1.2.0",
      "_view_name": "LayoutView",
      "align_content": null,
      "align_items": null,
      "align_self": null,
      "border": null,
      "bottom": null,
      "display": null,
      "flex": null,
      "flex_flow": null,
      "grid_area": null,
      "grid_auto_columns": null,
      "grid_auto_flow": null,
      "grid_auto_rows": null,
      "grid_column": null,
      "grid_gap": null,
      "grid_row": null,
      "grid_template_areas": null,
      "grid_template_columns": null,
      "grid_template_rows": null,
      "height": null,
      "justify_content": null,
      "justify_items": null,
      "left": null,
      "margin": null,
      "max_height": null,
      "max_width": null,
      "min_height": null,
      "min_width": null,
      "object_fit": null,
      "object_position": null,
      "order": null,
      "overflow": null,
      "overflow_x": null,
      "overflow_y": null,
      "padding": null,
      "right": null,
      "top": null,
      "visibility": null,
      "width": null
     }
    },
    "4e2cc41771b44dd6bc2cb51447d21698": {
     "model_module": "@jupyter-widgets/controls",
     "model_name": "HTMLModel",
     "state": {
      "_dom_classes": [],
      "_model_module": "@jupyter-widgets/controls",
      "_model_module_version": "1.5.0",
      "_model_name": "HTMLModel",
      "_view_count": null,
      "_view_module": "@jupyter-widgets/controls",
      "_view_module_version": "1.5.0",
      "_view_name": "HTMLView",
      "description": "",
      "description_tooltip": null,
      "layout": "IPY_MODEL_1f825ed06a094a248f5f59fc168a4755",
      "placeholder": "​",
      "style": "IPY_MODEL_5ab59fb0c7dd47af8de24a452654efaf",
      "value": " 5120/? [00:00&lt;00:00, 41084.28it/s]"
     }
    },
    "4eb714080d624efeb6544e947f92739a": {
     "model_module": "@jupyter-widgets/controls",
     "model_name": "HTMLModel",
     "state": {
      "_dom_classes": [],
      "_model_module": "@jupyter-widgets/controls",
      "_model_module_version": "1.5.0",
      "_model_name": "HTMLModel",
      "_view_count": null,
      "_view_module": "@jupyter-widgets/controls",
      "_view_module_version": "1.5.0",
      "_view_name": "HTMLView",
      "description": "",
      "description_tooltip": null,
      "layout": "IPY_MODEL_b92209085cb94fe2b375f61a16173901",
      "placeholder": "​",
      "style": "IPY_MODEL_ccef5b049c8f42b2b5776aedb3339dbc",
      "value": " 9913344/? [00:01&lt;00:00, 5047201.57it/s]"
     }
    },
    "5ab59fb0c7dd47af8de24a452654efaf": {
     "model_module": "@jupyter-widgets/controls",
     "model_name": "DescriptionStyleModel",
     "state": {
      "_model_module": "@jupyter-widgets/controls",
      "_model_module_version": "1.5.0",
      "_model_name": "DescriptionStyleModel",
      "_view_count": null,
      "_view_module": "@jupyter-widgets/base",
      "_view_module_version": "1.2.0",
      "_view_name": "StyleView",
      "description_width": ""
     }
    },
    "5e12988a92a54c43b4060ae41a11688d": {
     "model_module": "@jupyter-widgets/controls",
     "model_name": "ProgressStyleModel",
     "state": {
      "_model_module": "@jupyter-widgets/controls",
      "_model_module_version": "1.5.0",
      "_model_name": "ProgressStyleModel",
      "_view_count": null,
      "_view_module": "@jupyter-widgets/base",
      "_view_module_version": "1.2.0",
      "_view_name": "StyleView",
      "bar_color": null,
      "description_width": "initial"
     }
    },
    "60dd5d93a5fb4156b80fac44b752c4d3": {
     "model_module": "@jupyter-widgets/controls",
     "model_name": "HBoxModel",
     "state": {
      "_dom_classes": [],
      "_model_module": "@jupyter-widgets/controls",
      "_model_module_version": "1.5.0",
      "_model_name": "HBoxModel",
      "_view_count": null,
      "_view_module": "@jupyter-widgets/controls",
      "_view_module_version": "1.5.0",
      "_view_name": "HBoxView",
      "box_style": "",
      "children": [
       "IPY_MODEL_397966388fff4bc19ba5c5da218abb8c",
       "IPY_MODEL_b60e621439c440b1a38b53b84c13111f"
      ],
      "layout": "IPY_MODEL_2885906f5c524d0aaacdee85c862f4f7"
     }
    },
    "69289827284748f88c1ddd2ba1b93d56": {
     "model_module": "@jupyter-widgets/controls",
     "model_name": "DescriptionStyleModel",
     "state": {
      "_model_module": "@jupyter-widgets/controls",
      "_model_module_version": "1.5.0",
      "_model_name": "DescriptionStyleModel",
      "_view_count": null,
      "_view_module": "@jupyter-widgets/base",
      "_view_module_version": "1.2.0",
      "_view_name": "StyleView",
      "description_width": ""
     }
    },
    "6a2b159b11be446e860cdf2d2ef7e216": {
     "model_module": "@jupyter-widgets/controls",
     "model_name": "DescriptionStyleModel",
     "state": {
      "_model_module": "@jupyter-widgets/controls",
      "_model_module_version": "1.5.0",
      "_model_name": "DescriptionStyleModel",
      "_view_count": null,
      "_view_module": "@jupyter-widgets/base",
      "_view_module_version": "1.2.0",
      "_view_name": "StyleView",
      "description_width": ""
     }
    },
    "6f979d4a5dab4edd9452645af557c5df": {
     "model_module": "@jupyter-widgets/controls",
     "model_name": "HBoxModel",
     "state": {
      "_dom_classes": [],
      "_model_module": "@jupyter-widgets/controls",
      "_model_module_version": "1.5.0",
      "_model_name": "HBoxModel",
      "_view_count": null,
      "_view_module": "@jupyter-widgets/controls",
      "_view_module_version": "1.5.0",
      "_view_name": "HBoxView",
      "box_style": "",
      "children": [
       "IPY_MODEL_02c25d81b5314f4d822df679cdf8d4b4",
       "IPY_MODEL_4e2cc41771b44dd6bc2cb51447d21698"
      ],
      "layout": "IPY_MODEL_38a1c6002ee34237b427670b41f54ee4"
     }
    },
    "83958d78599949438832b745ee7fc93b": {
     "model_module": "@jupyter-widgets/controls",
     "model_name": "HBoxModel",
     "state": {
      "_dom_classes": [],
      "_model_module": "@jupyter-widgets/controls",
      "_model_module_version": "1.5.0",
      "_model_name": "HBoxModel",
      "_view_count": null,
      "_view_module": "@jupyter-widgets/controls",
      "_view_module_version": "1.5.0",
      "_view_name": "HBoxView",
      "box_style": "",
      "children": [
       "IPY_MODEL_451eb1d8a0ce4737ad1a6997d4b72dbd",
       "IPY_MODEL_4eb714080d624efeb6544e947f92739a"
      ],
      "layout": "IPY_MODEL_4d2170726eb843f0b25963559c31b4be"
     }
    },
    "a6d4118885dd410d99f5336eff639165": {
     "model_module": "@jupyter-widgets/controls",
     "model_name": "ProgressStyleModel",
     "state": {
      "_model_module": "@jupyter-widgets/controls",
      "_model_module_version": "1.5.0",
      "_model_name": "ProgressStyleModel",
      "_view_count": null,
      "_view_module": "@jupyter-widgets/base",
      "_view_module_version": "1.2.0",
      "_view_name": "StyleView",
      "bar_color": null,
      "description_width": "initial"
     }
    },
    "ad79f63c6ddb4cc7b36ad6bec1b744c4": {
     "model_module": "@jupyter-widgets/base",
     "model_name": "LayoutModel",
     "state": {
      "_model_module": "@jupyter-widgets/base",
      "_model_module_version": "1.2.0",
      "_model_name": "LayoutModel",
      "_view_count": null,
      "_view_module": "@jupyter-widgets/base",
      "_view_module_version": "1.2.0",
      "_view_name": "LayoutView",
      "align_content": null,
      "align_items": null,
      "align_self": null,
      "border": null,
      "bottom": null,
      "display": null,
      "flex": null,
      "flex_flow": null,
      "grid_area": null,
      "grid_auto_columns": null,
      "grid_auto_flow": null,
      "grid_auto_rows": null,
      "grid_column": null,
      "grid_gap": null,
      "grid_row": null,
      "grid_template_areas": null,
      "grid_template_columns": null,
      "grid_template_rows": null,
      "height": null,
      "justify_content": null,
      "justify_items": null,
      "left": null,
      "margin": null,
      "max_height": null,
      "max_width": null,
      "min_height": null,
      "min_width": null,
      "object_fit": null,
      "object_position": null,
      "order": null,
      "overflow": null,
      "overflow_x": null,
      "overflow_y": null,
      "padding": null,
      "right": null,
      "top": null,
      "visibility": null,
      "width": null
     }
    },
    "b60e621439c440b1a38b53b84c13111f": {
     "model_module": "@jupyter-widgets/controls",
     "model_name": "HTMLModel",
     "state": {
      "_dom_classes": [],
      "_model_module": "@jupyter-widgets/controls",
      "_model_module_version": "1.5.0",
      "_model_name": "HTMLModel",
      "_view_count": null,
      "_view_module": "@jupyter-widgets/controls",
      "_view_module_version": "1.5.0",
      "_view_name": "HTMLView",
      "description": "",
      "description_tooltip": null,
      "layout": "IPY_MODEL_240882ec19b74193abfa76268d150e3b",
      "placeholder": "​",
      "style": "IPY_MODEL_69289827284748f88c1ddd2ba1b93d56",
      "value": " 29696/? [00:00&lt;00:00, 64240.74it/s]"
     }
    },
    "b92209085cb94fe2b375f61a16173901": {
     "model_module": "@jupyter-widgets/base",
     "model_name": "LayoutModel",
     "state": {
      "_model_module": "@jupyter-widgets/base",
      "_model_module_version": "1.2.0",
      "_model_name": "LayoutModel",
      "_view_count": null,
      "_view_module": "@jupyter-widgets/base",
      "_view_module_version": "1.2.0",
      "_view_name": "LayoutView",
      "align_content": null,
      "align_items": null,
      "align_self": null,
      "border": null,
      "bottom": null,
      "display": null,
      "flex": null,
      "flex_flow": null,
      "grid_area": null,
      "grid_auto_columns": null,
      "grid_auto_flow": null,
      "grid_auto_rows": null,
      "grid_column": null,
      "grid_gap": null,
      "grid_row": null,
      "grid_template_areas": null,
      "grid_template_columns": null,
      "grid_template_rows": null,
      "height": null,
      "justify_content": null,
      "justify_items": null,
      "left": null,
      "margin": null,
      "max_height": null,
      "max_width": null,
      "min_height": null,
      "min_width": null,
      "object_fit": null,
      "object_position": null,
      "order": null,
      "overflow": null,
      "overflow_x": null,
      "overflow_y": null,
      "padding": null,
      "right": null,
      "top": null,
      "visibility": null,
      "width": null
     }
    },
    "ccef5b049c8f42b2b5776aedb3339dbc": {
     "model_module": "@jupyter-widgets/controls",
     "model_name": "DescriptionStyleModel",
     "state": {
      "_model_module": "@jupyter-widgets/controls",
      "_model_module_version": "1.5.0",
      "_model_name": "DescriptionStyleModel",
      "_view_count": null,
      "_view_module": "@jupyter-widgets/base",
      "_view_module_version": "1.2.0",
      "_view_name": "StyleView",
      "description_width": ""
     }
    },
    "dd76ed0d4ae944f6a321a6b88dc2d02b": {
     "model_module": "@jupyter-widgets/controls",
     "model_name": "HBoxModel",
     "state": {
      "_dom_classes": [],
      "_model_module": "@jupyter-widgets/controls",
      "_model_module_version": "1.5.0",
      "_model_name": "HBoxModel",
      "_view_count": null,
      "_view_module": "@jupyter-widgets/controls",
      "_view_module_version": "1.5.0",
      "_view_name": "HBoxView",
      "box_style": "",
      "children": [
       "IPY_MODEL_135057bbf8144b5fbef7c115c71086d3",
       "IPY_MODEL_3207ae50a7a94a45b94d117b09b311ef"
      ],
      "layout": "IPY_MODEL_45850cd1b008498793b6acc86cc52a49"
     }
    },
    "e19aa4fc23444df09fd320fcc2d771d3": {
     "model_module": "@jupyter-widgets/base",
     "model_name": "LayoutModel",
     "state": {
      "_model_module": "@jupyter-widgets/base",
      "_model_module_version": "1.2.0",
      "_model_name": "LayoutModel",
      "_view_count": null,
      "_view_module": "@jupyter-widgets/base",
      "_view_module_version": "1.2.0",
      "_view_name": "LayoutView",
      "align_content": null,
      "align_items": null,
      "align_self": null,
      "border": null,
      "bottom": null,
      "display": null,
      "flex": null,
      "flex_flow": null,
      "grid_area": null,
      "grid_auto_columns": null,
      "grid_auto_flow": null,
      "grid_auto_rows": null,
      "grid_column": null,
      "grid_gap": null,
      "grid_row": null,
      "grid_template_areas": null,
      "grid_template_columns": null,
      "grid_template_rows": null,
      "height": null,
      "justify_content": null,
      "justify_items": null,
      "left": null,
      "margin": null,
      "max_height": null,
      "max_width": null,
      "min_height": null,
      "min_width": null,
      "object_fit": null,
      "object_position": null,
      "order": null,
      "overflow": null,
      "overflow_x": null,
      "overflow_y": null,
      "padding": null,
      "right": null,
      "top": null,
      "visibility": null,
      "width": null
     }
    },
    "ef53bc4de1614c4eb53ccbff6ccdbfbb": {
     "model_module": "@jupyter-widgets/controls",
     "model_name": "ProgressStyleModel",
     "state": {
      "_model_module": "@jupyter-widgets/controls",
      "_model_module_version": "1.5.0",
      "_model_name": "ProgressStyleModel",
      "_view_count": null,
      "_view_module": "@jupyter-widgets/base",
      "_view_module_version": "1.2.0",
      "_view_name": "StyleView",
      "bar_color": null,
      "description_width": "initial"
     }
    }
   }
  }
 },
 "nbformat": 4,
 "nbformat_minor": 1
}
